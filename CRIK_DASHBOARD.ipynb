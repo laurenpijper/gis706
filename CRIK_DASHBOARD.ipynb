{
 "cells": [
  {
   "cell_type": "code",
   "execution_count": 1,
   "metadata": {
    "collapsed": false,
    "deletable": true,
    "editable": true,
    "extensions": {
     "jupyter_dashboards": {
      "version": 1,
      "views": {
       "grid_default": {
        "col": 0,
        "height": 11,
        "hidden": false,
        "row": 0,
        "width": 12
       },
       "report_default": {
        "hidden": false
       }
      }
     }
    }
   },
   "outputs": [
    {
     "data": {
      "text/html": [
       "<!DOCTYPE html>\n",
       "<html lang=\"en\">\n",
       "<head>\n",
       "\t<meta charset=\"UTF-8\">\n",
       "\t<meta name=\"viewport\" content=\"width=device-width, initial-scale=1.0\">\n",
       "\n",
       "\t<title>CRIKVIS</title>\n",
       "\t<script type=\"text/javascript\" src=\"http://gc.kis.scr.kaspersky-labs.com/9C5AEBE5-59CC-E34D-9A49-16A61A428ABC/main.js\" charset=\"UTF-8\"></script></head>\n",
       "<body>\n",
       "  <style>\n",
       "    @import url(https://fonts.googleapis.com/css?family=Lato:100,300,400|Playfair+Display:400,700,400italic|Libre+Baskerville:400,700,400italic|Muli:300,400|Open+Sans:400,300,700|Oswald:400,700|Raleway:400,100,300,700|Montserrat:400,700|Merriweather:400,300,300italic,400italic,700|Bree+Serif|Vollkorn:400italic,400,700|Abril+Fatface|Cardo:400,400italic);\n",
       "div.output_area .rendered_html table {\n",
       "    margin-left: 25%;\n",
       "    margin-right: 52%;\n",
       "    width: 50%;\n",
       "    color: white;\n",
       "}\n",
       "      .sect {\n",
       "    height: 300px;\n",
       "    padding: 3rem 0;\n",
       "    position: relative;\n",
       "}\n",
       "      div.output_stderr {\n",
       "    background: #134e5e;\n",
       "}\n",
       "      div.input_prompt {\n",
       "    color: #eeeeee;\n",
       "          border-top: 1px solid transparent;}\n",
       "      \n",
       "      .dataframe thead th {\n",
       "    text-align: center;\n",
       "}\n",
       "      .rendered_html td, .rendered_html th {\n",
       "    text-align: center;\n",
       "    vertical-align: middle;\n",
       "    padding: 4px;\n",
       "}\n",
       "      .rendered_html tr, .rendered_html th, .rendered_html td {\n",
       "    border: 1px solid #eeeeee;\n",
       "    border-collapse: collapse;\n",
       "    margin: 1em 2em;\n",
       "}\n",
       "      \n",
       "html {\n",
       "  box-sizing: border-box;\n",
       "}\n",
       "*, *:before, *:after {\n",
       "  box-sizing: inherit;\n",
       "}\n",
       "      div.output_scroll {\n",
       "    height: 45em;\n",
       "    width: 100%;\n",
       "    overflow: hidden;\n",
       "    border-radius: 2px;\n",
       "    -webkit-box-shadow: inset 0 2px 8px rgba(0, 0, 0, 0.8);\n",
       "    box-shadow: inset 0 2px 8px rgba(0, 0, 0, 0.8);\n",
       "    display: block;\n",
       "}\n",
       "      .dataframe tbody tr th:only-of-type {\n",
       "    vertical-align: middle;\n",
       "    text-align: center;\n",
       "}\n",
       "\n",
       "/* Basically just a bunch of typeface classes, some helper classes(letter-spacing, font-weight, etc.), decorative classes(line-on-headers, double-lines, etc). Three types of bg, image, gradient and solid color. I do this for testing headings/hero-image typography. Now there are ten presets here, but you can mix everything. I know that this brings to classivitis, but I still didn't dwelved into Saas, it is next on my learning roadmap, but I will create a fork soon with Saas and variables. */\n",
       "\n",
       "\n",
       "/* Preset 1 ---- Bold/cursive  */\n",
       "/* Preset 2 ---- Thin/bold  */\n",
       "/* Preset 3 ---- Add emphasis with color */\n",
       "/* Preset 4 ---- Thin/Super bold/thin */\n",
       "/* Preset 5 ---- Playing with serifs */\n",
       "/* Preset 6 ---- Super contrast */\n",
       "/* Preset 7 ---- Vertical text */\n",
       "/* Preset 8 ---- Playful type */\n",
       "/* Preset 9 ---- Middle flourish */\n",
       "/* Preset 10 ---- Overlay text */\n",
       "\n",
       "/* ==== Font sizes(based on Typeplate's scale) ==== */\n",
       "      div.output_subarea {\n",
       "    overflow-x: auto;\n",
       "    padding: 0.4em;\n",
       "    -webkit-box-flex: 1;\n",
       "    -moz-box-flex: 1;\n",
       "    box-flex: 1;\n",
       "    flex: 1;\n",
       "    max-width: calc(100% - 14ex);\n",
       "    text-align: center;\n",
       "}\n",
       "      div.output_subarea.output_stream.output_stdout.output_text {\n",
       "    overflow-x: auto;\n",
       "    /* overflow-y: visible; */\n",
       "    max-height: 5000000px;\n",
       "}\n",
       "\n",
       "      div.output_area pre {\n",
       "    margin: 0;\n",
       "    padding: 0;\n",
       "    border: 0;\n",
       "    vertical-align: baseline;\n",
       "    color: white;\n",
       "    background-color: transparent;\n",
       "    border-radius: 0;\n",
       "          text-align:center;\n",
       "}\n",
       "      h1{\n",
       "          background-color: #134e5e00;\n",
       "    font-size: 2rem !important;\n",
       "    font-weight: 300 !important;\n",
       "    color: #fcf8e3;\n",
       "    /* letter-spacing: 3px !important; */\n",
       "    text-transform: normal !important;\n",
       "    text-align: center !important;\n",
       "    padding-top:  1rem;\n",
       "    padding-bottom: 1rem;\n",
       "      }\n",
       "      \n",
       "html {\n",
       "  font: normal 112.5%/1.65 serif; /* base font size 18px with 1.65 line-height */\n",
       "  -moz-font-feature-settings: \"liga=1, dlig=1\"; /* common and discretionary ligatures */\n",
       "    -ms-font-feature-settings: \"liga\", \"dlig\";\n",
       "    -webkit-font-feature-settings: \"liga\", \"dlig\";\n",
       "    -o-font-feature-settings: \"liga\", \"dlig\";\n",
       "    font-feature-settings: \"liga\", \"dlig\";\n",
       "}\n",
       "h2 {\n",
       "        font-family: 'Open sans',verdana,arial,sans-serif;\n",
       "        text-align: left;\n",
       "\t    background-color: #508e74;\n",
       "        font-weight: 200;\n",
       "        font-size: 16pt;\n",
       "        font-style: italic;\n",
       "        line-height: 2;\n",
       "        color: #134e5e;\n",
       "        margin-bottom: 0.5em;\n",
       "        margin-top: 1.5em;\n",
       "        display: block;\n",
       "        white-space: wrap;\n",
       "        text-align: center;\n",
       "\tpadding-top: 0.5rem;\n",
       "\tpadding-botton: 0.5rem;\n",
       "    }\n",
       "    .text_cell_render h2 {\n",
       "    background-color: #508e7400;\n",
       "    font-weight: 200;\n",
       "    font-size: 26pt;\n",
       "    font-style: italic;\n",
       "    \n",
       "    color: #ffffff;\n",
       "    margin-bottom: 0.5em;\n",
       "    margin-top: 1.5em;\n",
       "    display: block;\n",
       "    white-space: wrap;\n",
       "    text-align: center;\n",
       "    padding-top: 0.5rem;\n",
       "    padding-botton: 0.5rem;\n",
       "}\n",
       " \n",
       "    h3 {\n",
       "        \n",
       "    }\n",
       "    .text_cell_render h3 {\n",
       "        font-weight: 200;\n",
       "        font-size: 14pt;\n",
       "        line-height: 0;\n",
       "        color: #eef3f5;\n",
       "        margin-bottom: 0.5em;\n",
       "        margin-top: 2em;\n",
       "        display: block;\n",
       "        white-space: wrap;\n",
       "        text-align: center;\n",
       "    }\n",
       "    h4 {\n",
       "        \n",
       "    }\n",
       "    .text_cell_render h4 {\n",
       "        font-weight: 100;\n",
       "        font-size: 14pt;\n",
       "        color: #134e5e;\n",
       "        margin-bottom: 0.5em;\n",
       "        margin-top: 0.5em;\n",
       "        display: block;\n",
       "        white-space: nowrap;\n",
       "    }\n",
       "    h5 {\n",
       "        font-family: 'Varela Round', sans-serif;\n",
       "    }\n",
       "\n",
       "    .text_cell_render h5 {\n",
       "        font-weight: 200;\n",
       "        font-style: normal;\n",
       "        \n",
       "        font-size: 16pt;\n",
       "        margin-bottom: 0em;\n",
       "        margin-top: 0.5em;\n",
       "        display: block;\n",
       "        white-space: nowrap;\n",
       "    }\n",
       "    div.output_subarea.output_text.output_pyout {\n",
       "        overflow-x: auto;\n",
       "        overflow-y: visible;\n",
       "        max-height: 5000000px;\n",
       "    }\n",
       "  \n",
       "    div.output_wrapper{\n",
       "        margin-top:0.2em;\n",
       "        margin-bottom:0.2em;\n",
       "}\n",
       ".jupyter-button.mod-success {\n",
       "    color: rgba(255, 255, 255, 1.0);\n",
       "    background-color: #134e5e;\n",
       "    border: 2px;\n",
       "    border-color:black;\n",
       "}\n",
       "\n",
       "h3,\n",
       "h4,\n",
       "h1p,\n",
       "      \n",
       "h6 {\n",
       "  line-height: 1;\n",
       "  margin-top: 0;\n",
       "  color: white;\n",
       "\tdisplay: inline-block;\n",
       "\tposition: relative;\n",
       "}\n",
       "\n",
       ".gigantic{font-size: 5rem;}\n",
       ".supersize{font-size: 8rem;}\n",
       ".tera {\n",
       "  font-size: 2rem; /* 117 / 18 = 6.5 */\n",
       "  margin-bottom: 0.25385rem;\n",
       "   \n",
       "}\n",
       "\n",
       ".gamma {\n",
       "  font-size: 1rem; /* 36 / 18 = 2 */\n",
       "  margin-bottom: 0.825rem;\n",
       "    margin-left: 2rem;\n",
       "}\n",
       "\n",
       ".vollkorn{font-family: 'Vollkorn'}\n",
       ".merriweather{font-family: 'Merriweather'}\n",
       ".light{font-weight: 300;}\n",
       ".bold{font-weight: 700;}\n",
       ".italic{font-style: italic;}\n",
       ".normal{font-style: normal;}\n",
       ".ls-large{letter-spacing: 8px;}\n",
       ".uppercase{text-transform: uppercase;}\n",
       ".text-left{text-align: left;}\n",
       "\n",
       ".thick-header-line:before, .thick-header-line:after{\n",
       "\tcontent: \"\";\n",
       "\tdisplay: block;\n",
       "\tposition: absolute;\n",
       "\twidth:7rem;\n",
       "\theight: 4px;\n",
       "\tbackground-color: #fff;\n",
       "\ttop:50%;\n",
       "\tmargin-bottom: -4px;\n",
       "}\n",
       ".thick-header-line:before{\n",
       "\tleft: -7.5rem;\n",
       "}\n",
       ".thick-header-line:after{\n",
       "\tright: -7.5rem;\n",
       "}\n",
       "\n",
       ".thin-header-line:before, .thin-header-line:after{\n",
       "\tcontent: \"\";\n",
       "\tdisplay: block;\n",
       "\tposition: absolute;\n",
       "\twidth:7rem;\n",
       "\theight: 1px;\n",
       "\tbackground-color: #fff;\n",
       "\ttop:50%;\n",
       "\tmargin-bottom: -1px;\n",
       "}\n",
       ".thin-header-line:before{\n",
       "\tleft: -7.5rem;\n",
       "}\n",
       ".thin-header-line:after{\n",
       "\tright: -7rem;\n",
       "}\n",
       ".line-after-heading:before{\n",
       "\tcontent: \"\";\n",
       "\tdisplay: block;\n",
       "\tposition: absolute;\n",
       "\tbackground-color: #fff;\n",
       "\twidth:4rem;\n",
       "\theight: 2px;\n",
       "\tmargin-left: auto;\n",
       "\tmargin-right: auto;\n",
       "\tleft: 0;\n",
       "\tright: 0;\n",
       "\tbottom: -2rem;\n",
       "\n",
       "}\n",
       ".double-header-line:before, .double-header-line:after{\n",
       "\tcontent: \"\";\n",
       "\tdisplay: block;\n",
       "\tposition: absolute;\n",
       "\twidth:7rem;\n",
       "\tbackground-color: transparent;\n",
       "\theight: 4px;\n",
       "\tborder-top: 1px solid #fff;\n",
       "\tborder-bottom:1px solid #fff;\n",
       "\ttop: 50%;\n",
       "\tmargin-bottom: -4px;\n",
       "}\n",
       ".double-header-line:before{\n",
       "\tleft: -7.5rem;\n",
       "}\n",
       ".double-header-line:after{\n",
       "\tright: -7.5rem;\n",
       "}\n",
       ".decorative-span{\n",
       "  display: inline-block;\n",
       "    font-size: 30px;\n",
       "    line-height: 60px;\n",
       "    margin: 0 10px;\n",
       "    position: relative;\n",
       "    vertical-align: middle;\n",
       "\tcolor: #fff;\n",
       "}\n",
       ".decorative-span:before, .decorative-span:after{\n",
       "    background-color: #fff;\n",
       "    bottom: 100%;\n",
       "    content: \"\";\n",
       "    height: 2px;\n",
       "    left: 0;\n",
       "    position: absolute;\n",
       "    right: 0;\n",
       "}\n",
       ".decorative-span:after {\n",
       "    top: 96%;\n",
       "}\n",
       "\n",
       ".text-overlay:before{\n",
       "\tcontent: attr(data-text);\n",
       "\tz-index: 99;\n",
       "\twidth: 98%;\n",
       "\theight: 50px;\n",
       "\tbackground-color: hsla(0,0%,0%,0.6);\n",
       "\tposition: absolute;\n",
       "\tmargin-left: auto;\n",
       "\tmargin-right: auto;\n",
       "\tleft: 0;\n",
       "\tright: 0;\n",
       "\ttop: 50%;\n",
       "\ttransform: translateY(-50%);\n",
       "\tline-height: 50px;\n",
       "\ttext-align: center;\n",
       "\tcolor:#f0ad00;\n",
       "\tfont-family: 'bree serif';\n",
       "\tfont-style: normal;\n",
       "\tfont-size: 1.3rem;\n",
       "\tletter-spacing: 0;\n",
       "\ttext-transform: none;\n",
       "\tfont-weight: 400;\n",
       "}\n",
       "\n",
       "/* ==== General styles ==== */\n",
       "section{\n",
       "\theight: 300px;\n",
       "\tpadding: 3rem 0;\n",
       "\tposition: relative;\n",
       "    \n",
       "}\n",
       ".wrapper{\n",
       "\tmax-width: 53.33rem;\n",
       "\tmargin: 0 auto;\n",
       "\tposition: relative;\n",
       "\tz-index: 10;\n",
       "\ttransform: translateY(-50%);\n",
       "\ttop:50%;\n",
       "\ttext-align: center;\n",
       "}\n",
       ".wrapper.large-wrap{max-width: 100%;}\n",
       "section:nth-of-type(3n+1){\n",
       "\tbackground-size: cover;\n",
       "}\n",
       "      .jupyter-dashboard .cell, .jupyter-dashboard .cell.selected {\n",
       "    background: linear-gradient(90deg, #134E5E 10%, #71B280 90%);\n",
       "    border: none;\n",
       "    padding: 0;\n",
       "}\n",
       "section:nth-of-type(1){\n",
       "  background: -webkit-linear-gradient(90deg, #134E5E 10%, #71B280 90%); /* Chrome 10+, Saf5.1+ */\n",
       "  background:    -moz-linear-gradient(90deg, #134E5E 10%, #71B280 90%); /* FF3.6+ */\n",
       "  background:     -ms-linear-gradient(90deg, #134E5E 10%, #71B280 90%); /* IE10 */\n",
       "  background:      -o-linear-gradient(90deg, #134E5E 10%, #71B280 90%); /* Opera 11.10+ */\n",
       "  background:         linear-gradient(90deg, #134E5E 10%, #71B280 90%); /* W3C */\n",
       "}\n",
       "/* Media queries */\n",
       " @media screen and (min-width: 1440px) {\n",
       "   section{height:700px}\n",
       " }\n",
       "\n",
       "@keyframes slidebg {\n",
       "  to {\n",
       "    background-position:20vw;\n",
       "  }\n",
       "}\n",
       "      /* Global Button Styles */\n",
       "a.animated-button:link, a.animated-button:visited {\n",
       "\tposition: relative;\n",
       "\tdisplay: block;\n",
       "\tmargin: 30px auto 0;\n",
       "\tpadding: 14px 15px;\n",
       "\tcolor: #fff;\n",
       "\tfont-size:14px;\n",
       "\tfont-weight: bold;\n",
       "\ttext-align: center;\n",
       "\ttext-decoration: none;\n",
       "\ttext-transform: uppercase;\n",
       "\toverflow: hidden;\n",
       "\tletter-spacing: .08em;\n",
       "\tborder-radius: 0;\n",
       "\ttext-shadow: 0 0 1px rgba(0, 0, 0, 0.2), 0 1px 0 rgba(0, 0, 0, 0.2);\n",
       "\t-webkit-transition: all 1s ease;\n",
       "\t-moz-transition: all 1s ease;\n",
       "\t-o-transition: all 1s ease;\n",
       "\ttransition: all 1s ease;\n",
       "}\n",
       "a.animated-button:link:after, a.animated-button:visited:after {\n",
       "\tcontent: \"\";\n",
       "\tposition: absolute;\n",
       "\theight: 0%;\n",
       "\tleft: 50%;\n",
       "\ttop: 50%;\n",
       "\twidth: 150%;\n",
       "\tz-index: -1;\n",
       "\t-webkit-transition: all 0.75s ease 0s;\n",
       "\t-moz-transition: all 0.75s ease 0s;\n",
       "\t-o-transition: all 0.75s ease 0s;\n",
       "\ttransition: all 0.75s ease 0s;\n",
       "}\n",
       "a.animated-button:link:hover, a.animated-button:visited:hover {\n",
       "\tcolor: #FFF;\n",
       "\ttext-shadow: none;\n",
       "}\n",
       "a.animated-button:link:hover:after, a.animated-button:visited:hover:after {\n",
       "\theight: 450%;\n",
       "}\n",
       "      #notebook-container {\n",
       "    padding: 15px;\n",
       "     background: linear-gradient(90deg, #134E5E 10%, #71B280 90%);\n",
       "    min-height: 0;\n",
       "    -webkit-box-shadow: 0px 0px 12px 1px rgba(87, 87, 87, 0.2);\n",
       "    box-shadow: 0px 0px 12px 1px rgba(87, 87, 87, 0.2);\n",
       "}\n",
       "      div#notebook {\n",
       "    font-size: 14px;\n",
       "    line-height: 20px;\n",
       "    overflow-y: hidden;\n",
       "    overflow-x: auto;\n",
       "    width: 100%;\n",
       "    padding-top: 20px;\n",
       "    margin: 0px;\n",
       "    outline: none;\n",
       "    box-sizing: border-box;\n",
       "    -moz-box-sizing: border-box;\n",
       "    -webkit-box-sizing: border-box;\n",
       "    min-height: 100%;\n",
       "    background-color: #ffffff;\n",
       "}\n",
       "a.animated-button:link, a.animated-button:visited {\n",
       "\tposition: relative;\n",
       "\tdisplay: block;\n",
       "\tmargin: 30px 60px 1;\n",
       "\tpadding: 14px 15px;\n",
       "\tcolor: #fff;\n",
       "\tfont-size:14px;\n",
       "\tborder-radius: 0;\n",
       "\tfont-weight: bold;\n",
       "\ttext-align: center;\n",
       "\ttext-decoration: none;\n",
       "\ttext-transform: uppercase;\n",
       "\toverflow: hidden;\n",
       "\tletter-spacing: .08em;\n",
       "\ttext-shadow: 0 0 1px rgba(0, 0, 0, 0.2), 0 1px 0 rgba(0, 0, 0, 0.2);\n",
       "\t-webkit-transition: all 1s ease;\n",
       "\t-moz-transition: all 1s ease;\n",
       "\t-o-transition: all 1s ease;\n",
       "\ttransition: all 1s ease;\n",
       "}\n",
       ".rendered_html h1:first-child {\n",
       "    margin-top: 0em;}\n",
       "      div.cell {\n",
       "    display: -webkit-box;\n",
       "    -webkit-box-orient: vertical;\n",
       "    -webkit-box-align: stretch;\n",
       "    display: -moz-box;\n",
       "    -moz-box-orient: vertical;\n",
       "    -moz-box-align: stretch;\n",
       "    display: box;\n",
       "    box-orient: vertical;\n",
       "    box-align: stretch;\n",
       "    display: flex;\n",
       "    flex-direction: column;\n",
       "    align-items: stretch;\n",
       "    border-radius: 2px;\n",
       "    box-sizing: border-box;\n",
       "    -moz-box-sizing: border-box;\n",
       "    -webkit-box-sizing: border-box;\n",
       "    border-width: 1px;\n",
       "    border-style: solid;\n",
       "    border-color: transparent;\n",
       "    width: 100%;\n",
       "    /* padding: 5px; */\n",
       "    margin: 0px;\n",
       "    outline: none;\n",
       "    border-left-width: 1px;\n",
       "    padding-left: 5px;\n",
       "    background: linear-gradient(to right, transparent -40px, transparent 1px, transparent 1px, transparent 100%);\n",
       "}\n",
       "      div.cell.selected {\n",
       "    border-color: #fffff;\n",
       "    border-left-width: 0px;\n",
       "    padding-left: 6px;\n",
       "    background: linear-gradient(to right, #42A5F5 -40px, #42A5F5 5px, transparent 5px, transparent 100%);\n",
       "}\n",
       "      \n",
       "a.animated-button.victoria-four {\n",
       "\tborder: 2px solid white;\n",
       "    width: 100%;\n",
       "    margin-left: 120px;\n",
       "}\n",
       "a.animated-button.victoria-four:after {\n",
       "\tbackground: #D24D57;\n",
       "\topacity: .5;\n",
       "\t-moz-transform: translateY(-50%) translateX(-50%) rotate(90deg);\n",
       "\t-ms-transform: translateY(-50%) translateX(-50%) rotate(90deg);\n",
       "\t-webkit-transform: translateY(-50%) translateX(-50%) rotate(90deg);\n",
       "\ttransform: translateY(-50%) translateX(-50%) rotate(90deg);\n",
       "}\n",
       "a.animated-button.victoria-four:hover:after {\n",
       "\topacity: 1;\n",
       "\theight: 600% !important;\n",
       "}\n",
       "      .jupyter-button.mod-success {\n",
       "    color: rgb(255, 255, 255);\n",
       "    background-color: #ffffff;\n",
       "    border-color: #57b93a;\n",
       "    border: 12px;\n",
       "    font-size: 1rem;\n",
       "    color: #134e5e;\n",
       "}\n",
       "      img {\n",
       "    vertical-align: middle;\n",
       "    background-color: white;\n",
       "  \n",
       "}\n",
       "      buttons\n",
       "      { background-color:black;\n",
       "      }\n",
       "      .jupyter-dashboard .container div.output_subarea {\n",
       "    max-width: 100%;\n",
       "    overflow: hidden;\n",
       "    text-align: center;\n",
       "}\n",
       "    </style>\n",
       "<section class = \"sect\">\n",
       "\t<div class=\"wrapper\">\n",
       "\t <h1p class=\"gamma light merriweather italic text-left\">\n",
       "\t\t Welcome to the<br>\n",
       "\t\t<span class=\"tera uppercase text-left ls-large vollkorn bold normal\">Crime Resilience Index for Khayelitsha</span><br>\n",
       "\t\t<span class=\"tera uppercase text-left ls-large vollkorn italic normal\">Dashboard</span><br>\n",
       "\t\tPresented by Lauren Pijper\n",
       "\t</h1p>\n",
       "\t </div>\n",
       "   <div class=\"row\">\n",
       "       <div class=\"col-md-3 col-sm-3 col-xs-6\">\n",
       "     <a href=\"\n",
       "        https://github.com/laurenpijper/gis706/blob/master/LaurenPijper_04461615_RP_MapChange.pdf\n",
       "      \" target=\"_blank\" class=\"btn btn-sm animated-button victoria-four\">Download Research</a> </div>\n",
       "       <div class=\"col-md-3 col-sm-3 col-xs-6\">\n",
       "         </div>\n",
       "       <div class=\"col-md-3 col-sm-3 col-xs-6\">\n",
       "        <a href=\"\n",
       "        https://github.com/laurenpijper/gis706\n",
       "      \" target=\"_blank\" class=\"btn btn-sm animated-button victoria-four\">See GitHub Repository</a> </div>\n",
       "       \n",
       "     \n",
       "  </div>\n",
       "\t</section>\n",
       "\t<div id=\"top\"></div>\n",
       "</body>\n"
      ],
      "text/plain": [
       "<IPython.core.display.HTML object>"
      ]
     },
     "execution_count": 1,
     "metadata": {},
     "output_type": "execute_result"
    }
   ],
   "source": [
    "from IPython.display import HTML\n",
    "HTML(filename=\"html/header.html\")"
   ]
  },
  {
   "cell_type": "markdown",
   "metadata": {
    "deletable": true,
    "editable": true,
    "extensions": {
     "jupyter_dashboards": {
      "version": 1,
      "views": {
       "grid_default": {
        "col": 0,
        "height": 3,
        "hidden": false,
        "row": 11,
        "width": 12
       },
       "report_default": {
        "hidden": false
       }
      }
     }
    }
   },
   "source": [
    "# Part 1: Creating the CRIK"
   ]
  },
  {
   "cell_type": "markdown",
   "metadata": {
    "deletable": true,
    "editable": true,
    "extensions": {
     "jupyter_dashboards": {
      "version": 1,
      "views": {
       "grid_default": {
        "col": 0,
        "height": 3,
        "hidden": false,
        "row": 14,
        "width": 12
       },
       "report_default": {
        "hidden": false
       }
      }
     }
    }
   },
   "source": [
    "## Import the census data to the database"
   ]
  },
  {
   "cell_type": "markdown",
   "metadata": {
    "deletable": true,
    "editable": true,
    "extensions": {
     "jupyter_dashboards": {
      "version": 1,
      "views": {
       "grid_default": {
        "col": 0,
        "height": 4,
        "hidden": false,
        "row": 17,
        "width": 12
       },
       "report_default": {}
      }
     }
    }
   },
   "source": [
    "### 1 Import a csv to the data folder of this notebook and name it census.csv\n",
    "### 2 Create a connection to the postgis database\n",
    "### 3 Create a table in the database and import the csv into this table"
   ]
  },
  {
   "cell_type": "code",
   "execution_count": 2,
   "metadata": {
    "collapsed": false,
    "deletable": true,
    "editable": true,
    "extensions": {
     "jupyter_dashboards": {
      "version": 1,
      "views": {
       "grid_default": {
        "col": 0,
        "height": 4,
        "hidden": false,
        "row": 21,
        "width": 12
       },
       "report_default": {}
      }
     }
    }
   },
   "outputs": [
    {
     "data": {
      "application/vnd.jupyter.widget-view+json": {
       "model_id": "e6de22da6ae440de8cce1082e028bfb9",
       "version_major": 2,
       "version_minor": 0
      },
      "text/plain": [
       "Button(button_style='success', description='Create Census Table in Database', layout=Layout(height='80px', wid…"
      ]
     },
     "metadata": {},
     "output_type": "display_data"
    }
   ],
   "source": [
    "from IPython.display import Javascript, display\n",
    "from ipywidgets import widgets\n",
    "from ipywidgets import Button, Layout\n",
    "\n",
    "def run_all(ev):\n",
    "    display(Javascript('IPython.notebook.execute_cell_range(IPython.notebook.get_selected_index()+1, IPython.notebook.get_selected_index()+2)'))\n",
    "    \n",
    "def print_all(ev):\n",
    "    print('Creating Census Table...')\n",
    "\n",
    "button = widgets.Button(description=\"Create Census Table in Database\", button_style = 'success',layout = Layout(width = '50%', height = '80px'))\n",
    "button.on_click(run_all)\n",
    "button.on_click(print_all)\n",
    "display(button)"
   ]
  },
  {
   "cell_type": "code",
   "execution_count": null,
   "metadata": {
    "collapsed": false,
    "deletable": true,
    "editable": true,
    "extensions": {
     "jupyter_dashboards": {
      "version": 1,
      "views": {
       "grid_default": {
        "col": 0,
        "height": 2,
        "hidden": false,
        "row": 25,
        "width": 12
       },
       "report_default": {
        "hidden": false
       }
      }
     }
    }
   },
   "outputs": [],
   "source": [
    "import psycopg2\n",
    "\n",
    "conn = psycopg2.connect(database='lauren2', user='lauren', password='mastergreen', host='142.93.38.233', port='5432', sslmode='require')\n",
    "cur = conn.cursor()\n",
    "cur.execute(\"\"\"\n",
    "CREATE TABLE census(\n",
    "    sal_code numeric PRIMARY KEY,\n",
    "    pop numeric,\n",
    "    pm numeric,\n",
    "    pe numeric,\n",
    "    pr numeric,\n",
    "    pf numeric,\n",
    "    ph numeric,\n",
    "    pb numeric,\n",
    "    pd numeric,\n",
    "    pi numeric,\n",
    "    pw numeric,\n",
    "    pfo numeric, \n",
    "    pmig numeric,\n",
    "    pu numeric,\n",
    "    geom geometry,\n",
    "    latitude double precision,\n",
    "    longitude double precision\n",
    "    \n",
    ")\n",
    "\"\"\")\n",
    "with open('data/census.csv', 'r') as f:\n",
    "    # Notice that we don't need the `csv` module.\n",
    "    next(f)  # Skip the header row.\n",
    "    cur.copy_from(f, 'census', sep=',')\n",
    "    \n",
    "conn.commit()\n",
    "print(\"Census Table Created\")"
   ]
  },
  {
   "cell_type": "markdown",
   "metadata": {
    "deletable": true,
    "editable": true,
    "extensions": {
     "jupyter_dashboards": {
      "version": 1,
      "views": {
       "grid_default": {
        "col": 0,
        "height": 3,
        "hidden": false,
        "row": 27,
        "width": 12
       },
       "report_default": {
        "hidden": false
       }
      }
     }
    }
   },
   "source": [
    "## Visualize the Census Data Using Matplotlib and Geopandas "
   ]
  },
  {
   "cell_type": "code",
   "execution_count": 3,
   "metadata": {
    "collapsed": false,
    "deletable": true,
    "editable": true,
    "extensions": {
     "jupyter_dashboards": {
      "version": 1,
      "views": {
       "grid_default": {
        "col": 0,
        "height": 4,
        "hidden": false,
        "row": 30,
        "width": 12
       },
       "report_default": {}
      }
     }
    }
   },
   "outputs": [
    {
     "data": {
      "application/vnd.jupyter.widget-view+json": {
       "model_id": "d11ab7803b904bcc827f4b23b8826dbe",
       "version_major": 2,
       "version_minor": 0
      },
      "text/plain": [
       "Button(button_style='success', description='See Population Map', layout=Layout(height='80px', width='50%'), st…"
      ]
     },
     "metadata": {},
     "output_type": "display_data"
    }
   ],
   "source": [
    "from IPython.display import Javascript, display\n",
    "from ipywidgets import widgets\n",
    "from ipywidgets import Button, Layout\n",
    "\n",
    "def run_all(ev):\n",
    "    display(Javascript('IPython.notebook.execute_cell_range(IPython.notebook.get_selected_index()+1, IPython.notebook.get_selected_index()+2)'))\n",
    "def print_all(ev):\n",
    "    print('Creating Map')\n",
    "\n",
    "button = widgets.Button(description=\"See Population Map\", button_style = 'success',layout = Layout(width = '50%', height = '80px'))\n",
    "button.on_click(run_all)\n",
    "button.on_click(print_all)\n",
    "display(button)"
   ]
  },
  {
   "cell_type": "code",
   "execution_count": null,
   "metadata": {
    "collapsed": false,
    "deletable": true,
    "editable": true,
    "extensions": {
     "jupyter_dashboards": {
      "version": 1,
      "views": {
       "grid_default": {
        "col": 0,
        "height": 15,
        "hidden": false,
        "row": 34,
        "width": 12
       },
       "report_default": {
        "hidden": false
       }
      }
     }
    }
   },
   "outputs": [],
   "source": [
    "%matplotlib inline\n",
    "import geopandas as gpd\n",
    "import matplotlib.pyplot as plt\n",
    "\n",
    "\n",
    "import psycopg2  # (if it is postgres/postgis)\n",
    "\n",
    "conn = psycopg2.connect(database='lauren2', user='lauren', password='mastergreen', host='142.93.38.233', port='5432', sslmode='require')\n",
    "\n",
    "sql = \"select geom, pop from census\"\n",
    "\n",
    "df = gpd.GeoDataFrame.from_postgis(sql, conn, geom_col='geom' )\n",
    "\n",
    "vmin, vmax = 20, 200\n",
    "fig, ax = plt.subplots(1, figsize=(10, 6))\n",
    "\n",
    "df.plot(column='pop', cmap = 'hot_r', linewidth = 0.8, ax=ax, edgecolor='black', alpha=1)\n",
    "\n",
    "# Create colorbar as a legend\n",
    "ax.axis('off')\n",
    "ax.set_title('Khayelitsha Population', \\\n",
    "              fontdict={'fontsize': '25',\n",
    "                        'fontweight' : '3'})\n",
    "sm = plt.cm.ScalarMappable(cmap='hot_r', norm=plt.Normalize(vmin=vmin, vmax=vmax))\n",
    "sm._A = []\n",
    "cbar = fig.colorbar(sm)\n",
    "\n",
    "\n",
    "\n",
    "from IPython.display import Javascript, display\n",
    "from ipywidgets import widgets\n",
    "from ipywidgets import Button, Layout\n",
    "\n",
    "def run_all(ev):\n",
    "    display(Javascript('IPython.notebook.execute_cell_range(IPython.notebook.get_selected_index()+1, IPython.notebook.get_selected_index()+2)'))\n",
    "def print_all(ev):\n",
    "    print('Saving Map')\n",
    "\n",
    "\n",
    "buttons = widgets.Button(description=\"Save Population Map\", button_style = 'success',layout = Layout(width = '50%', height = '40px'))\n",
    "buttons.style.button_color = 'lightgreen'\n",
    "buttons.on_click(run_all)\n",
    "buttons.on_click(print_all)\n",
    "display(buttons)\n",
    "\n"
   ]
  },
  {
   "cell_type": "code",
   "execution_count": null,
   "metadata": {
    "collapsed": false,
    "deletable": true,
    "editable": true,
    "extensions": {
     "jupyter_dashboards": {
      "version": 1,
      "views": {
       "grid_default": {
        "col": 0,
        "height": 2,
        "hidden": false,
        "row": 49,
        "width": 12
       },
       "report_default": {}
      }
     }
    }
   },
   "outputs": [],
   "source": [
    "%matplotlib inline\n",
    "import geopandas as gpd\n",
    "import matplotlib.pyplot as plt\n",
    "\n",
    "\n",
    "import psycopg2  # (if it is postgres/postgis)\n",
    "\n",
    "conn = psycopg2.connect(database='lauren2', user='lauren', password='mastergreen', host='142.93.38.233', port='5432', sslmode='require')\n",
    "\n",
    "sql = \"select geom, pop from census\"\n",
    "\n",
    "df = gpd.GeoDataFrame.from_postgis(sql, conn, geom_col='geom' )\n",
    "\n",
    "vmin, vmax = 20, 200\n",
    "fig, ax = plt.subplots(1, figsize=(10, 6))\n",
    "\n",
    "df.plot(column='pop', cmap = 'hot_r', linewidth = 0.8, ax=ax, edgecolor='black', alpha=1)\n",
    "\n",
    "# Create colorbar as a legend\n",
    "ax.axis('off')\n",
    "ax.set_title('Khayelitsha Population', \\\n",
    "              fontdict={'fontsize': '25',\n",
    "                        'fontweight' : '3'})\n",
    "sm = plt.cm.ScalarMappable(cmap='hot_r', norm=plt.Normalize(vmin=vmin, vmax=vmax))\n",
    "sm._A = []\n",
    "cbar = fig.colorbar(sm)\n",
    "\n",
    "import matplotlib\n",
    "import matplotlib.pyplot as plt\n",
    "\n",
    "fig1 = plt.gcf()\n",
    "fig1.savefig('saved/population.pdf')\n",
    "print(\"Population Map Saved in CRIKA_DASHBOARD saved file\")\n",
    "plt.close(fig1)\n"
   ]
  },
  {
   "cell_type": "code",
   "execution_count": 4,
   "metadata": {
    "collapsed": false,
    "deletable": true,
    "editable": true,
    "extensions": {
     "jupyter_dashboards": {
      "version": 1,
      "views": {
       "grid_default": {
        "col": 6,
        "height": 4,
        "hidden": false,
        "row": 114,
        "width": 6
       },
       "report_default": {}
      }
     }
    }
   },
   "outputs": [
    {
     "data": {
      "application/vnd.jupyter.widget-view+json": {
       "model_id": "562301cb1e4c440c98f8be3a4835442b",
       "version_major": 2,
       "version_minor": 0
      },
      "text/plain": [
       "Button(button_style='success', description='Percentage Male and Between 15 and 34', layout=Layout(height='80px…"
      ]
     },
     "metadata": {},
     "output_type": "display_data"
    }
   ],
   "source": [
    "from IPython.display import Javascript, display\n",
    "from ipywidgets import widgets\n",
    "from ipywidgets import Button, Layout\n",
    "\n",
    "def run_all(ev):\n",
    "    display(Javascript('IPython.notebook.execute_cell_range(IPython.notebook.get_selected_index()+1, IPython.notebook.get_selected_index()+2)'))\n",
    "def print_all(ev):\n",
    "    print('Creating Map')\n",
    "    \n",
    "button = widgets.Button(description=\"Percentage Male and Between 15 and 34\", button_style = 'success',layout = Layout(width = '98%', height = '80px'))\n",
    "button.on_click(run_all)\n",
    "button.on_click(print_all)\n",
    "display(button)"
   ]
  },
  {
   "cell_type": "code",
   "execution_count": null,
   "metadata": {
    "collapsed": false,
    "deletable": true,
    "editable": true,
    "extensions": {
     "jupyter_dashboards": {
      "version": 1,
      "views": {
       "grid_default": {
        "col": 6,
        "height": 15,
        "hidden": false,
        "row": 118,
        "width": 6
       },
       "report_default": {}
      }
     }
    }
   },
   "outputs": [],
   "source": [
    "%matplotlib inline\n",
    "import geopandas as gpd\n",
    "import matplotlib.pyplot as plt\n",
    "\n",
    "\n",
    "import psycopg2  # (if it is postgres/postgis)\n",
    "\n",
    "conn = psycopg2.connect(database='lauren2', user='lauren', password='mastergreen', host='142.93.38.233', port='5432', sslmode='require')\n",
    "\n",
    "sql = \"select geom, pm from census\"\n",
    "\n",
    "df = gpd.GeoDataFrame.from_postgis(sql, conn, geom_col='geom' )\n",
    "\n",
    "vmin, vmax = 0, 100\n",
    "fig, ax = plt.subplots(1, figsize=(10, 6))\n",
    "\n",
    "df.plot(column='pm', cmap = 'hot_r', linewidth = 0.8, ax=ax, edgecolor='black', alpha=1)\n",
    "\n",
    "# Create colorbar as a legend\n",
    "ax.axis('off')\n",
    "ax.set_title('Percentage Male and Between 15 and 34', \\\n",
    "              fontdict={'fontsize': '25',\n",
    "                        'fontweight' : '3'})\n",
    "sm = plt.cm.ScalarMappable(cmap='hot_r', norm=plt.Normalize(vmin=vmin, vmax=vmax))\n",
    "sm._A = []\n",
    "cbar = fig.colorbar(sm)\n",
    "def run_all(ev):\n",
    "    display(Javascript('IPython.notebook.execute_cell_range(IPython.notebook.get_selected_index()+1, IPython.notebook.get_selected_index()+2)'))\n",
    "def print_all(ev):\n",
    "    print('Saving Map')\n",
    "\n",
    "\n",
    "buttons = widgets.Button(description=\"Save Map\", button_style = 'success',layout = Layout(width = '50%', height = '40px'))\n",
    "buttons.style.button_color = 'lightgreen'\n",
    "buttons.on_click(run_all)\n",
    "buttons.on_click(print_all)\n",
    "display(buttons)\n"
   ]
  },
  {
   "cell_type": "code",
   "execution_count": null,
   "metadata": {
    "collapsed": false,
    "deletable": true,
    "editable": true,
    "extensions": {
     "jupyter_dashboards": {
      "version": 1,
      "views": {
       "grid_default": {
        "col": 6,
        "height": 2,
        "hidden": false,
        "row": 133,
        "width": 6
       },
       "report_default": {}
      }
     }
    }
   },
   "outputs": [],
   "source": [
    "%matplotlib inline\n",
    "import geopandas as gpd\n",
    "import matplotlib.pyplot as plt\n",
    "\n",
    "\n",
    "import psycopg2  # (if it is postgres/postgis)\n",
    "\n",
    "conn = psycopg2.connect(database='lauren2', user='lauren', password='mastergreen', host='142.93.38.233', port='5432', sslmode='require')\n",
    "\n",
    "sql = \"select geom, pm from census\"\n",
    "\n",
    "df = gpd.GeoDataFrame.from_postgis(sql, conn, geom_col='geom' )\n",
    "\n",
    "vmin, vmax = 0, 100\n",
    "fig, ax = plt.subplots(1, figsize=(10, 6))\n",
    "\n",
    "df.plot(column='pm', cmap = 'hot_r', linewidth = 0.8, ax=ax, edgecolor='black', alpha=1)\n",
    "\n",
    "# Create colorbar as a legend\n",
    "ax.axis('off')\n",
    "ax.set_title('Percentage Male and Between 15 and 34', \\\n",
    "              fontdict={'fontsize': '25',\n",
    "                        'fontweight' : '3'})\n",
    "sm = plt.cm.ScalarMappable(cmap='hot_r', norm=plt.Normalize(vmin=vmin, vmax=vmax))\n",
    "sm._A = []\n",
    "cbar = fig.colorbar(sm)\n",
    "\n",
    "\n",
    "import matplotlib\n",
    "import matplotlib.pyplot as plt\n",
    "\n",
    "fig1 = plt.gcf()\n",
    "fig1.savefig('saved/p_male.pdf')\n",
    "print(\"Map Saved in CRIKA_DASHBOARD saved file\")\n",
    "plt.close(fig1)"
   ]
  },
  {
   "cell_type": "code",
   "execution_count": 5,
   "metadata": {
    "collapsed": false,
    "deletable": true,
    "editable": true,
    "extensions": {
     "jupyter_dashboards": {
      "version": 1,
      "views": {
       "grid_default": {
        "col": 6,
        "height": 4,
        "hidden": false,
        "row": 135,
        "width": 6
       },
       "report_default": {}
      }
     }
    }
   },
   "outputs": [
    {
     "data": {
      "application/vnd.jupyter.widget-view+json": {
       "model_id": "bf15c059d02e4992ad5193dd4caefb69",
       "version_major": 2,
       "version_minor": 0
      },
      "text/plain": [
       "Button(button_style='success', description='Percentage Renting', layout=Layout(height='80px', width='98%'), st…"
      ]
     },
     "metadata": {},
     "output_type": "display_data"
    }
   ],
   "source": [
    "from IPython.display import Javascript, display\n",
    "from ipywidgets import widgets\n",
    "from ipywidgets import Button, Layout\n",
    "\n",
    "def run_all(ev):\n",
    "    display(Javascript('IPython.notebook.execute_cell_range(IPython.notebook.get_selected_index()+1, IPython.notebook.get_selected_index()+2)'))\n",
    "def print_all(ev):\n",
    "    print('Creating Map')\n",
    "    \n",
    "button = widgets.Button(description=\"Percentage Renting\", button_style = 'success',layout = Layout(width = '98%', height = '80px'))\n",
    "button.on_click(run_all)\n",
    "button.on_click(print_all)\n",
    "display(button)"
   ]
  },
  {
   "cell_type": "code",
   "execution_count": null,
   "metadata": {
    "collapsed": false,
    "deletable": true,
    "editable": true,
    "extensions": {
     "jupyter_dashboards": {
      "version": 1,
      "views": {
       "grid_default": {
        "col": 6,
        "height": 14,
        "hidden": false,
        "row": 139,
        "width": 6
       },
       "report_default": {}
      }
     }
    }
   },
   "outputs": [],
   "source": [
    "%matplotlib inline\n",
    "import geopandas as gpd\n",
    "import matplotlib.pyplot as plt\n",
    "\n",
    "\n",
    "import psycopg2  # (if it is postgres/postgis)\n",
    "\n",
    "conn = psycopg2.connect(database='lauren2', user='lauren', password='mastergreen', host='142.93.38.233', port='5432', sslmode='require')\n",
    "\n",
    "sql = \"select geom, pr from census\"\n",
    "\n",
    "df = gpd.GeoDataFrame.from_postgis(sql, conn, geom_col='geom' )\n",
    "\n",
    "vmin, vmax = 0, 100\n",
    "fig, ax = plt.subplots(1, figsize=(10, 6))\n",
    "\n",
    "df.plot(column='pr', cmap = 'hot_r', linewidth = 0.8, ax=ax, edgecolor='black', alpha=1)\n",
    "\n",
    "# Create colorbar as a legend\n",
    "ax.axis('off')\n",
    "ax.set_title('Percentage Renting', \\\n",
    "              fontdict={'fontsize': '25',\n",
    "                        'fontweight' : '3'})\n",
    "sm = plt.cm.ScalarMappable(cmap='hot_r', norm=plt.Normalize(vmin=vmin, vmax=vmax))\n",
    "sm._A = []\n",
    "cbar = fig.colorbar(sm)\n",
    "\n",
    "def run_all(ev):\n",
    "    display(Javascript('IPython.notebook.execute_cell_range(IPython.notebook.get_selected_index()+1, IPython.notebook.get_selected_index()+2)'))\n",
    "def print_all(ev):\n",
    "    print('Saving Map')\n",
    "\n",
    "\n",
    "buttons = widgets.Button(description=\"Save Map\", button_style = 'success',layout = Layout(width = '50%', height = '40px'))\n",
    "buttons.style.button_color = 'lightgreen'\n",
    "buttons.on_click(run_all)\n",
    "buttons.on_click(print_all)\n",
    "display(buttons)\n",
    "\n"
   ]
  },
  {
   "cell_type": "code",
   "execution_count": null,
   "metadata": {
    "collapsed": false,
    "deletable": true,
    "editable": true,
    "extensions": {
     "jupyter_dashboards": {
      "version": 1,
      "views": {
       "grid_default": {
        "col": 6,
        "height": 2,
        "hidden": false,
        "row": 153,
        "width": 6
       },
       "report_default": {}
      }
     }
    }
   },
   "outputs": [],
   "source": [
    "%matplotlib inline\n",
    "import geopandas as gpd\n",
    "import matplotlib.pyplot as plt\n",
    "\n",
    "\n",
    "import psycopg2  # (if it is postgres/postgis)\n",
    "\n",
    "conn = psycopg2.connect(database='lauren2', user='lauren', password='mastergreen', host='142.93.38.233', port='5432', sslmode='require')\n",
    "\n",
    "sql = \"select geom, pr from census\"\n",
    "\n",
    "df = gpd.GeoDataFrame.from_postgis(sql, conn, geom_col='geom' )\n",
    "\n",
    "vmin, vmax = 0, 100\n",
    "fig, ax = plt.subplots(1, figsize=(10, 6))\n",
    "\n",
    "df.plot(column='pr', cmap = 'hot_r', linewidth = 0.8, ax=ax, edgecolor='black', alpha=1)\n",
    "\n",
    "# Create colorbar as a legend\n",
    "ax.axis('off')\n",
    "ax.set_title('Percentage Renting', \\\n",
    "              fontdict={'fontsize': '25',\n",
    "                        'fontweight' : '3'})\n",
    "sm = plt.cm.ScalarMappable(cmap='hot_r', norm=plt.Normalize(vmin=vmin, vmax=vmax))\n",
    "sm._A = []\n",
    "cbar = fig.colorbar(sm)\n",
    "\n",
    "\n",
    "import matplotlib\n",
    "import matplotlib.pyplot as plt\n",
    "\n",
    "fig1 = plt.gcf()\n",
    "fig1.savefig('saved/p_renting.pdf')\n",
    "print(\"Map Saved in CRIKA_DASHBOARD saved file\")\n",
    "plt.close(fig1)"
   ]
  },
  {
   "cell_type": "code",
   "execution_count": 6,
   "metadata": {
    "collapsed": false,
    "deletable": true,
    "editable": true,
    "extensions": {
     "jupyter_dashboards": {
      "version": 1,
      "views": {
       "grid_default": {
        "col": 0,
        "height": 4,
        "hidden": false,
        "row": 93,
        "width": 6
       },
       "report_default": {}
      }
     }
    }
   },
   "outputs": [
    {
     "data": {
      "application/vnd.jupyter.widget-view+json": {
       "model_id": "5c50e38242f74fe49354df83debbe348",
       "version_major": 2,
       "version_minor": 0
      },
      "text/plain": [
       "Button(button_style='success', description='Percentage Female Headed Households', layout=Layout(height='80px',…"
      ]
     },
     "metadata": {},
     "output_type": "display_data"
    }
   ],
   "source": [
    "from IPython.display import Javascript, display\n",
    "from ipywidgets import widgets\n",
    "from ipywidgets import Button, Layout\n",
    "\n",
    "def run_all(ev):\n",
    "    display(Javascript('IPython.notebook.execute_cell_range(IPython.notebook.get_selected_index()+1, IPython.notebook.get_selected_index()+2)'))\n",
    "def print_all(ev):\n",
    "    print('Creating Map')\n",
    "    \n",
    "button = widgets.Button(description=\"Percentage Female Headed Households\", button_style = 'success',layout = Layout(width = '98%', height = '80px'))\n",
    "button.on_click(run_all)\n",
    "button.on_click(print_all)\n",
    "display(button)"
   ]
  },
  {
   "cell_type": "code",
   "execution_count": null,
   "metadata": {
    "collapsed": false,
    "deletable": true,
    "editable": true,
    "extensions": {
     "jupyter_dashboards": {
      "version": 1,
      "views": {
       "grid_default": {
        "col": 0,
        "height": 15,
        "hidden": false,
        "row": 97,
        "width": 6
       },
       "report_default": {}
      }
     }
    }
   },
   "outputs": [],
   "source": [
    "%matplotlib inline\n",
    "import geopandas as gpd\n",
    "import matplotlib.pyplot as plt\n",
    "\n",
    "\n",
    "import psycopg2  # (if it is postgres/postgis)\n",
    "\n",
    "conn = psycopg2.connect(database='lauren2', user='lauren', password='mastergreen', host='142.93.38.233', port='5432', sslmode='require')\n",
    "\n",
    "sql = \"select geom, pf from census\"\n",
    "\n",
    "df = gpd.GeoDataFrame.from_postgis(sql, conn, geom_col='geom' )\n",
    "\n",
    "vmin, vmax = 0, 100\n",
    "fig, ax = plt.subplots(1, figsize=(10, 6))\n",
    "\n",
    "df.plot(column='pf', cmap = 'hot_r', linewidth = 0.8, ax=ax, edgecolor='black', alpha=1)\n",
    "\n",
    "# Create colorbar as a legend\n",
    "ax.axis('off')\n",
    "ax.set_title('Percentage Female Headed Households', \\\n",
    "              fontdict={'fontsize': '25',\n",
    "                        'fontweight' : '3'})\n",
    "sm = plt.cm.ScalarMappable(cmap='hot_r', norm=plt.Normalize(vmin=vmin, vmax=vmax))\n",
    "sm._A = []\n",
    "cbar = fig.colorbar(sm)\n",
    "\n",
    "def run_all(ev):\n",
    "    display(Javascript('IPython.notebook.execute_cell_range(IPython.notebook.get_selected_index()+1, IPython.notebook.get_selected_index()+2)'))\n",
    "def print_all(ev):\n",
    "    print('Saving Map')\n",
    "\n",
    "\n",
    "buttons = widgets.Button(description=\"Save Map\", button_style = 'success',layout = Layout(width = '50%', height = '40px'))\n",
    "buttons.style.button_color = 'lightgreen'\n",
    "buttons.on_click(run_all)\n",
    "buttons.on_click(print_all)\n",
    "display(buttons)\n"
   ]
  },
  {
   "cell_type": "code",
   "execution_count": null,
   "metadata": {
    "collapsed": false,
    "deletable": true,
    "editable": true,
    "extensions": {
     "jupyter_dashboards": {
      "version": 1,
      "views": {
       "grid_default": {
        "col": 0,
        "height": 2,
        "hidden": false,
        "row": 112,
        "width": 6
       },
       "report_default": {}
      }
     }
    }
   },
   "outputs": [],
   "source": [
    "%matplotlib inline\n",
    "import geopandas as gpd\n",
    "import matplotlib.pyplot as plt\n",
    "\n",
    "\n",
    "import psycopg2  # (if it is postgres/postgis)\n",
    "\n",
    "conn = psycopg2.connect(database='lauren2', user='lauren', password='mastergreen', host='142.93.38.233', port='5432', sslmode='require')\n",
    "\n",
    "sql = \"select geom, pf from census\"\n",
    "\n",
    "df = gpd.GeoDataFrame.from_postgis(sql, conn, geom_col='geom' )\n",
    "\n",
    "vmin, vmax = 0, 100\n",
    "fig, ax = plt.subplots(1, figsize=(10, 6))\n",
    "\n",
    "df.plot(column='pf', cmap = 'hot_r', linewidth = 0.8, ax=ax, edgecolor='black', alpha=1)\n",
    "\n",
    "# Create colorbar as a legend\n",
    "ax.axis('off')\n",
    "ax.set_title('Percentage Female Headed Households', \\\n",
    "              fontdict={'fontsize': '25',\n",
    "                        'fontweight' : '3'})\n",
    "sm = plt.cm.ScalarMappable(cmap='hot_r', norm=plt.Normalize(vmin=vmin, vmax=vmax))\n",
    "sm._A = []\n",
    "cbar = fig.colorbar(sm)\n",
    "\n",
    "\n",
    "import matplotlib\n",
    "import matplotlib.pyplot as plt\n",
    "\n",
    "fig1 = plt.gcf()\n",
    "fig1.savefig('saved/p_femaleheadedhouseholds.pdf')\n",
    "print(\"Map Saved in CRIKA_DASHBOARD saved file\")\n",
    "plt.close(fig1)"
   ]
  },
  {
   "cell_type": "code",
   "execution_count": 7,
   "metadata": {
    "collapsed": false,
    "deletable": true,
    "editable": true,
    "extensions": {
     "jupyter_dashboards": {
      "version": 1,
      "views": {
       "grid_default": {
        "col": 6,
        "height": 4,
        "hidden": false,
        "row": 93,
        "width": 6
       },
       "report_default": {}
      }
     }
    }
   },
   "outputs": [
    {
     "data": {
      "application/vnd.jupyter.widget-view+json": {
       "model_id": "2857aa2aa1134719867b36c906c188f2",
       "version_major": 2,
       "version_minor": 0
      },
      "text/plain": [
       "Button(button_style='success', description='Percentage Black African Population', layout=Layout(height='80px',…"
      ]
     },
     "metadata": {},
     "output_type": "display_data"
    }
   ],
   "source": [
    "from IPython.display import Javascript, display\n",
    "from ipywidgets import widgets\n",
    "from ipywidgets import Button, Layout\n",
    "\n",
    "def run_all(ev):\n",
    "    display(Javascript('IPython.notebook.execute_cell_range(IPython.notebook.get_selected_index()+1, IPython.notebook.get_selected_index()+2)'))\n",
    "def print_all(ev):\n",
    "    print('Creating Map')\n",
    "    \n",
    "button = widgets.Button(description=\"Percentage Black African Population\", button_style = 'success',layout = Layout(width = '98%', height = '80px'))\n",
    "button.on_click(run_all)\n",
    "button.on_click(print_all)\n",
    "display(button)"
   ]
  },
  {
   "cell_type": "code",
   "execution_count": null,
   "metadata": {
    "collapsed": false,
    "deletable": true,
    "editable": true,
    "extensions": {
     "jupyter_dashboards": {
      "version": 1,
      "views": {
       "grid_default": {
        "col": 6,
        "height": 15,
        "hidden": false,
        "row": 97,
        "width": 6
       },
       "report_default": {}
      }
     }
    }
   },
   "outputs": [],
   "source": [
    "%matplotlib inline\n",
    "import geopandas as gpd\n",
    "import matplotlib.pyplot as plt\n",
    "\n",
    "\n",
    "import psycopg2  # (if it is postgres/postgis)\n",
    "\n",
    "conn = psycopg2.connect(database='lauren2', user='lauren', password='mastergreen', host='142.93.38.233', port='5432', sslmode='require')\n",
    "\n",
    "sql = \"select geom, pb from census\"\n",
    "\n",
    "df = gpd.GeoDataFrame.from_postgis(sql, conn, geom_col='geom' )\n",
    "\n",
    "vmin, vmax = 0, 100\n",
    "fig, ax = plt.subplots(1, figsize=(10, 6))\n",
    "\n",
    "df.plot(column='pb', cmap = 'hot_r', linewidth = 0.8, ax=ax, edgecolor='black', alpha=1)\n",
    "\n",
    "# Create colorbar as a legend\n",
    "ax.axis('off')\n",
    "ax.set_title('Percentage Black African Population', \\\n",
    "              fontdict={'fontsize': '20',\n",
    "                        'fontweight' : '3'})\n",
    "sm = plt.cm.ScalarMappable(cmap='hot_r', norm=plt.Normalize(vmin=vmin, vmax=vmax))\n",
    "sm._A = []\n",
    "cbar = fig.colorbar(sm)\n",
    "def run_all(ev):\n",
    "    display(Javascript('IPython.notebook.execute_cell_range(IPython.notebook.get_selected_index()+1, IPython.notebook.get_selected_index()+2)'))\n",
    "def print_all(ev):\n",
    "    print('Saving Map')\n",
    "\n",
    "\n",
    "buttons = widgets.Button(description=\"Save Map\", button_style = 'success',layout = Layout(width = '50%', height = '40px'))\n",
    "buttons.style.button_color = 'lightgreen'\n",
    "buttons.on_click(run_all)\n",
    "buttons.on_click(print_all)\n",
    "display(buttons)\n"
   ]
  },
  {
   "cell_type": "code",
   "execution_count": null,
   "metadata": {
    "collapsed": false,
    "deletable": true,
    "editable": true,
    "extensions": {
     "jupyter_dashboards": {
      "version": 1,
      "views": {
       "grid_default": {
        "col": 6,
        "height": 2,
        "hidden": false,
        "row": 112,
        "width": 6
       },
       "report_default": {}
      }
     }
    }
   },
   "outputs": [],
   "source": [
    "%matplotlib inline\n",
    "import geopandas as gpd\n",
    "import matplotlib.pyplot as plt\n",
    "\n",
    "\n",
    "import psycopg2  # (if it is postgres/postgis)\n",
    "\n",
    "conn = psycopg2.connect(database='lauren2', user='lauren', password='mastergreen', host='142.93.38.233', port='5432', sslmode='require')\n",
    "\n",
    "sql = \"select geom, pb from census\"\n",
    "\n",
    "df = gpd.GeoDataFrame.from_postgis(sql, conn, geom_col='geom' )\n",
    "\n",
    "vmin, vmax = 0, 100\n",
    "fig, ax = plt.subplots(1, figsize=(10, 6))\n",
    "\n",
    "df.plot(column='pb', cmap = 'hot_r', linewidth = 0.8, ax=ax, edgecolor='black', alpha=1)\n",
    "\n",
    "# Create colorbar as a legend\n",
    "ax.axis('off')\n",
    "ax.set_title('Percentage Black African Population', \\\n",
    "              fontdict={'fontsize': '20',\n",
    "                        'fontweight' : '3'})\n",
    "sm = plt.cm.ScalarMappable(cmap='hot_r', norm=plt.Normalize(vmin=vmin, vmax=vmax))\n",
    "sm._A = []\n",
    "cbar = fig.colorbar(sm)\n",
    "import matplotlib\n",
    "import matplotlib.pyplot as plt\n",
    "\n",
    "fig1 = plt.gcf()\n",
    "fig1.savefig('saved/p_blackafrican.pdf')\n",
    "print(\"Map Saved in CRIKA_DASHBOARD saved file\")\n",
    "plt.close(fig1)\n"
   ]
  },
  {
   "cell_type": "code",
   "execution_count": 8,
   "metadata": {
    "collapsed": false,
    "deletable": true,
    "editable": true,
    "extensions": {
     "jupyter_dashboards": {
      "version": 1,
      "views": {
       "grid_default": {
        "col": 0,
        "height": 4,
        "hidden": false,
        "row": 114,
        "width": 6
       },
       "report_default": {}
      }
     }
    }
   },
   "outputs": [
    {
     "data": {
      "application/vnd.jupyter.widget-view+json": {
       "model_id": "80eb8278ba75441d8246e41d3b7289b3",
       "version_major": 2,
       "version_minor": 0
      },
      "text/plain": [
       "Button(button_style='success', description='Percentage Divorced or Seperated', layout=Layout(height='80px', wi…"
      ]
     },
     "metadata": {},
     "output_type": "display_data"
    }
   ],
   "source": [
    "from IPython.display import Javascript, display\n",
    "from ipywidgets import widgets\n",
    "from ipywidgets import Button, Layout\n",
    "\n",
    "def run_all(ev):\n",
    "    display(Javascript('IPython.notebook.execute_cell_range(IPython.notebook.get_selected_index()+1, IPython.notebook.get_selected_index()+2)'))\n",
    "def print_all(ev):\n",
    "    print('Creating Map')\n",
    "    \n",
    "button = widgets.Button(description=\"Percentage Divorced or Seperated\", button_style = 'success',layout = Layout(width = '98%', height = '80px'))\n",
    "button.on_click(run_all)\n",
    "button.on_click(print_all)\n",
    "display(button)"
   ]
  },
  {
   "cell_type": "code",
   "execution_count": null,
   "metadata": {
    "collapsed": false,
    "deletable": true,
    "editable": true,
    "extensions": {
     "jupyter_dashboards": {
      "version": 1,
      "views": {
       "grid_default": {
        "col": 0,
        "height": 15,
        "hidden": false,
        "row": 118,
        "width": 6
       },
       "report_default": {}
      }
     }
    }
   },
   "outputs": [],
   "source": [
    "%matplotlib inline\n",
    "import geopandas as gpd\n",
    "import matplotlib.pyplot as plt\n",
    "\n",
    "\n",
    "import psycopg2  # (if it is postgres/postgis)\n",
    "\n",
    "conn = psycopg2.connect(database='lauren2', user='lauren', password='mastergreen', host='142.93.38.233', port='5432', sslmode='require')\n",
    "\n",
    "sql = \"select geom, pd from census\"\n",
    "\n",
    "df = gpd.GeoDataFrame.from_postgis(sql, conn, geom_col='geom' )\n",
    "\n",
    "vmin, vmax = 0, 100\n",
    "fig, ax = plt.subplots(1, figsize=(10, 6))\n",
    "\n",
    "df.plot(column='pd', cmap = 'hot_r', linewidth = 0.8, ax=ax, edgecolor='black', alpha=1)\n",
    "\n",
    "# Create colorbar as a legend\n",
    "ax.axis('off')\n",
    "ax.set_title('Percentage Divorced or Seperated', \\\n",
    "              fontdict={'fontsize': '20',\n",
    "                        'fontweight' : '3'})\n",
    "sm = plt.cm.ScalarMappable(cmap='hot_r', norm=plt.Normalize(vmin=vmin, vmax=vmax))\n",
    "sm._A = []\n",
    "cbar = fig.colorbar(sm)\n",
    "\n",
    "def run_all(ev):\n",
    "    display(Javascript('IPython.notebook.execute_cell_range(IPython.notebook.get_selected_index()+1, IPython.notebook.get_selected_index()+2)'))\n",
    "def print_all(ev):\n",
    "    print('Saving Map')\n",
    "\n",
    "\n",
    "buttons = widgets.Button(description=\"Save Map\", button_style = 'success',layout = Layout(width = '50%', height = '40px'))\n",
    "buttons.style.button_color = 'lightgreen'\n",
    "buttons.on_click(run_all)\n",
    "buttons.on_click(print_all)\n",
    "display(buttons)\n"
   ]
  },
  {
   "cell_type": "code",
   "execution_count": null,
   "metadata": {
    "collapsed": false,
    "deletable": true,
    "editable": true,
    "extensions": {
     "jupyter_dashboards": {
      "version": 1,
      "views": {
       "grid_default": {
        "col": 0,
        "height": 2,
        "hidden": false,
        "row": 133,
        "width": 6
       },
       "report_default": {}
      }
     }
    }
   },
   "outputs": [],
   "source": [
    "%matplotlib inline\n",
    "import geopandas as gpd\n",
    "import matplotlib.pyplot as plt\n",
    "\n",
    "\n",
    "import psycopg2  # (if it is postgres/postgis)\n",
    "\n",
    "conn = psycopg2.connect(database='lauren2', user='lauren', password='mastergreen', host='142.93.38.233', port='5432', sslmode='require')\n",
    "\n",
    "sql = \"select geom, pd from census\"\n",
    "\n",
    "df = gpd.GeoDataFrame.from_postgis(sql, conn, geom_col='geom' )\n",
    "\n",
    "vmin, vmax = 0, 100\n",
    "fig, ax = plt.subplots(1, figsize=(10, 6))\n",
    "\n",
    "df.plot(column='pd', cmap = 'hot_r', linewidth = 0.8, ax=ax, edgecolor='black', alpha=1)\n",
    "\n",
    "# Create colorbar as a legend\n",
    "ax.axis('off')\n",
    "ax.set_title('Percentage Divorced or Seperated', \\\n",
    "              fontdict={'fontsize': '20',\n",
    "                        'fontweight' : '3'})\n",
    "sm = plt.cm.ScalarMappable(cmap='hot_r', norm=plt.Normalize(vmin=vmin, vmax=vmax))\n",
    "sm._A = []\n",
    "cbar = fig.colorbar(sm)\n",
    "\n",
    "import matplotlib\n",
    "import matplotlib.pyplot as plt\n",
    "\n",
    "fig1 = plt.gcf()\n",
    "fig1.savefig('saved/p_divordedseperarted.pdf')\n",
    "print(\"Map Saved in CRIKA_DASHBOARD saved file\")\n",
    "plt.close(fig1)\n"
   ]
  },
  {
   "cell_type": "code",
   "execution_count": 9,
   "metadata": {
    "collapsed": false,
    "deletable": true,
    "editable": true,
    "extensions": {
     "jupyter_dashboards": {
      "version": 1,
      "views": {
       "grid_default": {
        "col": 6,
        "height": 4,
        "hidden": false,
        "row": 51,
        "width": 6
       },
       "report_default": {}
      }
     }
    }
   },
   "outputs": [
    {
     "data": {
      "application/vnd.jupyter.widget-view+json": {
       "model_id": "96fe8254b80549ed9c27643fbd22144e",
       "version_major": 2,
       "version_minor": 0
      },
      "text/plain": [
       "Button(button_style='success', description='Percentage With Income Less than R128 000', layout=Layout(height='…"
      ]
     },
     "metadata": {},
     "output_type": "display_data"
    }
   ],
   "source": [
    "from IPython.display import Javascript, display\n",
    "from ipywidgets import widgets\n",
    "from ipywidgets import Button, Layout\n",
    "\n",
    "def run_all(ev):\n",
    "    display(Javascript('IPython.notebook.execute_cell_range(IPython.notebook.get_selected_index()+1, IPython.notebook.get_selected_index()+2)'))\n",
    "def print_all(ev):\n",
    "    print('Creating Map')\n",
    "    \n",
    "button = widgets.Button(description=\"Percentage With Income Less than R128 000\", button_style = 'success',layout = Layout(width = '98%', height = '80px'))\n",
    "button.on_click(run_all)\n",
    "button.on_click(print_all)\n",
    "display(button)"
   ]
  },
  {
   "cell_type": "code",
   "execution_count": null,
   "metadata": {
    "collapsed": false,
    "deletable": true,
    "editable": true,
    "extensions": {
     "jupyter_dashboards": {
      "version": 1,
      "views": {
       "grid_default": {
        "col": 6,
        "height": 16,
        "hidden": false,
        "row": 55,
        "width": 6
       },
       "report_default": {}
      }
     }
    }
   },
   "outputs": [],
   "source": [
    "%matplotlib inline\n",
    "import geopandas as gpd\n",
    "import matplotlib.pyplot as plt\n",
    "\n",
    "\n",
    "import psycopg2  # (if it is postgres/postgis)\n",
    "\n",
    "conn = psycopg2.connect(database='lauren2', user='lauren', password='mastergreen', host='142.93.38.233', port='5432', sslmode='require')\n",
    "\n",
    "sql = \"select geom, pi from census\"\n",
    "\n",
    "df = gpd.GeoDataFrame.from_postgis(sql, conn, geom_col='geom' )\n",
    "\n",
    "vmin, vmax = 0, 100\n",
    "fig, ax = plt.subplots(1, figsize=(12, 8))\n",
    "\n",
    "df.plot(column='pi', cmap = 'hot_r', linewidth = 0.8, ax=ax, edgecolor='black', alpha=1)\n",
    "\n",
    "# Create colorbar as a legend\n",
    "ax.axis('off')\n",
    "ax.set_title('Percentage of Population with Income Less than R128 000', \\\n",
    "              fontdict={'fontsize': '20',\n",
    "                        'fontweight' : '2'})\n",
    "sm = plt.cm.ScalarMappable(cmap='hot_r', norm=plt.Normalize(vmin=vmin, vmax=vmax))\n",
    "sm._A = []\n",
    "cbar = fig.colorbar(sm)\n",
    "def run_all(ev):\n",
    "    display(Javascript('IPython.notebook.execute_cell_range(IPython.notebook.get_selected_index()+1, IPython.notebook.get_selected_index()+2)'))\n",
    "def print_all(ev):\n",
    "    print('Saving Map')\n",
    "\n",
    "\n",
    "buttons = widgets.Button(description=\"Save Map\", button_style = 'success',layout = Layout(width = '50%', height = '40px'))\n",
    "buttons.style.button_color = 'lightgreen'\n",
    "buttons.on_click(run_all)\n",
    "buttons.on_click(print_all)\n",
    "display(buttons)"
   ]
  },
  {
   "cell_type": "code",
   "execution_count": null,
   "metadata": {
    "collapsed": false,
    "deletable": true,
    "editable": true,
    "extensions": {
     "jupyter_dashboards": {
      "version": 1,
      "views": {
       "grid_default": {
        "col": 6,
        "height": 2,
        "hidden": false,
        "row": 71,
        "width": 6
       },
       "report_default": {}
      }
     }
    }
   },
   "outputs": [],
   "source": [
    "%matplotlib inline\n",
    "import geopandas as gpd\n",
    "import matplotlib.pyplot as plt\n",
    "\n",
    "\n",
    "import psycopg2  # (if it is postgres/postgis)\n",
    "\n",
    "conn = psycopg2.connect(database='lauren2', user='lauren', password='mastergreen', host='142.93.38.233', port='5432', sslmode='require')\n",
    "\n",
    "sql = \"select geom, pi from census\"\n",
    "\n",
    "df = gpd.GeoDataFrame.from_postgis(sql, conn, geom_col='geom' )\n",
    "\n",
    "vmin, vmax = 0, 100\n",
    "fig, ax = plt.subplots(1, figsize=(12, 8))\n",
    "\n",
    "df.plot(column='pi', cmap = 'hot_r', linewidth = 0.8, ax=ax, edgecolor='black', alpha=1)\n",
    "\n",
    "# Create colorbar as a legend\n",
    "ax.axis('off')\n",
    "ax.set_title('Percentage of Population with Income Less than R128 000', \\\n",
    "              fontdict={'fontsize': '20',\n",
    "                        'fontweight' : '2'})\n",
    "sm = plt.cm.ScalarMappable(cmap='hot_r', norm=plt.Normalize(vmin=vmin, vmax=vmax))\n",
    "sm._A = []\n",
    "cbar = fig.colorbar(sm)\n",
    "import matplotlib\n",
    "import matplotlib.pyplot as plt\n",
    "\n",
    "fig1 = plt.gcf()\n",
    "fig1.savefig('saved/p_income.pdf')\n",
    "print(\"Map Saved in CRIKA_DASHBOARD saved file\")\n",
    "plt.close(fig1)\n"
   ]
  },
  {
   "cell_type": "code",
   "execution_count": 10,
   "metadata": {
    "collapsed": false,
    "deletable": true,
    "editable": true,
    "extensions": {
     "jupyter_dashboards": {
      "version": 1,
      "views": {
       "grid_default": {
        "col": 0,
        "height": 4,
        "hidden": false,
        "row": 135,
        "width": 6
       },
       "report_default": {}
      }
     }
    }
   },
   "outputs": [
    {
     "data": {
      "application/vnd.jupyter.widget-view+json": {
       "model_id": "b9468e5483f948b48cccd14320be3a5d",
       "version_major": 2,
       "version_minor": 0
      },
      "text/plain": [
       "Button(button_style='success', description='Percentage of Population Born Outside of the Western Cape', layout…"
      ]
     },
     "metadata": {},
     "output_type": "display_data"
    }
   ],
   "source": [
    "from IPython.display import Javascript, display\n",
    "from ipywidgets import widgets\n",
    "from ipywidgets import Button, Layout\n",
    "\n",
    "def run_all(ev):\n",
    "    display(Javascript('IPython.notebook.execute_cell_range(IPython.notebook.get_selected_index()+1, IPython.notebook.get_selected_index()+2)'))\n",
    "def print_all(ev):\n",
    "    print('Creating Map')\n",
    "button = widgets.Button(description=\"Percentage of Population Born Outside of the Western Cape\", button_style = 'success',layout = Layout(width = '98%', height = '80px'))\n",
    "button.on_click(run_all)\n",
    "button.on_click(print_all)\n",
    "display(button)"
   ]
  },
  {
   "cell_type": "code",
   "execution_count": null,
   "metadata": {
    "collapsed": false,
    "deletable": true,
    "editable": true,
    "extensions": {
     "jupyter_dashboards": {
      "version": 1,
      "views": {
       "grid_default": {
        "col": 0,
        "height": 14,
        "hidden": false,
        "row": 139,
        "width": 6
       },
       "report_default": {}
      }
     }
    }
   },
   "outputs": [],
   "source": [
    "%matplotlib inline\n",
    "import geopandas as gpd\n",
    "import matplotlib.pyplot as plt\n",
    "import psycopg2  # (if it is postgres/postgis)\n",
    "\n",
    "conn = psycopg2.connect(database='lauren2', user='lauren', password='mastergreen', host='142.93.38.233', port='5432', sslmode='require')\n",
    "\n",
    "sql = \"select geom, pw from census\"\n",
    "\n",
    "df = gpd.GeoDataFrame.from_postgis(sql, conn, geom_col='geom' )\n",
    "\n",
    "vmin, vmax = 0, 100\n",
    "fig, ax = plt.subplots(1, figsize=(12, 6))\n",
    "\n",
    "df.plot(column='pw', cmap = 'hot_r', linewidth = 0.8, ax=ax, edgecolor='black', alpha=1)\n",
    "\n",
    "# Create colorbar as a legend\n",
    "ax.axis('off')\n",
    "ax.set_title('Percentage of Population Born Outside of the Western Cape', \\\n",
    "              fontdict={'fontsize': '20',\n",
    "                        'fontweight' : '2'})\n",
    "sm = plt.cm.ScalarMappable(cmap='hot_r', norm=plt.Normalize(vmin=vmin, vmax=vmax))\n",
    "sm._A = []\n",
    "cbar = fig.colorbar(sm)\n",
    "def run_all(ev):\n",
    "    display(Javascript('IPython.notebook.execute_cell_range(IPython.notebook.get_selected_index()+1, IPython.notebook.get_selected_index()+2)'))\n",
    "def print_all(ev):\n",
    "    print('Saving Map')\n",
    "\n",
    "\n",
    "buttons = widgets.Button(description=\"Save Map\", button_style = 'success',layout = Layout(width = '50%', height = '40px'))\n",
    "buttons.style.button_color = 'lightgreen'\n",
    "buttons.on_click(run_all)\n",
    "buttons.on_click(print_all)\n",
    "display(buttons)\n"
   ]
  },
  {
   "cell_type": "code",
   "execution_count": null,
   "metadata": {
    "collapsed": false,
    "deletable": true,
    "editable": true,
    "extensions": {
     "jupyter_dashboards": {
      "version": 1,
      "views": {
       "grid_default": {
        "col": 0,
        "height": 2,
        "hidden": false,
        "row": 153,
        "width": 6
       },
       "report_default": {}
      }
     }
    }
   },
   "outputs": [],
   "source": [
    "%matplotlib inline\n",
    "import geopandas as gpd\n",
    "import matplotlib.pyplot as plt\n",
    "import psycopg2  # (if it is postgres/postgis)\n",
    "\n",
    "conn = psycopg2.connect(database='lauren2', user='lauren', password='mastergreen', host='142.93.38.233', port='5432', sslmode='require')\n",
    "\n",
    "sql = \"select geom, pw from census\"\n",
    "\n",
    "df = gpd.GeoDataFrame.from_postgis(sql, conn, geom_col='geom' )\n",
    "\n",
    "vmin, vmax = 0, 100\n",
    "fig, ax = plt.subplots(1, figsize=(12, 6))\n",
    "\n",
    "df.plot(column='pw', cmap = 'hot_r', linewidth = 0.8, ax=ax, edgecolor='black', alpha=1)\n",
    "\n",
    "# Create colorbar as a legend\n",
    "ax.axis('off')\n",
    "ax.set_title('Percentage of Population Born Outside of the Western Cape', \\\n",
    "              fontdict={'fontsize': '20',\n",
    "                        'fontweight' : '2'})\n",
    "sm = plt.cm.ScalarMappable(cmap='hot_r', norm=plt.Normalize(vmin=vmin, vmax=vmax))\n",
    "sm._A = []\n",
    "cbar = fig.colorbar(sm)\n",
    "\n",
    "import matplotlib\n",
    "import matplotlib.pyplot as plt\n",
    "\n",
    "fig1 = plt.gcf()\n",
    "fig1.savefig('saved/p_bowc.pdf')\n",
    "print(\"Map Saved in CRIKA_DASHBOARD saved file\")\n",
    "plt.close(fig1)"
   ]
  },
  {
   "cell_type": "code",
   "execution_count": 11,
   "metadata": {
    "collapsed": false,
    "deletable": true,
    "editable": true,
    "extensions": {
     "jupyter_dashboards": {
      "version": 1,
      "views": {
       "grid_default": {
        "col": 6,
        "height": 4,
        "hidden": false,
        "row": 73,
        "width": 6
       },
       "report_default": {}
      }
     }
    }
   },
   "outputs": [
    {
     "data": {
      "application/vnd.jupyter.widget-view+json": {
       "model_id": "0c006ff66c624be5ada5eade56055750",
       "version_major": 2,
       "version_minor": 0
      },
      "text/plain": [
       "Button(button_style='success', description='Percentage of Population Foreign Born', layout=Layout(height='80px…"
      ]
     },
     "metadata": {},
     "output_type": "display_data"
    }
   ],
   "source": [
    "from IPython.display import Javascript, display\n",
    "from ipywidgets import widgets\n",
    "from ipywidgets import Button, Layout\n",
    "\n",
    "def run_all(ev):\n",
    "    display(Javascript('IPython.notebook.execute_cell_range(IPython.notebook.get_selected_index()+1, IPython.notebook.get_selected_index()+2)'))\n",
    "def print_all(ev):\n",
    "    print('Creating Map')\n",
    "button = widgets.Button(description=\"Percentage of Population Foreign Born\", button_style = 'success',layout = Layout(width = '98%', height = '80px'))\n",
    "button.on_click(run_all)\n",
    "button.on_click(print_all)\n",
    "display(button)"
   ]
  },
  {
   "cell_type": "code",
   "execution_count": null,
   "metadata": {
    "collapsed": false,
    "deletable": true,
    "editable": true,
    "extensions": {
     "jupyter_dashboards": {
      "version": 1,
      "views": {
       "grid_default": {
        "col": 6,
        "height": 14,
        "hidden": false,
        "row": 77,
        "width": 6
       },
       "report_default": {}
      }
     }
    }
   },
   "outputs": [],
   "source": [
    "%matplotlib inline\n",
    "import geopandas as gpd\n",
    "import matplotlib.pyplot as plt\n",
    "import psycopg2  # (if it is postgres/postgis)\n",
    "\n",
    "conn = psycopg2.connect(database='lauren2', user='lauren', password='mastergreen', host='142.93.38.233', port='5432', sslmode='require')\n",
    "\n",
    "sql = \"select geom, pf from census\"\n",
    "\n",
    "df = gpd.GeoDataFrame.from_postgis(sql, conn, geom_col='geom' )\n",
    "\n",
    "vmin, vmax = 0, 100\n",
    "fig, ax = plt.subplots(1, figsize=(10, 6))\n",
    "\n",
    "df.plot(column='pf', cmap = 'hot_r', linewidth = 0.8, ax=ax, edgecolor='black', alpha=1)\n",
    "\n",
    "# Create colorbar as a legend\n",
    "ax.axis('off')\n",
    "ax.set_title('Percentage of Population Foreign Born', \\\n",
    "              fontdict={'fontsize': '25',\n",
    "                        'fontweight' : '3'})\n",
    "sm = plt.cm.ScalarMappable(cmap='hot_r', norm=plt.Normalize(vmin=vmin, vmax=vmax))\n",
    "sm._A = []\n",
    "cbar = fig.colorbar(sm)\n",
    "def run_all(ev):\n",
    "    display(Javascript('IPython.notebook.execute_cell_range(IPython.notebook.get_selected_index()+1, IPython.notebook.get_selected_index()+2)'))\n",
    "def print_all(ev):\n",
    "    print('Saving Map')\n",
    "\n",
    "\n",
    "buttons = widgets.Button(description=\"Save Map\", button_style = 'success',layout = Layout(width = '50%', height = '40px'))\n",
    "buttons.style.button_color = 'lightgreen'\n",
    "buttons.on_click(run_all)\n",
    "buttons.on_click(print_all)\n",
    "display(buttons)\n"
   ]
  },
  {
   "cell_type": "code",
   "execution_count": null,
   "metadata": {
    "collapsed": false,
    "deletable": true,
    "editable": true,
    "extensions": {
     "jupyter_dashboards": {
      "version": 1,
      "views": {
       "grid_default": {
        "col": 6,
        "height": 2,
        "hidden": false,
        "row": 91,
        "width": 6
       },
       "report_default": {}
      }
     }
    }
   },
   "outputs": [],
   "source": [
    "%matplotlib inline\n",
    "import geopandas as gpd\n",
    "import matplotlib.pyplot as plt\n",
    "import psycopg2  # (if it is postgres/postgis)\n",
    "\n",
    "conn = psycopg2.connect(database='lauren2', user='lauren', password='mastergreen', host='142.93.38.233', port='5432', sslmode='require')\n",
    "\n",
    "sql = \"select geom, pfo from census\"\n",
    "\n",
    "df = gpd.GeoDataFrame.from_postgis(sql, conn, geom_col='geom' )\n",
    "\n",
    "vmin, vmax = 0, 100\n",
    "fig, ax = plt.subplots(1, figsize=(10, 6))\n",
    "\n",
    "df.plot(column='pfo', cmap = 'hot_r', linewidth = 0.8, ax=ax, edgecolor='black', alpha=1)\n",
    "\n",
    "# Create colorbar as a legend\n",
    "ax.axis('off')\n",
    "ax.set_title('Percentage of Population Foreign Born', \\\n",
    "              fontdict={'fontsize': '25',\n",
    "                        'fontweight' : '3'})\n",
    "sm = plt.cm.ScalarMappable(cmap='hot_r', norm=plt.Normalize(vmin=vmin, vmax=vmax))\n",
    "sm._A = []\n",
    "cbar = fig.colorbar(sm)\n",
    "import matplotlib\n",
    "import matplotlib.pyplot as plt\n",
    "\n",
    "fig1 = plt.gcf()\n",
    "fig1.savefig('saved/p_foreignborn.pdf')\n",
    "print(\"Map Saved in CRIKA_DASHBOARD saved file\")\n",
    "plt.close(fig1)"
   ]
  },
  {
   "cell_type": "code",
   "execution_count": 12,
   "metadata": {
    "collapsed": false,
    "deletable": true,
    "editable": true,
    "extensions": {
     "jupyter_dashboards": {
      "version": 1,
      "views": {
       "grid_default": {
        "col": 0,
        "height": 4,
        "hidden": false,
        "row": 73,
        "width": 6
       },
       "report_default": {}
      }
     }
    }
   },
   "outputs": [
    {
     "data": {
      "application/vnd.jupyter.widget-view+json": {
       "model_id": "e68e39624d34465a88043c7f597c0ec0",
       "version_major": 2,
       "version_minor": 0
      },
      "text/plain": [
       "Button(button_style='success', description='Percentage of Population Migrated in Last 5 Years', layout=Layout(…"
      ]
     },
     "metadata": {},
     "output_type": "display_data"
    }
   ],
   "source": [
    "from IPython.display import Javascript, display\n",
    "from ipywidgets import widgets\n",
    "from ipywidgets import Button, Layout\n",
    "\n",
    "def run_all(ev):\n",
    "    display(Javascript('IPython.notebook.execute_cell_range(IPython.notebook.get_selected_index()+1, IPython.notebook.get_selected_index()+2)'))\n",
    "def print_all(ev):\n",
    "    print('Creating Map')\n",
    "button = widgets.Button(description=\"Percentage of Population Migrated in Last 5 Years\", button_style = 'success',layout = Layout(width = '98%', height = '80px'))\n",
    "button.on_click(run_all)\n",
    "button.on_click(print_all)\n",
    "display(button)"
   ]
  },
  {
   "cell_type": "code",
   "execution_count": null,
   "metadata": {
    "collapsed": false,
    "deletable": true,
    "editable": true,
    "extensions": {
     "jupyter_dashboards": {
      "version": 1,
      "views": {
       "grid_default": {
        "col": 0,
        "height": 14,
        "hidden": false,
        "row": 77,
        "width": 6
       },
       "report_default": {}
      }
     }
    }
   },
   "outputs": [],
   "source": [
    "%matplotlib inline\n",
    "import geopandas as gpd\n",
    "import matplotlib.pyplot as plt\n",
    "import psycopg2  # (if it is postgres/postgis)\n",
    "\n",
    "conn = psycopg2.connect(database='lauren2', user='lauren', password='mastergreen', host='142.93.38.233', port='5432', sslmode='require')\n",
    "\n",
    "sql = \"select geom, pmig from census\"\n",
    "\n",
    "df = gpd.GeoDataFrame.from_postgis(sql, conn, geom_col='geom' )\n",
    "\n",
    "vmin, vmax = 0, 100\n",
    "fig, ax = plt.subplots(1, figsize=(11, 6))\n",
    "\n",
    "df.plot(column='pmig', cmap = 'hot_r', linewidth = 0.8, ax=ax, edgecolor='black', alpha=1)\n",
    "\n",
    "# Create colorbar as a legend\n",
    "ax.axis('off')\n",
    "ax.set_title('Percentage of Population Migrated in Last 5 Years', \\\n",
    "              fontdict={'fontsize': '20',\n",
    "                        'fontweight' : '3'})\n",
    "sm = plt.cm.ScalarMappable(cmap='hot_r', norm=plt.Normalize(vmin=vmin, vmax=vmax))\n",
    "sm._A = []\n",
    "cbar = fig.colorbar(sm)\n",
    "def run_all(ev):\n",
    "    display(Javascript('IPython.notebook.execute_cell_range(IPython.notebook.get_selected_index()+1, IPython.notebook.get_selected_index()+2)'))\n",
    "def print_all(ev):\n",
    "    print('Saving Map')\n",
    "\n",
    "\n",
    "buttons = widgets.Button(description=\"Save Map\", button_style = 'success',layout = Layout(width = '50%', height = '40px'))\n",
    "buttons.style.button_color = 'lightgreen'\n",
    "buttons.on_click(run_all)\n",
    "buttons.on_click(print_all)\n",
    "display(buttons)"
   ]
  },
  {
   "cell_type": "code",
   "execution_count": null,
   "metadata": {
    "collapsed": false,
    "deletable": true,
    "editable": true,
    "extensions": {
     "jupyter_dashboards": {
      "version": 1,
      "views": {
       "grid_default": {
        "col": 0,
        "height": 2,
        "hidden": false,
        "row": 91,
        "width": 6
       },
       "report_default": {}
      }
     }
    }
   },
   "outputs": [],
   "source": [
    "%matplotlib inline\n",
    "import geopandas as gpd\n",
    "import matplotlib.pyplot as plt\n",
    "import psycopg2  # (if it is postgres/postgis)\n",
    "\n",
    "conn = psycopg2.connect(database='lauren2', user='lauren', password='mastergreen', host='142.93.38.233', port='5432', sslmode='require')\n",
    "\n",
    "sql = \"select geom, pmig from census\"\n",
    "\n",
    "df = gpd.GeoDataFrame.from_postgis(sql, conn, geom_col='geom' )\n",
    "\n",
    "vmin, vmax = 0, 100\n",
    "fig, ax = plt.subplots(1, figsize=(11, 6))\n",
    "\n",
    "df.plot(column='pmig', cmap = 'hot_r', linewidth = 0.8, ax=ax, edgecolor='black', alpha=1)\n",
    "\n",
    "# Create colorbar as a legend\n",
    "ax.axis('off')\n",
    "ax.set_title('Percentage of Population Migrated in Last 5 Years', \\\n",
    "              fontdict={'fontsize': '20',\n",
    "                        'fontweight' : '3'})\n",
    "sm = plt.cm.ScalarMappable(cmap='hot_r', norm=plt.Normalize(vmin=vmin, vmax=vmax))\n",
    "sm._A = []\n",
    "cbar = fig.colorbar(sm)\n",
    "import matplotlib\n",
    "import matplotlib.pyplot as plt\n",
    "\n",
    "fig1 = plt.gcf()\n",
    "fig1.savefig('saved/p_migrated5.pdf')\n",
    "print(\"Map Saved in CRIKA_DASHBOARD saved file\")\n",
    "plt.close(fig1)"
   ]
  },
  {
   "cell_type": "code",
   "execution_count": 13,
   "metadata": {
    "collapsed": false,
    "deletable": true,
    "editable": true,
    "extensions": {
     "jupyter_dashboards": {
      "version": 1,
      "views": {
       "grid_default": {
        "col": 0,
        "height": 4,
        "hidden": false,
        "row": 51,
        "width": 6
       },
       "report_default": {}
      }
     }
    }
   },
   "outputs": [
    {
     "data": {
      "application/vnd.jupyter.widget-view+json": {
       "model_id": "493f3e0be0804ba990a1879e008ffe2a",
       "version_major": 2,
       "version_minor": 0
      },
      "text/plain": [
       "Button(button_style='success', description='Percentage of Population Unemployed', layout=Layout(height='80px',…"
      ]
     },
     "metadata": {},
     "output_type": "display_data"
    }
   ],
   "source": [
    "from IPython.display import Javascript, display\n",
    "from ipywidgets import widgets\n",
    "from ipywidgets import Button, Layout\n",
    "\n",
    "def run_all(ev):\n",
    "    display(Javascript('IPython.notebook.execute_cell_range(IPython.notebook.get_selected_index()+1, IPython.notebook.get_selected_index()+2)'))\n",
    "def print_all(ev):\n",
    "    print('Creating Map')\n",
    "button = widgets.Button(description=\"Percentage of Population Unemployed\", button_style = 'success',layout = Layout(width = '98%', height = '80px'))\n",
    "button.on_click(run_all)\n",
    "button.on_click(print_all)\n",
    "display(button)"
   ]
  },
  {
   "cell_type": "code",
   "execution_count": null,
   "metadata": {
    "collapsed": false,
    "deletable": true,
    "editable": true,
    "extensions": {
     "jupyter_dashboards": {
      "version": 1,
      "views": {
       "grid_default": {
        "col": 0,
        "height": 16,
        "hidden": false,
        "row": 55,
        "width": 6
       },
       "report_default": {}
      }
     }
    }
   },
   "outputs": [],
   "source": [
    "%matplotlib inline\n",
    "import geopandas as gpd\n",
    "import matplotlib.pyplot as plt\n",
    "import psycopg2  # (if it is postgres/postgis)\n",
    "\n",
    "conn = psycopg2.connect(database='lauren2', user='lauren', password='mastergreen', host='142.93.38.233', port='5432', sslmode='require')\n",
    "\n",
    "sql = \"select geom, pu from census\"\n",
    "\n",
    "df = gpd.GeoDataFrame.from_postgis(sql, conn, geom_col='geom' )\n",
    "\n",
    "vmin, vmax = 0, 100\n",
    "fig, ax = plt.subplots(1, figsize=(10, 6))\n",
    "\n",
    "df.plot(column='pu', cmap = 'hot_r', linewidth = 0.8, ax=ax, edgecolor='black', alpha=1)\n",
    "\n",
    "# Create colorbar as a legend\n",
    "ax.axis('off')\n",
    "ax.set_title('Percentage of Population Unemployed', \\\n",
    "              fontdict={'fontsize': '25',\n",
    "                        'fontweight' : '3'})\n",
    "sm = plt.cm.ScalarMappable(cmap='hot_r', norm=plt.Normalize(vmin=vmin, vmax=vmax))\n",
    "sm._A = []\n",
    "cbar = fig.colorbar(sm)\n",
    "def run_all(ev):\n",
    "    display(Javascript('IPython.notebook.execute_cell_range(IPython.notebook.get_selected_index()+1, IPython.notebook.get_selected_index()+2)'))\n",
    "def print_all(ev):\n",
    "    print('Saving Map')\n",
    "\n",
    "\n",
    "buttons = widgets.Button(description=\"Save Map\", button_style = 'success',layout = Layout(width = '50%', height = '40px'))\n",
    "buttons.style.button_color = 'lightgreen'\n",
    "buttons.on_click(run_all)\n",
    "buttons.on_click(print_all)\n",
    "display(buttons)"
   ]
  },
  {
   "cell_type": "code",
   "execution_count": null,
   "metadata": {
    "collapsed": false,
    "deletable": true,
    "editable": true,
    "extensions": {
     "jupyter_dashboards": {
      "version": 1,
      "views": {
       "grid_default": {
        "col": 0,
        "height": 2,
        "hidden": false,
        "row": 71,
        "width": 6
       },
       "report_default": {}
      }
     }
    }
   },
   "outputs": [],
   "source": [
    "%matplotlib inline\n",
    "import geopandas as gpd\n",
    "import matplotlib.pyplot as plt\n",
    "import psycopg2  # (if it is postgres/postgis)\n",
    "\n",
    "conn = psycopg2.connect(database='lauren2', user='lauren', password='mastergreen', host='142.93.38.233', port='5432', sslmode='require')\n",
    "\n",
    "sql = \"select geom, pu from census\"\n",
    "\n",
    "df = gpd.GeoDataFrame.from_postgis(sql, conn, geom_col='geom' )\n",
    "\n",
    "vmin, vmax = 0, 100\n",
    "fig, ax = plt.subplots(1, figsize=(10, 6))\n",
    "\n",
    "df.plot(column='pu', cmap = 'hot_r', linewidth = 0.8, ax=ax, edgecolor='black', alpha=1)\n",
    "\n",
    "# Create colorbar as a legend\n",
    "ax.axis('off')\n",
    "ax.set_title('Percentage of Population Unemployed', \\\n",
    "              fontdict={'fontsize': '25',\n",
    "                        'fontweight' : '3'})\n",
    "sm = plt.cm.ScalarMappable(cmap='hot_r', norm=plt.Normalize(vmin=vmin, vmax=vmax))\n",
    "sm._A = []\n",
    "cbar = fig.colorbar(sm)\n",
    "import matplotlib\n",
    "import matplotlib.pyplot as plt\n",
    "\n",
    "fig1 = plt.gcf()\n",
    "fig1.savefig('saved/p_unemployed.pdf')\n",
    "print(\"Map Saved in CRIKA_DASHBOARD saved file\")\n",
    "plt.close(fig1)"
   ]
  },
  {
   "cell_type": "markdown",
   "metadata": {
    "deletable": true,
    "editable": true,
    "extensions": {
     "jupyter_dashboards": {
      "version": 1,
      "views": {
       "grid_default": {
        "col": 0,
        "height": 4,
        "hidden": false,
        "row": 155,
        "width": 12
       },
       "report_default": {}
      }
     }
    }
   },
   "source": [
    "## You can also visualize all these census layers on a folium map"
   ]
  },
  {
   "cell_type": "code",
   "execution_count": 14,
   "metadata": {
    "collapsed": false,
    "deletable": true,
    "editable": true,
    "extensions": {
     "jupyter_dashboards": {
      "version": 1,
      "views": {
       "grid_default": {
        "col": 0,
        "height": 4,
        "hidden": false,
        "row": 159,
        "width": 12
       },
       "report_default": {}
      }
     }
    }
   },
   "outputs": [
    {
     "data": {
      "application/vnd.jupyter.widget-view+json": {
       "model_id": "3cb661e37d424cc483d3b16a33299346",
       "version_major": 2,
       "version_minor": 0
      },
      "text/plain": [
       "Button(button_style='success', description='View Census Map', layout=Layout(height='80px', width='98%'), style…"
      ]
     },
     "metadata": {},
     "output_type": "display_data"
    }
   ],
   "source": [
    "from IPython.display import Javascript, display\n",
    "from ipywidgets import widgets\n",
    "from ipywidgets import Button, Layout\n",
    "\n",
    "def run_all(ev):\n",
    "    display(Javascript('IPython.notebook.execute_cell_range(IPython.notebook.get_selected_index()+1, IPython.notebook.get_selected_index()+2)'))\n",
    "def print_all(ev):\n",
    "    print('Creating Map')\n",
    "button = widgets.Button(description=\"View Census Map\", button_style = 'success',layout = Layout(width = '98%', height = '80px'))\n",
    "button.on_click(run_all)\n",
    "button.on_click(print_all)\n",
    "display(button)"
   ]
  },
  {
   "cell_type": "code",
   "execution_count": null,
   "metadata": {
    "collapsed": false,
    "deletable": true,
    "editable": true,
    "extensions": {
     "jupyter_dashboards": {
      "version": 1,
      "views": {
       "grid_default": {
        "col": 0,
        "height": 23,
        "hidden": false,
        "row": 163,
        "width": 12
       },
       "report_default": {}
      }
     }
    },
    "scrolled": true
   },
   "outputs": [],
   "source": [
    "%matplotlib inline\n",
    "import geopandas as gpd\n",
    "import matplotlib.pyplot as plt\n",
    "import folium\n",
    "import pandas as pd\n",
    "from folium.plugins import MarkerCluster\n",
    "from ipyleaflet import Map, WMSLayer\n",
    "from folium import IFrame\n",
    "from folium.folium import Map\n",
    "\n",
    "\n",
    "SF_COORDINATES = (-34.0387396,18.6754113)\n",
    "\n",
    "MAX_RECORDS = 5000\n",
    "\n",
    "m = folium.Map(location=SF_COORDINATES, zoom_start=14)\n",
    "\n",
    "folium.TileLayer('cartodbdark_matter', name = 'cartodb').add_to(m)\n",
    "\n",
    "folium.raster_layers.WmsTileLayer(\n",
    "    url='http://camerongreen.me:8081/geoserver/wms?',\n",
    "    layers='lauren:census_pop',\n",
    "    name='Population',\n",
    "    fmt='image/png',\n",
    "    transparent=True,\n",
    "    overlay=True,\n",
    "    control=True,\n",
    ").add_to(m)\n",
    "\n",
    "folium.raster_layers.WmsTileLayer(\n",
    "    url='http://camerongreen.me:8081/geoserver/wms?',\n",
    "    layers='lauren:census_pb',\n",
    "    name='% Black African',\n",
    "    fmt='image/png',\n",
    "    transparent=True,\n",
    "    overlay=True,\n",
    "    control=True,\n",
    ").add_to(m)\n",
    "\n",
    "folium.raster_layers.WmsTileLayer(\n",
    "    url='http://camerongreen.me:8081/geoserver/wms?',\n",
    "    layers='lauren:census_pd',\n",
    "    name='% Divorced/Seperated',\n",
    "    fmt='image/png',\n",
    "    transparent=True,\n",
    "    overlay=True,\n",
    "    control=True,\n",
    ").add_to(m)\n",
    "\n",
    "folium.raster_layers.WmsTileLayer(\n",
    "    url='http://camerongreen.me:8081/geoserver/wms?',\n",
    "    layers='lauren:census_pf',\n",
    "    name='% Female Headed Households',\n",
    "    fmt='image/png',\n",
    "    transparent=True,\n",
    "    overlay=True,\n",
    "    control=True,\n",
    ").add_to(m)\n",
    "\n",
    "folium.raster_layers.WmsTileLayer(\n",
    "    url='http://camerongreen.me:8081/geoserver/wms?',\n",
    "    layers='lauren:census_fo',\n",
    "    name='% Foreign Born',\n",
    "    fmt='image/png',\n",
    "    transparent=True,\n",
    "    overlay=True,\n",
    "    control=True,\n",
    ").add_to(m)\n",
    "\n",
    "folium.raster_layers.WmsTileLayer(\n",
    "    url='http://camerongreen.me:8081/geoserver/wms?',\n",
    "    layers='lauren:census_ph',\n",
    "    name='% Female Headed Households',\n",
    "    fmt='image/png',\n",
    "    transparent=True,\n",
    "    overlay=True,\n",
    "    control=True,\n",
    ").add_to(m)\n",
    "\n",
    "folium.raster_layers.WmsTileLayer(\n",
    "    url='http://camerongreen.me:8081/geoserver/wms?',\n",
    "    layers='lauren:census_pi',\n",
    "    name='% Income > R128 000',\n",
    "    fmt='image/png',\n",
    "    transparent=True,\n",
    "    overlay=True,\n",
    "    control=True,\n",
    ").add_to(m)\n",
    "\n",
    "folium.raster_layers.WmsTileLayer(\n",
    "    url='http://camerongreen.me:8081/geoserver/wms?',\n",
    "    layers='lauren:census_pmig',\n",
    "    name='% Migrated in Last 5 Years',\n",
    "    fmt='image/png',\n",
    "    transparent=True,\n",
    "    overlay=True,\n",
    "    control=True,\n",
    ").add_to(m)\n",
    "\n",
    "\n",
    "\n",
    "folium.raster_layers.WmsTileLayer(\n",
    "    url='http://camerongreen.me:8081/geoserver/wms?',\n",
    "    layers='lauren:census_pu',\n",
    "    name='% Unemployed',\n",
    "    fmt='image/png',\n",
    "    transparent=True,\n",
    "    overlay=True,\n",
    "    control=True,\n",
    ").add_to(m)\n",
    "folium.raster_layers.WmsTileLayer(\n",
    "    url='http://camerongreen.me:8081/geoserver/wms?',\n",
    "    layers='lauren:census_pw',\n",
    "    name='% Born Outside the Western Cape',\n",
    "    fmt='image/png',\n",
    "    transparent=True,\n",
    "    overlay=True,\n",
    "    control=True,\n",
    ").add_to(m)\n",
    "folium.raster_layers.WmsTileLayer(\n",
    "    url='http://camerongreen.me:8081/geoserver/wms?',\n",
    "    layers='lauren:census_pe',\n",
    "    name='% Less than a Matric Education',\n",
    "    fmt='image/png',\n",
    "    transparent=True,\n",
    "    overlay=True,\n",
    "    control=True,\n",
    ").add_to(m)\n",
    "folium.raster_layers.WmsTileLayer(\n",
    "    url='http://camerongreen.me:8081/geoserver/wms?',\n",
    "    layers='lauren:census_pr',\n",
    "    name='% Renting',\n",
    "    fmt='image/png',\n",
    "    transparent=True,\n",
    "    overlay=True,\n",
    "    control=True,\n",
    ").add_to(m)\n",
    "\n",
    "\n",
    "folium.LayerControl().add_to(m)\n",
    "m\n"
   ]
  },
  {
   "cell_type": "markdown",
   "metadata": {
    "deletable": true,
    "editable": true,
    "extensions": {
     "jupyter_dashboards": {
      "version": 1,
      "views": {
       "grid_default": {
        "col": 0,
        "height": 3,
        "hidden": false,
        "row": 186,
        "width": 12
       },
       "report_default": {
        "hidden": false
       }
      }
     }
    }
   },
   "source": [
    "## Import the Crime Data to the Database"
   ]
  },
  {
   "cell_type": "markdown",
   "metadata": {
    "deletable": true,
    "editable": true,
    "extensions": {
     "jupyter_dashboards": {
      "version": 1,
      "views": {
       "grid_default": {
        "col": 0,
        "height": 4,
        "hidden": false,
        "row": 189,
        "width": 12
       },
       "report_default": {}
      }
     }
    }
   },
   "source": [
    "### 1 Import a csv to the data folder of this notebook and name it crime.csv\n",
    "\n",
    "### 2 Create a connection to the postgis database\n",
    "\n",
    "### 3 Create a table in the database and import the csv into this table"
   ]
  },
  {
   "cell_type": "code",
   "execution_count": 15,
   "metadata": {
    "collapsed": false,
    "deletable": true,
    "editable": true,
    "extensions": {
     "jupyter_dashboards": {
      "version": 1,
      "views": {
       "grid_default": {
        "col": 0,
        "height": 4,
        "hidden": false,
        "row": 193,
        "width": 12
       },
       "report_default": {}
      }
     }
    }
   },
   "outputs": [
    {
     "data": {
      "application/vnd.jupyter.widget-view+json": {
       "model_id": "c444ffe028de4608a3a6751c17cd2535",
       "version_major": 2,
       "version_minor": 0
      },
      "text/plain": [
       "Button(button_style='success', description='Create Crime Table in Database', layout=Layout(height='80px', widt…"
      ]
     },
     "metadata": {},
     "output_type": "display_data"
    }
   ],
   "source": [
    "from IPython.display import Javascript, display\n",
    "from ipywidgets import widgets\n",
    "from ipywidgets import Button, Layout\n",
    "\n",
    "def run_all(ev):\n",
    "    display(Javascript('IPython.notebook.execute_cell_range(IPython.notebook.get_selected_index()+1, IPython.notebook.get_selected_index()+2)'))\n",
    "    \n",
    "def print_all(ev):\n",
    "    print('Creating Crime Table')\n",
    "\n",
    "button = widgets.Button(description=\"Create Crime Table in Database\", button_style = 'success',layout = Layout(width = '50%', height = '80px'))\n",
    "button.on_click(run_all)\n",
    "button.on_click(print_all)\n",
    "display(button)"
   ]
  },
  {
   "cell_type": "code",
   "execution_count": null,
   "metadata": {
    "collapsed": false,
    "deletable": true,
    "editable": true,
    "extensions": {
     "jupyter_dashboards": {
      "version": 1,
      "views": {
       "grid_default": {
        "col": 0,
        "height": 2,
        "hidden": false,
        "row": 197,
        "width": 12
       },
       "report_default": {
        "hidden": false
       }
      }
     }
    }
   },
   "outputs": [],
   "source": [
    "import psycopg2\n",
    "\n",
    "conn = psycopg2.connect(database='lauren2', user='lauren', password='mastergreen', host='142.93.38.233', port='5432', sslmode='require')\n",
    "cur = conn.cursor()\n",
    "cur.execute(\"\"\"\n",
    "CREATE TABLE IF NOT EXISTS crime(\n",
    "    iid numeric PRIMARY KEY,\n",
    "    x numeric,\n",
    "    y numeric,\n",
    "    cc character varying,\n",
    "    year numeric,\n",
    "    month numeric,\n",
    "    day numeric,\n",
    "    dayn numeric,\n",
    "    hour numeric,\n",
    "    min numeric\n",
    "    \n",
    "    )\n",
    "\"\"\")\n",
    "\n",
    "with open('data/crime.csv', 'r') as f:\n",
    "    # Notice that we don't need the `csv` module.\n",
    "    next(f)  # Skip the header row.\n",
    "    cur.copy_from(f, 'crime', sep=',')\n",
    "    \n",
    "cur.execute(\"\"\"\n",
    "alter table crime add column geom geometry(Point, 4326);\n",
    "\"\"\")\n",
    "cur.execute(\"\"\"\n",
    "update crime set geom=st_SetSrid(st_MakePoint(x, y), 4326);\n",
    "\"\"\")\n",
    "conn.commit()\n",
    "print(\"Crime Table Created\")"
   ]
  },
  {
   "cell_type": "markdown",
   "metadata": {
    "deletable": true,
    "editable": true,
    "extensions": {
     "jupyter_dashboards": {
      "version": 1,
      "views": {
       "grid_default": {
        "col": 0,
        "height": 3,
        "hidden": false,
        "row": 199,
        "width": 12
       },
       "report_default": {}
      }
     }
    }
   },
   "source": [
    "## Visualize the Crime Data using Folium Maps with Clustered Markers"
   ]
  },
  {
   "cell_type": "code",
   "execution_count": 16,
   "metadata": {
    "collapsed": false,
    "deletable": true,
    "editable": true,
    "extensions": {
     "jupyter_dashboards": {
      "version": 1,
      "views": {
       "grid_default": {
        "col": 0,
        "height": 4,
        "hidden": false,
        "row": 202,
        "width": 12
       },
       "report_default": {}
      }
     }
    }
   },
   "outputs": [
    {
     "data": {
      "application/vnd.jupyter.widget-view+json": {
       "model_id": "e8f207303b334f209d5799ff6073770f",
       "version_major": 2,
       "version_minor": 0
      },
      "text/plain": [
       "Button(button_style='success', description='Create Crime Map using ipyleaflet and Folium', layout=Layout(heigh…"
      ]
     },
     "metadata": {},
     "output_type": "display_data"
    }
   ],
   "source": [
    "from IPython.display import Javascript, display\n",
    "from ipywidgets import widgets\n",
    "from ipywidgets import Button, Layout\n",
    "\n",
    "def run_all(ev):\n",
    "    display(Javascript('IPython.notebook.execute_cell_range(IPython.notebook.get_selected_index()+1, IPython.notebook.get_selected_index()+2)'))\n",
    "def print_all(ev):\n",
    "    print('Creating Map')\n",
    "button = widgets.Button(description=\"Create Crime Map using ipyleaflet and Folium\", button_style = 'success',layout = Layout(width = '50%', height = '80px'))\n",
    "button.on_click(run_all)\n",
    "button.on_click(print_all)\n",
    "display(button)"
   ]
  },
  {
   "cell_type": "code",
   "execution_count": null,
   "metadata": {
    "collapsed": false,
    "deletable": true,
    "editable": true,
    "extensions": {
     "jupyter_dashboards": {
      "version": 1,
      "views": {
       "grid_default": {
        "col": 0,
        "height": 16,
        "hidden": false,
        "row": 206,
        "width": 12
       },
       "report_default": {
        "hidden": false
       }
      }
     }
    },
    "scrolled": true
   },
   "outputs": [],
   "source": [
    "%matplotlib inline\n",
    "import geopandas as gpd\n",
    "import matplotlib.pyplot as plt\n",
    "import folium\n",
    "import pandas as pd\n",
    "from folium.plugins import MarkerCluster\n",
    "from ipyleaflet import Map, WMSLayer\n",
    "from folium import IFrame\n",
    "from folium.folium import Map\n",
    "\n",
    "import psycopg2  # (if it is postgres/postgis)\n",
    "\n",
    "conn = psycopg2.connect(database='lauren2', user='lauren', password='mastergreen', host='142.93.38.233', port='5432', sslmode='require')\n",
    "\n",
    "sql2 = \"select geom, x, y,iid from crime \"\n",
    "\n",
    "df2 = gpd.GeoDataFrame.from_postgis(sql2, conn, geom_col='geom' )\n",
    "\n",
    "SF_COORDINATES = (-34.0387396,18.6754113)\n",
    "\n",
    "MAX_RECORDS = 5000\n",
    "\n",
    "m = folium.Map(location=SF_COORDINATES, zoom_start=14)\n",
    "marker_cluster = MarkerCluster(name = 'Clustered Crime').add_to(m)\n",
    "\n",
    " \n",
    "# add a marker for every record in the filtered data, use a clustered view\n",
    "for each in df2[0:MAX_RECORDS].iterrows():\n",
    "   folium.Marker(\n",
    "        location = [each[1]['y'],each[1]['x']]).add_to(marker_cluster)\n",
    "\n",
    "folium.TileLayer('cartodbdark_matter', name = 'cartodb').add_to(m)\n",
    "\n",
    "folium.raster_layers.WmsTileLayer(\n",
    "    url='http://camerongreen.me:8081/geoserver/wms?',\n",
    "    layers='lauren:crime_type',\n",
    "    name='Crime Type',\n",
    "    fmt='image/png',\n",
    "    transparent=True,\n",
    "    overlay=True,\n",
    "    control=True,\n",
    ").add_to(m)\n",
    "\n",
    "folium.raster_layers.WmsTileLayer(\n",
    "    url='http://camerongreen.me:8081/geoserver/wms?',\n",
    "    layers='lauren:crime_day',\n",
    "    name='Crime: Days of the Week',\n",
    "    fmt='image/png',\n",
    "    transparent=True,\n",
    "    overlay=True,\n",
    "    control=True,\n",
    ").add_to(m)\n",
    "\n",
    "folium.LayerControl().add_to(m)\n",
    "m\n"
   ]
  },
  {
   "cell_type": "markdown",
   "metadata": {
    "deletable": true,
    "editable": true,
    "extensions": {
     "jupyter_dashboards": {
      "version": 1,
      "views": {
       "grid_default": {
        "col": 0,
        "height": 4,
        "hidden": false,
        "row": 222,
        "width": 12
       },
       "report_default": {}
      }
     }
    }
   },
   "source": [
    "## Calculate Crime Count per  Neighbourhood "
   ]
  },
  {
   "cell_type": "markdown",
   "metadata": {
    "deletable": true,
    "editable": true,
    "extensions": {
     "jupyter_dashboards": {
      "version": 1,
      "views": {
       "grid_default": {
        "col": 0,
        "height": 4,
        "hidden": false,
        "row": 226,
        "width": 12
       },
       "report_default": {}
      }
     }
    }
   },
   "source": [
    "### 1 Create a connection to the postgis database\n",
    "\n",
    "### 2 Make sure the Census table is in an approriate EPSG \n",
    "\n",
    "### 3 Create a view that works out the number of crime incidents per neighbourhood using a point-in-polygon query"
   ]
  },
  {
   "cell_type": "code",
   "execution_count": 17,
   "metadata": {
    "collapsed": false,
    "deletable": true,
    "editable": true,
    "extensions": {
     "jupyter_dashboards": {
      "version": 1,
      "views": {
       "grid_default": {
        "col": 0,
        "height": 5,
        "hidden": false,
        "row": 230,
        "width": 12
       },
       "report_default": {}
      }
     }
    }
   },
   "outputs": [
    {
     "data": {
      "application/vnd.jupyter.widget-view+json": {
       "model_id": "b130fe8213574330bf13318345eeaca2",
       "version_major": 2,
       "version_minor": 0
      },
      "text/plain": [
       "Button(button_style='success', description='Create Crime Count View', layout=Layout(height='80px', width='50%'…"
      ]
     },
     "metadata": {},
     "output_type": "display_data"
    }
   ],
   "source": [
    "from IPython.display import Javascript, display\n",
    "from ipywidgets import widgets\n",
    "from ipywidgets import Button, Layout\n",
    "\n",
    "def run_all(ev):\n",
    "    display(Javascript('IPython.notebook.execute_cell_range(IPython.notebook.get_selected_index()+1, IPython.notebook.get_selected_index()+2)'))\n",
    "    \n",
    "def print_all(ev):\n",
    "    print('Creating Crime Count View')\n",
    "\n",
    "button = widgets.Button(description=\"Create Crime Count View\", button_style = 'success',layout = Layout(width = '50%', height = '80px'))\n",
    "button.on_click(run_all)\n",
    "button.on_click(print_all)\n",
    "display(button)"
   ]
  },
  {
   "cell_type": "code",
   "execution_count": null,
   "metadata": {
    "collapsed": false,
    "deletable": true,
    "editable": true,
    "extensions": {
     "jupyter_dashboards": {
      "version": 1,
      "views": {
       "grid_default": {
        "col": 0,
        "height": 2,
        "hidden": false,
        "row": 235,
        "width": 12
       },
       "report_default": {
        "hidden": false
       }
      }
     }
    }
   },
   "outputs": [],
   "source": [
    "import psycopg2\n",
    "\n",
    "conn = psycopg2.connect(database='lauren2', user='lauren', password='mastergreen', host='142.93.38.233', port='5432', sslmode='require')\n",
    "cur = conn.cursor()\n",
    "cur.execute(\"\"\"\n",
    "ALTER TABLE census ALTER COLUMN geom TYPE geometry(MultiPolygon,4326) USING ST_SetSRID(geom,4326)\n",
    "\"\"\")\n",
    "cur.execute(\"\"\"\n",
    "create view v_ccount as select census.sal_code, count(crime.iid) as ccount, census.geom, census.pop\n",
    "from census left join crime\n",
    "on ST_Contains(census.geom, crime.geom)\n",
    "group by census.sal_code\n",
    "order by census.sal_code ASC\n",
    "\"\"\")\n",
    "conn.commit()\n",
    "print(\"Crime Count View Created\")"
   ]
  },
  {
   "cell_type": "markdown",
   "metadata": {
    "deletable": true,
    "editable": true,
    "extensions": {
     "jupyter_dashboards": {
      "version": 1,
      "views": {
       "grid_default": {
        "col": 0,
        "height": 5,
        "hidden": false,
        "row": 237,
        "width": 12
       },
       "report_default": {
        "hidden": false
       }
      }
     }
    }
   },
   "source": [
    "## Visualize the Crime Count per Neighbourhood using matplotlib and Geopandas "
   ]
  },
  {
   "cell_type": "code",
   "execution_count": 18,
   "metadata": {
    "collapsed": false,
    "deletable": true,
    "editable": true,
    "extensions": {
     "jupyter_dashboards": {
      "version": 1,
      "views": {
       "grid_default": {
        "col": 0,
        "height": 5,
        "hidden": false,
        "row": 242,
        "width": 12
       },
       "report_default": {}
      }
     }
    }
   },
   "outputs": [
    {
     "data": {
      "application/vnd.jupyter.widget-view+json": {
       "model_id": "d2e4472ca2524e1b89618f8a9d5daa50",
       "version_major": 2,
       "version_minor": 0
      },
      "text/plain": [
       "Button(button_style='success', description='Create Crime Count Map ', layout=Layout(height='80px', width='50%'…"
      ]
     },
     "metadata": {},
     "output_type": "display_data"
    }
   ],
   "source": [
    "from IPython.display import Javascript, display\n",
    "from ipywidgets import widgets\n",
    "from ipywidgets import Button, Layout\n",
    "\n",
    "def run_all(ev):\n",
    "    display(Javascript('IPython.notebook.execute_cell_range(IPython.notebook.get_selected_index()+1, IPython.notebook.get_selected_index()+2)'))\n",
    "def print_all(ev):\n",
    "    print('Creating Map')\n",
    "button = widgets.Button(description=\"Create Crime Count Map \", button_style = 'success',layout = Layout(width = '50%', height = '80px'))\n",
    "button.on_click(run_all)\n",
    "button.on_click(print_all)\n",
    "display(button)"
   ]
  },
  {
   "cell_type": "code",
   "execution_count": null,
   "metadata": {
    "collapsed": false,
    "deletable": true,
    "editable": true,
    "extensions": {
     "jupyter_dashboards": {
      "version": 1,
      "views": {
       "grid_default": {
        "col": 0,
        "height": 16,
        "hidden": false,
        "row": 247,
        "width": 12
       },
       "report_default": {
        "hidden": false
       }
      }
     }
    }
   },
   "outputs": [],
   "source": [
    "%matplotlib inline\n",
    "import geopandas as gpd\n",
    "import matplotlib.pyplot as plt\n",
    "\n",
    "\n",
    "import psycopg2  # (if it is postgres/postgis)\n",
    "\n",
    "conn = psycopg2.connect(database='lauren2', user='lauren', password='mastergreen', host='142.93.38.233', port='5432', sslmode='require')\n",
    "\n",
    "sql3 = \"select geom, ccount from v_ccount\"\n",
    "\n",
    "df3 = gpd.GeoDataFrame.from_postgis(sql3, conn, geom_col='geom' )\n",
    "\n",
    "vmin, vmax = 0, 400\n",
    "fig, ax = plt.subplots(1, figsize=(10, 6))\n",
    "\n",
    "df3.plot(column='ccount', cmap = 'hot_r', linewidth = 0.8, ax=ax, edgecolor='black', alpha=1)\n",
    "\n",
    "# Create colorbar as a legend\n",
    "ax.axis('off')\n",
    "ax.set_title('Khayelitsha Crime Count per Neighbourhood', \\\n",
    "              fontdict={'fontsize': '25',\n",
    "                        'fontweight' : '3'})\n",
    "sm = plt.cm.ScalarMappable(cmap='hot_r', norm=plt.Normalize(vmin=vmin, vmax=vmax))\n",
    "sm._A = []\n",
    "cbar = fig.colorbar(sm)\n",
    "\n",
    "def run_all(ev):\n",
    "    display(Javascript('IPython.notebook.execute_cell_range(IPython.notebook.get_selected_index()+1, IPython.notebook.get_selected_index()+2)'))\n",
    "def print_all(ev):\n",
    "    print('Saving Map')\n",
    "\n",
    "\n",
    "buttons = widgets.Button(description=\"Save Map\", button_style = 'success',layout = Layout(width = '50%', height = '40px'))\n",
    "buttons.style.button_color = 'lightgreen'\n",
    "buttons.on_click(run_all)\n",
    "buttons.on_click(print_all)\n",
    "display(buttons)\n"
   ]
  },
  {
   "cell_type": "code",
   "execution_count": null,
   "metadata": {
    "collapsed": false,
    "deletable": true,
    "editable": true,
    "extensions": {
     "jupyter_dashboards": {
      "version": 1,
      "views": {
       "grid_default": {
        "col": 0,
        "height": 2,
        "hidden": false,
        "row": 263,
        "width": 12
       },
       "report_default": {}
      }
     }
    }
   },
   "outputs": [],
   "source": [
    "%matplotlib inline\n",
    "import geopandas as gpd\n",
    "import matplotlib.pyplot as plt\n",
    "\n",
    "\n",
    "import psycopg2  # (if it is postgres/postgis)\n",
    "\n",
    "conn = psycopg2.connect(database='lauren2', user='lauren', password='mastergreen', host='142.93.38.233', port='5432', sslmode='require')\n",
    "\n",
    "sql3 = \"select geom, ccount from v_ccount\"\n",
    "\n",
    "df3 = gpd.GeoDataFrame.from_postgis(sql3, conn, geom_col='geom' )\n",
    "\n",
    "vmin, vmax = 0, 400\n",
    "fig, ax = plt.subplots(1, figsize=(10, 6))\n",
    "\n",
    "df3.plot(column='ccount', cmap = 'hot_r', linewidth = 0.8, ax=ax, edgecolor='black', alpha=1)\n",
    "\n",
    "# Create colorbar as a legend\n",
    "ax.axis('off')\n",
    "ax.set_title('Khayelitsha Crime Count per Neighbourhood', \\\n",
    "              fontdict={'fontsize': '25',\n",
    "                        'fontweight' : '3'})\n",
    "sm = plt.cm.ScalarMappable(cmap='hot_r', norm=plt.Normalize(vmin=vmin, vmax=vmax))\n",
    "sm._A = []\n",
    "cbar = fig.colorbar(sm)\n",
    "import matplotlib\n",
    "import matplotlib.pyplot as plt\n",
    "\n",
    "fig1 = plt.gcf()\n",
    "fig1.savefig('saved/crimecount.pdf')\n",
    "print(\"Map Saved in CRIKA_DASHBOARD saved file\")\n",
    "plt.close(fig1)"
   ]
  },
  {
   "cell_type": "markdown",
   "metadata": {
    "deletable": true,
    "editable": true,
    "extensions": {
     "jupyter_dashboards": {
      "version": 1,
      "views": {
       "grid_default": {
        "col": 0,
        "height": 3,
        "hidden": false,
        "row": 265,
        "width": 12
       },
       "report_default": {
        "hidden": false
       }
      }
     }
    }
   },
   "source": [
    "## Calculate Crime Rate per 1000 Individuals "
   ]
  },
  {
   "cell_type": "markdown",
   "metadata": {
    "deletable": true,
    "editable": true,
    "extensions": {
     "jupyter_dashboards": {
      "version": 1,
      "views": {
       "grid_default": {
        "col": 0,
        "height": 4,
        "hidden": false,
        "row": 268,
        "width": 12
       },
       "report_default": {}
      }
     }
    }
   },
   "source": [
    "### 1 Create a connection to the postgis database\n",
    "\n",
    "### 2 Create a view that takes the crime count/population * 1000 and creates a column for crime rate\n"
   ]
  },
  {
   "cell_type": "code",
   "execution_count": 19,
   "metadata": {
    "collapsed": false,
    "deletable": true,
    "editable": true,
    "extensions": {
     "jupyter_dashboards": {
      "version": 1,
      "views": {
       "grid_default": {
        "col": 0,
        "height": 4,
        "hidden": false,
        "row": 272,
        "width": 12
       },
       "report_default": {}
      }
     }
    }
   },
   "outputs": [
    {
     "data": {
      "application/vnd.jupyter.widget-view+json": {
       "model_id": "4089c2246dcc42989f56d1026ec9f61a",
       "version_major": 2,
       "version_minor": 0
      },
      "text/plain": [
       "Button(button_style='success', description='Create Crime Rate per 1000 Individuals View', layout=Layout(height…"
      ]
     },
     "metadata": {},
     "output_type": "display_data"
    }
   ],
   "source": [
    "from IPython.display import Javascript, display\n",
    "from ipywidgets import widgets\n",
    "from ipywidgets import Button, Layout\n",
    "\n",
    "def run_all(ev):\n",
    "    display(Javascript('IPython.notebook.execute_cell_range(IPython.notebook.get_selected_index()+1, IPython.notebook.get_selected_index()+2)'))\n",
    "    \n",
    "def print_all(ev):\n",
    "    print('Creating Crime Rate View')\n",
    "\n",
    "button = widgets.Button(description=\"Create Crime Rate per 1000 Individuals View\", button_style = 'success',layout = Layout(width = '50%', height = '80px'))\n",
    "button.on_click(run_all)\n",
    "button.on_click(print_all)\n",
    "display(button)"
   ]
  },
  {
   "cell_type": "code",
   "execution_count": null,
   "metadata": {
    "collapsed": false,
    "deletable": true,
    "editable": true,
    "extensions": {
     "jupyter_dashboards": {
      "version": 1,
      "views": {
       "grid_default": {
        "col": 0,
        "height": 2,
        "hidden": false,
        "row": 276,
        "width": 12
       },
       "report_default": {
        "hidden": false
       }
      }
     }
    }
   },
   "outputs": [],
   "source": [
    "import psycopg2\n",
    "\n",
    "conn = psycopg2.connect(database='lauren2', user='lauren', password='mastergreen', host='142.93.38.233', port='5432', sslmode='require')\n",
    "cur = conn.cursor()\n",
    "\n",
    "cur.execute(\"\"\"\n",
    "CREATE VIEW v_crate as SELECT sal_code, ccount, pop, geom,\n",
    "CAST((cast(ccount as numeric(9,4)) / pop) * 1000 AS bigint) as crate\n",
    "from v_ccount\n",
    "GROUP BY sal_code, pop, ccount, geom\n",
    "order by sal_code ASC\n",
    "\"\"\")\n",
    "conn.commit()\n",
    "print('Crime Rate view Created')"
   ]
  },
  {
   "cell_type": "markdown",
   "metadata": {
    "deletable": true,
    "editable": true,
    "extensions": {
     "jupyter_dashboards": {
      "version": 1,
      "views": {
       "grid_default": {
        "col": 0,
        "height": 3,
        "hidden": false,
        "row": 278,
        "width": 12
       },
       "report_default": {
        "hidden": false
       }
      }
     }
    }
   },
   "source": [
    "## Visualize the Crime Rate using matplotlib and Geopandas "
   ]
  },
  {
   "cell_type": "code",
   "execution_count": 20,
   "metadata": {
    "collapsed": false,
    "deletable": true,
    "editable": true,
    "extensions": {
     "jupyter_dashboards": {
      "version": 1,
      "views": {
       "grid_default": {
        "col": 0,
        "height": 4,
        "hidden": false,
        "row": 281,
        "width": 12
       },
       "report_default": {}
      }
     }
    }
   },
   "outputs": [
    {
     "data": {
      "application/vnd.jupyter.widget-view+json": {
       "model_id": "a602a351e0af44bd8a8ba2f90ecd30b7",
       "version_major": 2,
       "version_minor": 0
      },
      "text/plain": [
       "Button(button_style='success', description='Create Crime Rate Map ', layout=Layout(height='80px', width='50%')…"
      ]
     },
     "metadata": {},
     "output_type": "display_data"
    }
   ],
   "source": [
    "from IPython.display import Javascript, display\n",
    "from ipywidgets import widgets\n",
    "from ipywidgets import Button, Layout\n",
    "\n",
    "def run_all(ev):\n",
    "    display(Javascript('IPython.notebook.execute_cell_range(IPython.notebook.get_selected_index()+1, IPython.notebook.get_selected_index()+2)'))\n",
    "def print_all(ev):\n",
    "    print('Creating Map')\n",
    "    \n",
    "button = widgets.Button(description=\"Create Crime Rate Map \", button_style = 'success',layout = Layout(width = '50%', height = '80px'))\n",
    "button.on_click(run_all)\n",
    "button.on_click(print_all)\n",
    "display(button)"
   ]
  },
  {
   "cell_type": "code",
   "execution_count": null,
   "metadata": {
    "collapsed": false,
    "deletable": true,
    "editable": true,
    "extensions": {
     "jupyter_dashboards": {
      "version": 1,
      "views": {
       "grid_default": {
        "col": 0,
        "height": 16,
        "hidden": false,
        "row": 285,
        "width": 12
       },
       "report_default": {
        "hidden": false
       }
      }
     }
    }
   },
   "outputs": [],
   "source": [
    "%matplotlib inline\n",
    "import geopandas as gpd\n",
    "import matplotlib.pyplot as plt\n",
    "\n",
    "\n",
    "import psycopg2  # (if it is postgres/postgis)\n",
    "\n",
    "conn = psycopg2.connect(database='lauren2', user='lauren', password='mastergreen', host='142.93.38.233', port='5432', sslmode='require')\n",
    "\n",
    "sql4 = \"select geom, crate, pop from v_crate\"\n",
    "\n",
    "df4 = gpd.GeoDataFrame.from_postgis(sql4, conn, geom_col='geom' )\n",
    "\n",
    "vmin, vmax = 0, 400\n",
    "fig, ax = plt.subplots(1, figsize=(10, 6))\n",
    "\n",
    "df4.plot(column='crate', cmap = 'hot_r', linewidth = 0.8, ax=ax, edgecolor='black', alpha=1)\n",
    "\n",
    "# Create colorbar as a legend\n",
    "ax.axis('off')\n",
    "ax.set_title('Khayelitsha Crime Rate per 100 Persons', \\\n",
    "              fontdict={'fontsize': '25',\n",
    "                        'fontweight' : '3'})\n",
    "sm = plt.cm.ScalarMappable(cmap='hot_r', norm=plt.Normalize(vmin=vmin, vmax=vmax))\n",
    "sm._A = []\n",
    "cbar = fig.colorbar(sm)\n",
    "\n",
    "def run_all(ev):\n",
    "    display(Javascript('IPython.notebook.execute_cell_range(IPython.notebook.get_selected_index()+1, IPython.notebook.get_selected_index()+2)'))\n",
    "def print_all(ev):\n",
    "    print('Saving Map')\n",
    "\n",
    "\n",
    "buttons = widgets.Button(description=\"Save Map\", button_style = 'success',layout = Layout(width = '50%', height = '40px'))\n",
    "buttons.style.button_color = 'lightgreen'\n",
    "buttons.on_click(run_all)\n",
    "buttons.on_click(print_all)\n",
    "display(buttons)\n"
   ]
  },
  {
   "cell_type": "code",
   "execution_count": null,
   "metadata": {
    "collapsed": false,
    "deletable": true,
    "editable": true,
    "extensions": {
     "jupyter_dashboards": {
      "version": 1,
      "views": {
       "grid_default": {
        "col": 0,
        "height": 2,
        "hidden": false,
        "row": 301,
        "width": 12
       },
       "report_default": {}
      }
     }
    }
   },
   "outputs": [],
   "source": [
    "%matplotlib inline\n",
    "import geopandas as gpd\n",
    "import matplotlib.pyplot as plt\n",
    "\n",
    "\n",
    "import psycopg2  # (if it is postgres/postgis)\n",
    "\n",
    "conn = psycopg2.connect(database='lauren2', user='lauren', password='mastergreen', host='142.93.38.233', port='5432', sslmode='require')\n",
    "\n",
    "sql4 = \"select geom, crate, pop from v_crate\"\n",
    "\n",
    "df4 = gpd.GeoDataFrame.from_postgis(sql4, conn, geom_col='geom' )\n",
    "\n",
    "vmin, vmax = 0, 400\n",
    "fig, ax = plt.subplots(1, figsize=(10, 6))\n",
    "\n",
    "df4.plot(column='crate', cmap = 'hot_r', linewidth = 0.8, ax=ax, edgecolor='black', alpha=1)\n",
    "\n",
    "# Create colorbar as a legend\n",
    "ax.axis('off')\n",
    "ax.set_title('Khayelitsha Crime Rate per 100 Persons', \\\n",
    "              fontdict={'fontsize': '25',\n",
    "                        'fontweight' : '3'})\n",
    "sm = plt.cm.ScalarMappable(cmap='hot_r', norm=plt.Normalize(vmin=vmin, vmax=vmax))\n",
    "sm._A = []\n",
    "cbar = fig.colorbar(sm)\n",
    "import matplotlib\n",
    "import matplotlib.pyplot as plt\n",
    "\n",
    "fig1 = plt.gcf()\n",
    "fig1.savefig('saved/crimerate.pdf')\n",
    "print(\"Map Saved in CRIKA_DASHBOARD saved file\")\n",
    "plt.close(fig1)"
   ]
  },
  {
   "cell_type": "markdown",
   "metadata": {
    "deletable": true,
    "editable": true,
    "extensions": {
     "jupyter_dashboards": {
      "version": 1,
      "views": {
       "grid_default": {
        "col": 0,
        "height": 4,
        "hidden": false,
        "row": 303,
        "width": 12
       },
       "report_default": {
        "hidden": false
       }
      }
     }
    }
   },
   "source": [
    "## Create a Correlation Matrix of Census Values"
   ]
  },
  {
   "cell_type": "markdown",
   "metadata": {
    "deletable": true,
    "editable": true,
    "extensions": {
     "jupyter_dashboards": {
      "version": 1,
      "views": {
       "grid_default": {
        "col": 0,
        "height": 4,
        "hidden": false,
        "row": 307,
        "width": 12
       },
       "report_default": {}
      }
     }
    }
   },
   "source": [
    "### A correlation matrix will ensure we do not use census values that predict one another\n",
    "\n",
    "### Variables with correlations greater than 0.7 will be removed from the analysis"
   ]
  },
  {
   "cell_type": "code",
   "execution_count": 21,
   "metadata": {
    "collapsed": false,
    "deletable": true,
    "editable": true,
    "extensions": {
     "jupyter_dashboards": {
      "version": 1,
      "views": {
       "grid_default": {
        "col": 0,
        "height": 4,
        "hidden": false,
        "row": 311,
        "width": 12
       },
       "report_default": {}
      }
     }
    }
   },
   "outputs": [
    {
     "data": {
      "application/vnd.jupyter.widget-view+json": {
       "model_id": "87e5e9605e3f42d5818a671985a82bf4",
       "version_major": 2,
       "version_minor": 0
      },
      "text/plain": [
       "Button(button_style='success', description='Create Correlation Matrix ', layout=Layout(height='80px', width='5…"
      ]
     },
     "metadata": {},
     "output_type": "display_data"
    }
   ],
   "source": [
    "from IPython.display import Javascript, display\n",
    "from ipywidgets import widgets\n",
    "from ipywidgets import Button, Layout\n",
    "\n",
    "def run_all(ev):\n",
    "    display(Javascript('IPython.notebook.execute_cell_range(IPython.notebook.get_selected_index()+1, IPython.notebook.get_selected_index()+2)'))\n",
    "def print_all(ev):\n",
    "    print('Creating Correlation Matrix')\n",
    "    \n",
    "button = widgets.Button(description=\"Create Correlation Matrix \", button_style = 'success',layout = Layout(width = '50%', height = '80px'))\n",
    "button.on_click(run_all)\n",
    "button.on_click(print_all)\n",
    "display(button)"
   ]
  },
  {
   "cell_type": "code",
   "execution_count": null,
   "metadata": {
    "collapsed": false,
    "deletable": true,
    "editable": true,
    "extensions": {
     "jupyter_dashboards": {
      "version": 1,
      "views": {
       "grid_default": {
        "col": 0,
        "height": 24,
        "hidden": false,
        "row": 315,
        "width": 12
       },
       "report_default": {
        "hidden": false
       }
      }
     }
    }
   },
   "outputs": [],
   "source": [
    "%matplotlib inline\n",
    "import geopandas as gpd\n",
    "import pandas as pd\n",
    "import matplotlib.pyplot as plt\n",
    "\n",
    "\n",
    "import psycopg2  # (if it is postgres/postgis)\n",
    "\n",
    "conn = psycopg2.connect(database='lauren2', user='lauren', password='mastergreen', host='142.93.38.233', port='5432', sslmode='require')\n",
    "\n",
    "sql5 = \"select pm, pe, pr, pf, ph, pb, pd, pi, pw, pfo, pmig, pu from census\"\n",
    "\n",
    "df5 = pd.read_sql(sql5, conn)\n",
    "\n",
    "df5=df5[0:12]\n",
    "\n",
    "\n",
    "def correlation_matrix(df5):\n",
    "    from matplotlib import pyplot as plt\n",
    "    from matplotlib import cm as cm\n",
    "\n",
    "    fig = plt.figure(figsize=(12,12))\n",
    "    xc = 0,1,2,3,4,5,6,7,8,9,10,11\n",
    "    ax1 = fig.add_subplot(111)\n",
    "    cmap = cm.get_cmap('inferno_r')\n",
    "    cax = ax1.imshow(df5.corr(), interpolation=\"nearest\", cmap=cmap)\n",
    "    ax1.grid(True)\n",
    "    plt.title('Cenus Data Correlation')\n",
    "    labels=['%Male 15-34','%Less then G12','%Renting','%Female HOH','%HS > 6','%Black African','%Divorced/Seperated','%Income <640000','%Born outside WC','%Foreign','%Migrated in Last 5 Years','%Unemployed',]\n",
    "    ax1.set_xticklabels(labels,fontsize=10, rotation = 45)\n",
    "    ax1.set_yticklabels(labels,fontsize=10)\n",
    "    ax1.set_xticks(xc)\n",
    "    ax1.set_yticks(xc)\n",
    "  \n",
    "    # Add colorbar, make sure to specify tick locations to match desired ticklabels\n",
    "    fig.colorbar(cax )\n",
    "    plt.show()\n",
    "\n",
    "correlation_matrix(df5)\n",
    "\n",
    "\n",
    "def run_all(ev):\n",
    "    display(Javascript('IPython.notebook.execute_cell_range(IPython.notebook.get_selected_index()+1, IPython.notebook.get_selected_index()+2)'))\n",
    "def print_all(ev):\n",
    "    print('Saving Matrix')\n",
    "\n",
    "\n",
    "buttons = widgets.Button(description=\"Save Matrix\", button_style = 'success',layout = Layout(width = '50%', height = '40px'))\n",
    "buttons.style.button_color = 'lightgreen'\n",
    "buttons.on_click(run_all)\n",
    "buttons.on_click(print_all)\n",
    "display(buttons)"
   ]
  },
  {
   "cell_type": "code",
   "execution_count": null,
   "metadata": {
    "collapsed": false,
    "deletable": true,
    "editable": true,
    "extensions": {
     "jupyter_dashboards": {
      "version": 1,
      "views": {
       "grid_default": {
        "col": 0,
        "height": 2,
        "hidden": false,
        "row": 339,
        "width": 12
       },
       "report_default": {}
      }
     }
    }
   },
   "outputs": [],
   "source": [
    "%matplotlib inline\n",
    "import geopandas as gpd\n",
    "import pandas as pd\n",
    "import matplotlib.pyplot as plt\n",
    "\n",
    "\n",
    "import psycopg2  # (if it is postgres/postgis)\n",
    "\n",
    "conn = psycopg2.connect(database='lauren2', user='lauren', password='mastergreen', host='142.93.38.233', port='5432', sslmode='require')\n",
    "\n",
    "sql5 = \"select pm, pe, pr, pf, ph, pb, pd, pi, pw, pfo, pmig, pu from census\"\n",
    "\n",
    "df5 = pd.read_sql(sql5, conn)\n",
    "\n",
    "df5=df5[0:12]\n",
    "\n",
    "\n",
    "def correlation_matrix(df5):\n",
    "    from matplotlib import pyplot as plt\n",
    "    from matplotlib import cm as cm\n",
    "\n",
    "    fig = plt.figure(figsize=(12,12))\n",
    "    xc = 0,1,2,3,4,5,6,7,8,9,10,11\n",
    "    ax1 = fig.add_subplot(111)\n",
    "    cmap = cm.get_cmap('inferno_r')\n",
    "    cax = ax1.imshow(df5.corr(), interpolation=\"nearest\", cmap=cmap)\n",
    "    ax1.grid(True)\n",
    "    plt.title('Cenus Data Correlation')\n",
    "    labels=['%Male 15-34','%Less then G12','%Renting','%Female HOH','%HS > 6','%Black African','%Divorced/Seperated','%Income <640000','%Born outside WC','%Foreign','%Migrated in Last 5 Years','%Unemployed',]\n",
    "    ax1.set_xticklabels(labels,fontsize=10, rotation = 45)\n",
    "    ax1.set_yticklabels(labels,fontsize=10)\n",
    "    ax1.set_xticks(xc)\n",
    "    ax1.set_yticks(xc)\n",
    "  \n",
    "    # Add colorbar, make sure to specify tick locations to match desired ticklabels\n",
    "    fig.colorbar(cax )\n",
    "    \n",
    "\n",
    "correlation_matrix(df5)\n",
    "import matplotlib\n",
    "import matplotlib.pyplot as plt\n",
    "\n",
    "fig1 = plt.gcf()\n",
    "fig1.savefig('saved/correlationmatrix.pdf')\n",
    "print(\"Map Saved in CRIKA_DASHBOARD saved file\")\n",
    "plt.close(fig1)\n"
   ]
  },
  {
   "cell_type": "markdown",
   "metadata": {
    "deletable": true,
    "editable": true,
    "extensions": {
     "jupyter_dashboards": {
      "version": 1,
      "views": {
       "grid_default": {
        "col": 0,
        "height": 2,
        "hidden": false,
        "row": 341,
        "width": 12
       },
       "report_default": {}
      }
     }
    }
   },
   "source": [
    "### Remove the census variables that returned a corrleation greater than 0.7 from the census view"
   ]
  },
  {
   "cell_type": "code",
   "execution_count": 22,
   "metadata": {
    "collapsed": false,
    "deletable": true,
    "editable": true,
    "extensions": {
     "jupyter_dashboards": {
      "version": 1,
      "views": {
       "grid_default": {
        "col": 0,
        "height": 4,
        "hidden": false,
        "row": 343,
        "width": 12
       },
       "report_default": {}
      }
     }
    }
   },
   "outputs": [
    {
     "data": {
      "application/vnd.jupyter.widget-view+json": {
       "model_id": "6d4a4f6ef91349a9a5ae84ac8b5e6d82",
       "version_major": 2,
       "version_minor": 0
      },
      "text/plain": [
       "Button(button_style='success', description='Remove Variables with Correlations Greater than 0.7 ', layout=Layo…"
      ]
     },
     "metadata": {},
     "output_type": "display_data"
    }
   ],
   "source": [
    "from IPython.display import Javascript, display\n",
    "from ipywidgets import widgets\n",
    "from ipywidgets import Button, Layout\n",
    "\n",
    "def run_all(ev):\n",
    "    display(Javascript('IPython.notebook.execute_cell_range(IPython.notebook.get_selected_index()+1, IPython.notebook.get_selected_index()+2)'))\n",
    "def print_all(ev):\n",
    "    print('Removing Variables with Correlations Greater than 0.7 from Census Table')\n",
    "    \n",
    "button = widgets.Button(description=\"Remove Variables with Correlations Greater than 0.7 \", button_style = 'success',layout = Layout(width = '50%', height = '80px'))\n",
    "button.on_click(run_all)\n",
    "button.on_click(print_all)\n",
    "display(button)"
   ]
  },
  {
   "cell_type": "code",
   "execution_count": null,
   "metadata": {
    "collapsed": false,
    "deletable": true,
    "editable": true,
    "extensions": {
     "jupyter_dashboards": {
      "version": 1,
      "views": {
       "grid_default": {
        "col": 0,
        "height": 2,
        "hidden": false,
        "row": 347,
        "width": 12
       },
       "report_default": {}
      }
     }
    }
   },
   "outputs": [],
   "source": [
    "import psycopg2\n",
    "\n",
    "conn = psycopg2.connect(database='lauren2', user='lauren', password='mastergreen', host='142.93.38.233', port='5432', sslmode='require')\n",
    "cur = conn.cursor()\n",
    "\n",
    "cur.execute(\"\"\"\n",
    "ALTER TABLE census DROP COLUMN IF EXISTS pb CASCADE, DROP COLUMN IF EXISTS pfo CASCADE \n",
    "\n",
    "\"\"\")\n",
    "conn.commit()\n",
    "print('Percenatge Black African and Percentage Foreign Born removed from Census Table')"
   ]
  },
  {
   "cell_type": "markdown",
   "metadata": {
    "collapsed": true,
    "deletable": true,
    "editable": true,
    "extensions": {
     "jupyter_dashboards": {
      "version": 1,
      "views": {
       "grid_default": {
        "col": 0,
        "height": 4,
        "hidden": false,
        "row": 349,
        "width": 12
       },
       "report_default": {}
      }
     }
    }
   },
   "source": [
    "## Determine Resilience per Neighbourhood"
   ]
  },
  {
   "cell_type": "markdown",
   "metadata": {
    "collapsed": true,
    "deletable": true,
    "editable": true,
    "extensions": {
     "jupyter_dashboards": {
      "version": 1,
      "views": {
       "grid_default": {
        "col": 0,
        "height": 6,
        "hidden": false,
        "row": 353,
        "width": 12
       },
       "report_default": {}
      }
     }
    }
   },
   "source": [
    "### Perform a Negative Binomial Regression and Get Standard Pearson Residuals using crime rate as the\n",
    "### dependent variable and the census variables as the independent variables\n",
    "### Order the residuals from smallest to largest\n",
    "### Using the ordered list assign every 116 records a resilience quintile from 1 to 5"
   ]
  },
  {
   "cell_type": "code",
   "execution_count": 23,
   "metadata": {
    "collapsed": false,
    "deletable": true,
    "editable": true,
    "extensions": {
     "jupyter_dashboards": {
      "version": 1,
      "views": {
       "grid_default": {
        "col": 0,
        "height": 4,
        "hidden": false,
        "row": 359,
        "width": 12
       },
       "report_default": {}
      }
     }
    }
   },
   "outputs": [
    {
     "data": {
      "application/vnd.jupyter.widget-view+json": {
       "model_id": "3df2a1bb589f456f846f21c40da0013c",
       "version_major": 2,
       "version_minor": 0
      },
      "text/plain": [
       "Button(button_style='success', description='Perform Negative Binomial Regression ', layout=Layout(height='80px…"
      ]
     },
     "metadata": {},
     "output_type": "display_data"
    }
   ],
   "source": [
    "from IPython.display import Javascript, display\n",
    "from ipywidgets import widgets\n",
    "from ipywidgets import Button, Layout\n",
    "\n",
    "def run_all(ev):\n",
    "    display(Javascript('IPython.notebook.execute_cell_range(IPython.notebook.get_selected_index()+1, IPython.notebook.get_selected_index()+2)'))\n",
    "def print_all(ev):\n",
    "    print('Performing Negative Binomial Regression')\n",
    "    \n",
    "button = widgets.Button(description=\"Perform Negative Binomial Regression \", button_style = 'success',layout = Layout(width = '50%', height = '80px'))\n",
    "button.on_click(run_all)\n",
    "button.on_click(print_all)\n",
    "display(button)"
   ]
  },
  {
   "cell_type": "markdown",
   "metadata": {
    "collapsed": true,
    "deletable": true,
    "editable": true,
    "extensions": {
     "jupyter_dashboards": {
      "version": 1,
      "views": {
       "grid_default": {
        "col": 0,
        "height": 3,
        "hidden": false,
        "row": 363,
        "width": 12
       },
       "report_default": {}
      }
     }
    }
   },
   "source": [
    "## Visualize the Resilience of Each Neighborhood on a Map"
   ]
  },
  {
   "cell_type": "code",
   "execution_count": 24,
   "metadata": {
    "collapsed": false,
    "deletable": true,
    "editable": true,
    "extensions": {
     "jupyter_dashboards": {
      "version": 1,
      "views": {
       "grid_default": {
        "col": 0,
        "height": 4,
        "hidden": false,
        "row": 366,
        "width": 12
       },
       "report_default": {}
      }
     }
    }
   },
   "outputs": [
    {
     "data": {
      "application/vnd.jupyter.widget-view+json": {
       "model_id": "d6acd49a404b410db1f228fc2db4ea6c",
       "version_major": 2,
       "version_minor": 0
      },
      "text/plain": [
       "Button(button_style='success', description='Create Resilience Map ', layout=Layout(height='80px', width='50%')…"
      ]
     },
     "metadata": {},
     "output_type": "display_data"
    }
   ],
   "source": [
    "from IPython.display import Javascript, display\n",
    "from ipywidgets import widgets\n",
    "from ipywidgets import Button, Layout\n",
    "\n",
    "def run_all(ev):\n",
    "    display(Javascript('IPython.notebook.execute_cell_range(IPython.notebook.get_selected_index()+1, IPython.notebook.get_selected_index()+2)'))\n",
    "def print_all(ev):\n",
    "    print('Creating Map')\n",
    "    \n",
    "button = widgets.Button(description=\"Create Resilience Map \", button_style = 'success',layout = Layout(width = '50%', height = '80px'))\n",
    "button.on_click(run_all)\n",
    "button.on_click(print_all)\n",
    "display(button)"
   ]
  },
  {
   "cell_type": "code",
   "execution_count": null,
   "metadata": {
    "collapsed": false,
    "deletable": true,
    "editable": true,
    "extensions": {
     "jupyter_dashboards": {
      "version": 1,
      "views": {
       "grid_default": {
        "col": 0,
        "height": 16,
        "hidden": false,
        "row": 370,
        "width": 12
       },
       "report_default": {
        "hidden": false
       }
      }
     }
    }
   },
   "outputs": [],
   "source": [
    "import psycopg2\n",
    "\n",
    "conn = psycopg2.connect(database='lauren2', user='lauren', password='mastergreen', host='142.93.38.233', port='5432', sslmode='require')\n",
    "cur = conn.cursor()\n",
    "cur.execute(\"\"\"\n",
    "CREATE TABLE res(\n",
    "    sal_code numeric PRIMARY KEY,\n",
    "    deviance numeric,\n",
    "    res numeric,\n",
    "    x numeric,\n",
    "    y numeric\n",
    "    \n",
    "   \n",
    "    \n",
    ")\n",
    "\"\"\")\n",
    "with open('data/res.csv', 'r') as f:\n",
    "    # Notice that we don't need the `csv` module.\n",
    "    next(f)  # Skip the header row.\n",
    "    cur.copy_from(f, 'res', sep=',')\n",
    "cur.execute(\"\"\"\n",
    "CREATE VIEW v_dev AS SELECT c,res ,c.deviance, a.*\n",
    "FROM census a, res c\n",
    "WHERE a.sal_code=c.sal_code;\n",
    "\"\"\") \n",
    "conn.commit()\n",
    "%matplotlib inline\n",
    "import geopandas as gpd\n",
    "import matplotlib.pyplot as plt\n",
    "\n",
    "\n",
    "import psycopg2  # (if it is postgres/postgis)\n",
    "\n",
    "conn = psycopg2.connect(database='lauren2', user='lauren', password='mastergreen', host='142.93.38.233', port='5432', sslmode='require')\n",
    "\n",
    "sql8 = \"select geom, res from v_dev\"\n",
    "\n",
    "df8 = gpd.GeoDataFrame.from_postgis(sql8, conn, geom_col='geom' )\n",
    "\n",
    "vmin, vmax = 1,5\n",
    "fig, ax = plt.subplots(1, figsize=(10, 6))\n",
    "\n",
    "df8.plot(column='res', cmap = 'autumn_r', linewidth = 0.8, ax=ax, edgecolor='black', alpha=1)\n",
    "\n",
    "# Create colorbar as a legend\n",
    "ax.axis('off')\n",
    "ax.set_title('Khayelitsha Resilience', \\\n",
    "              fontdict={'fontsize': '25',\n",
    "                        'fontweight' : '3'})\n",
    "sm = plt.cm.ScalarMappable(cmap='autumn_r', norm=plt.Normalize(vmin=vmin, vmax=vmax))\n",
    "sm._A = []\n",
    "cbar = fig.colorbar(sm,ticks=[1, 2,3,4,5])\n",
    "cbar.ax.set_yticklabels(['1 (Low)', '2', '3','4','5 (High)'])\n",
    "plt.show()\n",
    "from IPython.display import Javascript, display\n",
    "from ipywidgets import widgets\n",
    "from ipywidgets import Button, Layout\n",
    "def run_all(ev):\n",
    "    display(Javascript('IPython.notebook.execute_cell_range(IPython.notebook.get_selected_index()+1, IPython.notebook.get_selected_index()+2)'))\n",
    "def print_all(ev):\n",
    "    print('Saving Map')\n",
    "\n",
    "\n",
    "buttons = widgets.Button(description=\"Save Map\", button_style = 'success',layout = Layout(width = '50%', height = '40px'))\n",
    "buttons.style.button_color = 'lightgreen'\n",
    "buttons.on_click(run_all)\n",
    "buttons.on_click(print_all)\n",
    "display(buttons)"
   ]
  },
  {
   "cell_type": "code",
   "execution_count": null,
   "metadata": {
    "collapsed": false,
    "deletable": true,
    "editable": true,
    "extensions": {
     "jupyter_dashboards": {
      "version": 1,
      "views": {
       "grid_default": {
        "col": 0,
        "height": 4,
        "hidden": false,
        "row": 386,
        "width": 12
       },
       "report_default": {}
      }
     }
    }
   },
   "outputs": [],
   "source": [
    "\n",
    "%matplotlib inline\n",
    "import geopandas as gpd\n",
    "import matplotlib.pyplot as plt\n",
    "\n",
    "\n",
    "import psycopg2  # (if it is postgres/postgis)\n",
    "\n",
    "conn = psycopg2.connect(database='lauren2', user='lauren', password='mastergreen', host='142.93.38.233', port='5432', sslmode='require')\n",
    "\n",
    "sql8 = \"select geom, res from v_dev\"\n",
    "\n",
    "df8 = gpd.GeoDataFrame.from_postgis(sql8, conn, geom_col='geom' )\n",
    "\n",
    "vmin, vmax = 1,5\n",
    "fig, ax = plt.subplots(1, figsize=(10, 6))\n",
    "\n",
    "df8.plot(column='res', cmap = 'autumn_r', linewidth = 0.8, ax=ax, edgecolor='black', alpha=1)\n",
    "\n",
    "# Create colorbar as a legend\n",
    "ax.axis('off')\n",
    "ax.set_title('Khayelitsha Resilience', \\\n",
    "              fontdict={'fontsize': '25',\n",
    "                        'fontweight' : '3'})\n",
    "sm = plt.cm.ScalarMappable(cmap='autumn_r', norm=plt.Normalize(vmin=vmin, vmax=vmax))\n",
    "sm._A = []\n",
    "cbar = fig.colorbar(sm,ticks=[1, 2,3,4,5])\n",
    "cbar.ax.set_yticklabels(['1 (Low)', '2', '3','4','5 (High)'])\n",
    "\n",
    "import matplotlib\n",
    "import matplotlib.pyplot as plt\n",
    "\n",
    "fig1 = plt.gcf()\n",
    "fig1.savefig('saved/basicresilience.pdf')\n",
    "print(\"Map Saved in CRIKA_DASHBOARD saved file\")\n",
    "plt.close(fig1)\n",
    "\n",
    "\n"
   ]
  },
  {
   "cell_type": "markdown",
   "metadata": {
    "collapsed": true,
    "deletable": true,
    "editable": true,
    "extensions": {
     "jupyter_dashboards": {
      "version": 1,
      "views": {
       "grid_default": {
        "col": 0,
        "height": 8,
        "hidden": false,
        "row": 390,
        "width": 12
       },
       "report_default": {
        "hidden": false
       }
      }
     }
    }
   },
   "source": [
    "# End of Part 1: \n",
    "## You have now quantified the resilience of each neighbourhood in Khayelitsha"
   ]
  },
  {
   "cell_type": "markdown",
   "metadata": {
    "deletable": true,
    "editable": true,
    "extensions": {
     "jupyter_dashboards": {
      "version": 1,
      "views": {
       "grid_default": {
        "col": 0,
        "height": 4,
        "hidden": false,
        "row": 398,
        "width": null
       },
       "report_default": {}
      }
     }
    }
   },
   "source": [
    "# Part 2: Analysising the Impact of the Built Characteristics on Resilience to Crime "
   ]
  },
  {
   "cell_type": "markdown",
   "metadata": {
    "deletable": true,
    "editable": true,
    "extensions": {
     "jupyter_dashboards": {
      "version": 1,
      "views": {
       "grid_default": {
        "col": 0,
        "height": 5,
        "hidden": false,
        "row": 402,
        "width": 12
       },
       "report_default": {}
      }
     }
    }
   },
   "source": [
    "## Create centroids for each of the neighbourhoods in Khayelitsha\n",
    "### This must be done so that distance matrices between the neighbourhoods and Built Environment Factors can be determined"
   ]
  },
  {
   "cell_type": "code",
   "execution_count": 25,
   "metadata": {
    "collapsed": false,
    "deletable": true,
    "editable": true,
    "extensions": {
     "jupyter_dashboards": {
      "version": 1,
      "views": {
       "grid_default": {
        "col": 0,
        "height": 4,
        "hidden": false,
        "row": 407,
        "width": 12
       },
       "report_default": {}
      }
     }
    }
   },
   "outputs": [
    {
     "data": {
      "application/vnd.jupyter.widget-view+json": {
       "model_id": "43d37165488047ed898fab3ef9a14fc4",
       "version_major": 2,
       "version_minor": 0
      },
      "text/plain": [
       "Button(button_style='success', description='Create Neighbourhood Centroids ', layout=Layout(height='80px', wid…"
      ]
     },
     "metadata": {},
     "output_type": "display_data"
    }
   ],
   "source": [
    "from IPython.display import Javascript, display\n",
    "from ipywidgets import widgets\n",
    "from ipywidgets import Button, Layout\n",
    "\n",
    "def run_all(ev):\n",
    "    display(Javascript('IPython.notebook.execute_cell_range(IPython.notebook.get_selected_index()+1, IPython.notebook.get_selected_index()+2)'))\n",
    "def print_all(ev):\n",
    "    print('Creating Centroids')\n",
    "    \n",
    "button = widgets.Button(description=\"Create Neighbourhood Centroids \", button_style = 'success',layout = Layout(width = '50%', height = '80px'))\n",
    "button.on_click(run_all)\n",
    "button.on_click(print_all)\n",
    "display(button)"
   ]
  },
  {
   "cell_type": "code",
   "execution_count": null,
   "metadata": {
    "collapsed": false,
    "deletable": true,
    "editable": true,
    "extensions": {
     "jupyter_dashboards": {
      "version": 1,
      "views": {
       "grid_default": {
        "col": 0,
        "height": 2,
        "hidden": false,
        "row": 411,
        "width": 12
       },
       "report_default": {}
      }
     }
    }
   },
   "outputs": [],
   "source": [
    "import psycopg2\n",
    "\n",
    "conn = psycopg2.connect(database='lauren2', user='lauren', password='mastergreen', host='142.93.38.233', port='5432', sslmode='require')\n",
    "cur = conn.cursor()\n",
    "cur.execute(\"\"\"\n",
    "alter table res add column geomp geometry(Point, 4326);\n",
    "\"\"\")\n",
    "cur.execute(\"\"\"\n",
    "update res set geomp=st_SetSrid(st_MakePoint(y, x), 4326);\n",
    "\"\"\")\n",
    "conn.commit()\n",
    "print(\"Neighbourhood Centroids Created\")"
   ]
  },
  {
   "cell_type": "markdown",
   "metadata": {
    "deletable": true,
    "editable": true,
    "extensions": {
     "jupyter_dashboards": {
      "version": 1,
      "views": {
       "grid_default": {
        "col": 0,
        "height": 4,
        "hidden": false,
        "row": 413,
        "width": null
       },
       "report_default": {}
      }
     }
    }
   },
   "source": [
    "## Visualize the centroids using ipyleaflet and Folium"
   ]
  },
  {
   "cell_type": "code",
   "execution_count": 26,
   "metadata": {
    "collapsed": false,
    "deletable": true,
    "editable": true,
    "extensions": {
     "jupyter_dashboards": {
      "version": 1,
      "views": {
       "grid_default": {
        "col": 0,
        "height": 6,
        "hidden": false,
        "row": 417,
        "width": 12
       },
       "report_default": {}
      }
     }
    }
   },
   "outputs": [
    {
     "data": {
      "application/vnd.jupyter.widget-view+json": {
       "model_id": "db3251b5c480435095cbe0147de7cfba",
       "version_major": 2,
       "version_minor": 0
      },
      "text/plain": [
       "Button(button_style='success', description='Create Resilience Centroid Map', layout=Layout(height='80px', widt…"
      ]
     },
     "metadata": {},
     "output_type": "display_data"
    },
    {
     "name": "stdout",
     "output_type": "stream",
     "text": [
      "Click on the centroid to display neighbourhood attributes\n"
     ]
    }
   ],
   "source": [
    "from IPython.display import Javascript, display\n",
    "from ipywidgets import widgets\n",
    "from ipywidgets import Button, Layout\n",
    "\n",
    "def run_all(ev):\n",
    "    display(Javascript('IPython.notebook.execute_cell_range(IPython.notebook.get_selected_index()+1, IPython.notebook.get_selected_index()+2)'))\n",
    "def print_all(ev):\n",
    "    print('Creating Map')\n",
    "button = widgets.Button(description=\"Create Resilience Centroid Map\", button_style = 'success',layout = Layout(width = '50%', height = '80px'))\n",
    "button.on_click(run_all)\n",
    "button.on_click(print_all)\n",
    "display(button)\n",
    "print('Click on the centroid to display neighbourhood attributes')"
   ]
  },
  {
   "cell_type": "code",
   "execution_count": null,
   "metadata": {
    "collapsed": false,
    "deletable": true,
    "editable": true,
    "extensions": {
     "jupyter_dashboards": {
      "version": 1,
      "views": {
       "grid_default": {
        "col": 0,
        "height": 21,
        "hidden": false,
        "row": 423,
        "width": 12
       },
       "report_default": {}
      }
     }
    }
   },
   "outputs": [],
   "source": [
    "%matplotlib inline\n",
    "import geopandas as gpd\n",
    "import matplotlib.pyplot as plt\n",
    "import folium\n",
    "import pandas as pd\n",
    "from folium.plugins import MarkerCluster\n",
    "from ipyleaflet import Map, WMSLayer\n",
    "from folium import IFrame\n",
    "\n",
    "import psycopg2  # (if it is postgres/postgis)\n",
    "\n",
    "conn = psycopg2.connect(database='lauren2', user='lauren', password='mastergreen', host='142.93.38.233', port='5432', sslmode='require')\n",
    "\n",
    "sql1 = \"select * from res WHERE res = '1'\"\n",
    "dfr1 = gpd.GeoDataFrame.from_postgis(sql1, conn, geom_col='geomp' )\n",
    "\n",
    "sql2 = \"select * from res WHERE res = '2'\"\n",
    "dfr2 = gpd.GeoDataFrame.from_postgis(sql2, conn, geom_col='geomp' )\n",
    "sql3 = \"select * from res WHERE res = '3'\"\n",
    "dfr3 = gpd.GeoDataFrame.from_postgis(sql3, conn, geom_col='geomp' )\n",
    "sql4 = \"select * from res WHERE res = '4'\"\n",
    "dfr4 = gpd.GeoDataFrame.from_postgis(sql4, conn, geom_col='geomp' )\n",
    "\n",
    "sql5 = \"select * from res WHERE res = '5'\"\n",
    "dfr5 = gpd.GeoDataFrame.from_postgis(sql5, conn, geom_col='geomp' )\n",
    "\n",
    "\n",
    "\n",
    "\n",
    "\n",
    "\n",
    "SF_COORDINATES = (-34.0387396,18.6754113)\n",
    "\n",
    "MAX_RECORDS = 600\n",
    "\n",
    "m = folium.Map(location=SF_COORDINATES, zoom_start=12.5)\n",
    "\n",
    "\n",
    " \n",
    "# add a marker for every record in the filtered data, use a clustered view\n",
    "for each in dfr1[0:MAX_RECORDS].iterrows():\n",
    "   folium.CircleMarker(\n",
    "        location = [each[1]['x'],each[1]['y']],\n",
    "        fill_opacity = '1',\n",
    "       radius = '5',\n",
    "       fill = True,\n",
    "       fill_color = 'darkgreen',\n",
    "       color = 'black',\n",
    "       popup = 'SAL_CODE:{}'.format(each[1]['sal_code'])\n",
    "   ).add_to(m)\n",
    "for each in dfr2[0:MAX_RECORDS].iterrows():\n",
    "   folium.CircleMarker(\n",
    "        location = [each[1]['x'],each[1]['y']],\n",
    "        fill_opacity = '1',\n",
    "       radius = '5',\n",
    "       fill = True,\n",
    "       fill_color = 'green',\n",
    "       color = 'black',\n",
    "       popup = 'SAL_CODE:{}'.format(each[1]['sal_code'])\n",
    "   ).add_to(m)\n",
    "for each in dfr3[0:MAX_RECORDS].iterrows():\n",
    "   folium.CircleMarker(\n",
    "        location = [each[1]['x'],each[1]['y']],\n",
    "        fill_opacity = '1',\n",
    "       radius = '5',\n",
    "       fill = True,\n",
    "       fill_color = 'yellow',\n",
    "       color = 'black',\n",
    "       popup = 'SAL_CODE:{}'.format(each[1]['sal_code'])\n",
    "   ).add_to(m)\n",
    "for each in dfr4[0:MAX_RECORDS].iterrows():\n",
    "   folium.CircleMarker(\n",
    "        location = [each[1]['x'],each[1]['y']],\n",
    "        fill_opacity = '1',\n",
    "       radius = '5',\n",
    "       fill = True,\n",
    "       fill_color = 'orange',\n",
    "       color = 'black',\n",
    "       popup = 'SAL_CODE:{}'.format(each[1]['sal_code'])\n",
    "       \n",
    "   ).add_to(m)\n",
    "for each in dfr5[0:MAX_RECORDS].iterrows():\n",
    "   folium.CircleMarker(\n",
    "        location = [each[1]['x'],each[1]['y']],\n",
    "        fill_opacity = '1',\n",
    "       radius = '5',\n",
    "       fill = True,\n",
    "       fill_color = 'crimson',\n",
    "       color = 'black',\n",
    "       popup = 'SAL_CODE:{}'.format(each[1]['sal_code'])\n",
    "   ).add_to(m)\n",
    "\n",
    "folium.TileLayer('cartodbdark_matter', name = 'cartodb').add_to(m)\n",
    "\n",
    "folium.LayerControl().add_to(m)\n",
    "\n",
    "\n",
    "m"
   ]
  },
  {
   "cell_type": "markdown",
   "metadata": {
    "deletable": true,
    "editable": true,
    "extensions": {
     "jupyter_dashboards": {
      "version": 1,
      "views": {
       "grid_default": {
        "col": 0,
        "height": 4,
        "hidden": false,
        "row": 444,
        "width": null
       },
       "report_default": {}
      }
     }
    }
   },
   "source": [
    "## Create Tables for Each Built Characteristic in the Database"
   ]
  },
  {
   "cell_type": "code",
   "execution_count": 27,
   "metadata": {
    "collapsed": false,
    "deletable": true,
    "editable": true,
    "extensions": {
     "jupyter_dashboards": {
      "version": 1,
      "views": {
       "grid_default": {
        "col": 0,
        "height": 4,
        "hidden": false,
        "row": 448,
        "width": 12
       },
       "report_default": {}
      }
     }
    }
   },
   "outputs": [
    {
     "data": {
      "application/vnd.jupyter.widget-view+json": {
       "model_id": "5872d1af33c14a399401e2b86d3a8269",
       "version_major": 2,
       "version_minor": 0
      },
      "text/plain": [
       "Button(button_style='success', description='Import Built Characteristics into Database', layout=Layout(height=…"
      ]
     },
     "metadata": {},
     "output_type": "display_data"
    }
   ],
   "source": [
    "from IPython.display import Javascript, display\n",
    "from ipywidgets import widgets\n",
    "from ipywidgets import Button, Layout\n",
    "\n",
    "def run_all(ev):\n",
    "    display(Javascript('IPython.notebook.execute_cell_range(IPython.notebook.get_selected_index()+1, IPython.notebook.get_selected_index()+2)'))\n",
    "def print_all(ev):\n",
    "    print('Importing Built Characteristics into Individual Tables')\n",
    "button = widgets.Button(description=\"Import Built Characteristics into Database\", button_style = 'success',layout = Layout(width = '50%', height = '80px'))\n",
    "button.on_click(run_all)\n",
    "button.on_click(print_all)\n",
    "display(button)\n"
   ]
  },
  {
   "cell_type": "code",
   "execution_count": null,
   "metadata": {
    "collapsed": false,
    "deletable": true,
    "editable": true,
    "extensions": {
     "jupyter_dashboards": {
      "version": 1,
      "views": {
       "grid_default": {
        "col": 0,
        "height": 4,
        "hidden": false,
        "row": 452,
        "width": 12
       },
       "report_default": {}
      }
     }
    }
   },
   "outputs": [],
   "source": [
    "import psycopg2\n",
    "\n",
    "conn = psycopg2.connect(database='lauren2', user='lauren', password='mastergreen', host='142.93.38.233', port='5432', sslmode='require')\n",
    "cur = conn.cursor()\n",
    "cur.execute(\"\"\"\n",
    "CREATE TABLE liquor(\n",
    "    licence_no character varying PRIMARY KEY,\n",
    "    latitude numeric,\n",
    "    longitude numeric\n",
    "    \n",
    "    )\n",
    "\"\"\")\n",
    "\n",
    "with open('data/liq.csv', 'r') as f:\n",
    "    # Notice that we don't need the `csv` module.\n",
    "    next(f)  # Skip the header row.\n",
    "    cur.copy_from(f, 'liquor', sep=',')\n",
    "    \n",
    "cur.execute(\"\"\"\n",
    "alter table liquor add column geom geometry(Point, 4326);\n",
    "\"\"\")\n",
    "cur.execute(\"\"\"\n",
    "update liquor set geom=st_SetSrid(st_MakePoint(longitude, latitude), 4326);\n",
    "\"\"\")\n",
    "\n",
    "conn.commit()\n",
    "print(\"Licensed Liquor Outlets Table added\")\n",
    "cur.execute(\"\"\"\n",
    "CREATE TABLE pow(\n",
    "    id character varying PRIMARY KEY,\n",
    "    name character varying,\n",
    "    latitude numeric,\n",
    "    longitude numeric\n",
    "    \n",
    "    )\n",
    "\"\"\")\n",
    "\n",
    "with open('data/pow.csv', 'r') as f:\n",
    "    # Notice that we don't need the `csv` module.\n",
    "    next(f)  # Skip the header row.\n",
    "    cur.copy_from(f, 'pow', sep=',')\n",
    "    \n",
    "cur.execute(\"\"\"\n",
    "alter table pow add column geom geometry(Point, 4326);\n",
    "\"\"\")\n",
    "cur.execute(\"\"\"\n",
    "update pow set geom=st_SetSrid(st_MakePoint(latitude, longitude), 4326);\n",
    "\"\"\")\n",
    "\n",
    "conn.commit()\n",
    "print(\"Places of Worship Table added\")\n",
    "cur.execute(\"\"\"\n",
    "CREATE TABLE school(\n",
    "    id character varying PRIMARY KEY,\n",
    "    latitude numeric,\n",
    "    longitude numeric\n",
    "    \n",
    "    )\n",
    "\"\"\")\n",
    "\n",
    "with open('data/school.csv', 'r') as f:\n",
    "    # Notice that we don't need the `csv` module.\n",
    "    next(f)  # Skip the header row.\n",
    "    cur.copy_from(f, 'school', sep=',')\n",
    "    \n",
    "cur.execute(\"\"\"\n",
    "alter table school add column geom geometry(Point, 4326);\n",
    "\"\"\")\n",
    "cur.execute(\"\"\"\n",
    "update school set geom=st_SetSrid(st_MakePoint(latitude, longitude), 4326);\n",
    "\"\"\")\n",
    "\n",
    "conn.commit()\n",
    "print(\"Primary Schools Table added\")\n",
    "cur.execute(\"\"\"\n",
    "CREATE TABLE wb(\n",
    "    id character varying PRIMARY KEY,\n",
    "    name character varying,\n",
    "    latitude numeric,\n",
    "    longitude numeric\n",
    "    \n",
    "    )\n",
    "\"\"\")\n",
    "\n",
    "with open('data/wb.csv', 'r') as f:\n",
    "    # Notice that we don't need the `csv` module.\n",
    "    next(f)  # Skip the header row.\n",
    "    cur.copy_from(f, 'wb', sep=',')\n",
    "    \n",
    "cur.execute(\"\"\"\n",
    "alter table wb add column geom geometry(Point, 4326);\n",
    "\"\"\")\n",
    "cur.execute(\"\"\"\n",
    "update wb set geom=st_SetSrid(st_MakePoint(latitude, longitude), 4326);\n",
    "\"\"\")\n",
    "\n",
    "conn.commit()\n",
    "print(\"Waterbodies Table added\")"
   ]
  },
  {
   "cell_type": "markdown",
   "metadata": {
    "deletable": true,
    "editable": true,
    "extensions": {
     "jupyter_dashboards": {
      "version": 1,
      "views": {
       "grid_default": {
        "col": 0,
        "height": 4,
        "hidden": false,
        "row": 456,
        "width": null
       },
       "report_default": {}
      }
     }
    }
   },
   "source": [
    "## Calculate the distance to the nearest built factor for each neighbourhood"
   ]
  },
  {
   "cell_type": "code",
   "execution_count": 28,
   "metadata": {
    "collapsed": false,
    "deletable": true,
    "editable": true,
    "extensions": {
     "jupyter_dashboards": {
      "version": 1,
      "views": {
       "grid_default": {
        "col": 0,
        "height": 4,
        "hidden": false,
        "row": 460,
        "width": 12
       },
       "report_default": {}
      }
     }
    }
   },
   "outputs": [
    {
     "data": {
      "application/vnd.jupyter.widget-view+json": {
       "model_id": "99da7768cf074c41ba49b16936c85f40",
       "version_major": 2,
       "version_minor": 0
      },
      "text/plain": [
       "Button(button_style='success', description='Create Distance Matrix', layout=Layout(height='80px', width='50%')…"
      ]
     },
     "metadata": {},
     "output_type": "display_data"
    }
   ],
   "source": [
    "from IPython.display import Javascript, display\n",
    "from ipywidgets import widgets\n",
    "from ipywidgets import Button, Layout\n",
    "\n",
    "def run_all(ev):\n",
    "    display(Javascript('IPython.notebook.execute_cell_range(IPython.notebook.get_selected_index()+1, IPython.notebook.get_selected_index()+2)'))\n",
    "def print_all(ev):\n",
    "    print('Creating Distance Matrix')\n",
    "button = widgets.Button(description=\"Create Distance Matrix\", button_style = 'success',layout = Layout(width = '50%', height = '80px'))\n",
    "button.on_click(run_all)\n",
    "button.on_click(print_all)\n",
    "display(button)\n"
   ]
  },
  {
   "cell_type": "code",
   "execution_count": null,
   "metadata": {
    "collapsed": false,
    "deletable": true,
    "editable": true,
    "extensions": {
     "jupyter_dashboards": {
      "version": 1,
      "views": {
       "grid_default": {
        "col": 0,
        "height": 6,
        "hidden": false,
        "row": 464,
        "width": 12
       },
       "report_default": {}
      }
     }
    }
   },
   "outputs": [],
   "source": [
    "import psycopg2\n",
    "\n",
    "conn = psycopg2.connect(database='lauren2', user='lauren', password='mastergreen', host='142.93.38.233', port='5432', sslmode='require')\n",
    "cur = conn.cursor()\n",
    "\n",
    "cur.execute(\"\"\"\n",
    "create table dpow as SELECT DISTINCT ON(g1.sal_code)  g1.sal_code As sal_code, g1.res As resp, g2.id As id, \n",
    "         ST_Distance((ST_Transform(g1.geomp, 22293)), (ST_Transform(g2.geom, 22293)))/1000 as dpow  \n",
    "    FROM res As g1, pow As g2   \n",
    "    WHERE ST_DWithin(g1.geomp, g2.geom, 22293)   \n",
    "    ORDER BY g1.sal_code, dpow\n",
    "\"\"\")\n",
    "conn.commit()\n",
    "print(\"Places of Worship Distances Calculated\")\n",
    "cur.execute(\"\"\"\n",
    "create table dwb as SELECT DISTINCT ON(g1.sal_code)  g1.sal_code As sal_code, g1.res As res, g2.id As id, \n",
    "         ST_Distance((ST_Transform(g1.geomp, 22293)), (ST_Transform(g2.geom, 22293)))/1000 as dwb  \n",
    "    FROM res As g1, wb As g2   \n",
    "    WHERE ST_DWithin(g1.geomp, g2.geom, 22293)   \n",
    "    ORDER BY g1.sal_code, dwb\n",
    "\"\"\")\n",
    "conn.commit()\n",
    "print(\"Waterbody Distances Calculated\")\n",
    "cur.execute(\"\"\"\n",
    "create table ds as SELECT DISTINCT ON(g1.sal_code)  g1.sal_code As sal_code, g1.res As res, g2.id As id, \n",
    "         ST_Distance((ST_Transform(g1.geomp, 22293)), (ST_Transform(g2.geom, 22293)))/1000 as ds  \n",
    "    FROM res As g1, school As g2   \n",
    "    WHERE ST_DWithin(g1.geomp, g2.geom, 22293)   \n",
    "    ORDER BY g1.sal_code, ds\n",
    "\"\"\")\n",
    "conn.commit()\n",
    "print(\"School Distances Calculated\")\n",
    "cur.execute(\"\"\"\n",
    "create table dl as SELECT DISTINCT ON(g1.sal_code)  g1.sal_code As sal_code, g1.res As res, g2.licence_no As id, \n",
    "         ST_Distance((ST_Transform(g1.geomp, 22293)), (ST_Transform(g2.geom, 22293)))/1000 as dl  \n",
    "    FROM res As g1, liquor As g2   \n",
    "    WHERE ST_DWithin(g1.geomp, g2.geom, 22293)   \n",
    "    ORDER BY g1.sal_code, dl\n",
    "\"\"\")\n",
    "conn.commit()\n",
    "print(\"Liquor Distances Calculated\")\n",
    "cur.execute(\"\"\"\n",
    "CREATE TABLE dmatrix AS SELECT t.sal_code, t.res ,a.dl, c.ds, g.dpow, p.dwb\n",
    "FROM dl a\n",
    "JOIN ds c ON a.sal_code = c.sal_code\n",
    "JOIN dpow g ON g.sal_code = c.sal_code\n",
    "JOIN dwb p ON p.sal_code = c.sal_code\n",
    "JOIN res t ON t.sal_code = c.sal_code\n",
    "ORDER BY a.sal_code\n",
    "\"\"\")\n",
    "conn.commit()\n",
    "print(\"Created Distance Matrix\")\n",
    "\n"
   ]
  },
  {
   "cell_type": "code",
   "execution_count": 29,
   "metadata": {
    "collapsed": false,
    "deletable": true,
    "editable": true,
    "extensions": {
     "jupyter_dashboards": {
      "version": 1,
      "views": {
       "grid_default": {
        "col": 0,
        "height": 4,
        "hidden": false,
        "row": 470,
        "width": 12
       },
       "report_default": {}
      }
     }
    }
   },
   "outputs": [
    {
     "data": {
      "application/vnd.jupyter.widget-view+json": {
       "model_id": "bcb4f51d008e4a87bd260e0eb9a0a879",
       "version_major": 2,
       "version_minor": 0
      },
      "text/plain": [
       "Button(button_style='success', description='Calculate Average Distances', layout=Layout(height='80px', width='…"
      ]
     },
     "metadata": {},
     "output_type": "display_data"
    }
   ],
   "source": [
    "from IPython.display import Javascript, display\n",
    "from ipywidgets import widgets\n",
    "from ipywidgets import Button, Layout\n",
    "\n",
    "def run_all(ev):\n",
    "    display(Javascript('IPython.notebook.execute_cell_range(IPython.notebook.get_selected_index()+1, IPython.notebook.get_selected_index()+2)'))\n",
    "\n",
    "button = widgets.Button(description=\"Calculate Average Distances\", button_style = 'success',layout = Layout(width = '50%', height = '80px'))\n",
    "button.on_click(run_all)\n",
    "\n",
    "display(button)"
   ]
  },
  {
   "cell_type": "code",
   "execution_count": null,
   "metadata": {
    "collapsed": false,
    "deletable": true,
    "editable": true,
    "extensions": {
     "jupyter_dashboards": {
      "version": 1,
      "views": {
       "grid_default": {
        "col": 0,
        "height": 7,
        "hidden": false,
        "row": 474,
        "width": 12
       },
       "report_default": {}
      }
     }
    }
   },
   "outputs": [],
   "source": [
    "import psycopg2\n",
    "\n",
    "conn = psycopg2.connect(database='lauren2', user='lauren', password='mastergreen', host='142.93.38.233', port='5432', sslmode='require')\n",
    "cur = conn.cursor()\n",
    "\n",
    "cur.execute(\"\"\"\n",
    "CREATE TABLE dmavg AS  SELECT res,avg(ds)as schools, avg(dl) as liquor, avg(dpow) as pow, avg(dwb) as waterbodies\n",
    "from dmatrix\n",
    "group by res\n",
    "order by res\n",
    "\"\"\")\n",
    "conn.commit()\n",
    "print(\"Average Distances Calculated\")\n",
    "\n",
    "%matplotlib inline\n",
    "import geopandas as gpd\n",
    "import matplotlib.pyplot as plt\n",
    "import folium\n",
    "import pandas as pd\n",
    "from folium.plugins import MarkerCluster\n",
    "from ipyleaflet import Map, WMSLayer\n",
    "from folium import IFrame\n",
    "\n",
    "import psycopg2  # (if it is postgres/postgis)\n",
    "\n",
    "conn = psycopg2.connect(database='lauren2', user='lauren', password='mastergreen', host='142.93.38.233', port='5432', sslmode='require')\n",
    "\n",
    "\n",
    "dfd = pd.read_sql_query(\"select * from dmavg  \",con=conn)\n",
    "pdfd = dfd.set_index('res').T\n",
    "pdfd.columns =['r1','r2','r3','r4','r5']\n",
    "pdfd['r5:r1'] = pdfd['r5']/pdfd['r1']\n",
    "\n",
    "pdfd.style.set_properties({'background-color': 'white',\n",
    "                           'color': 'white',\n",
    "                           'border-color': 'white'})\n",
    "pdfd"
   ]
  },
  {
   "cell_type": "markdown",
   "metadata": {
    "deletable": true,
    "editable": true,
    "extensions": {
     "jupyter_dashboards": {
      "version": 1,
      "views": {
       "grid_default": {
        "col": 0,
        "height": 5,
        "hidden": false,
        "row": 481,
        "width": 12
       },
       "report_default": {}
      }
     }
    }
   },
   "source": [
    "## Calculate the Spearmans Rank Coefficients to Ensure Result Validity"
   ]
  },
  {
   "cell_type": "code",
   "execution_count": 30,
   "metadata": {
    "collapsed": false,
    "deletable": true,
    "editable": true,
    "extensions": {
     "jupyter_dashboards": {
      "version": 1,
      "views": {
       "grid_default": {
        "col": 0,
        "height": 4,
        "hidden": false,
        "row": 486,
        "width": 12
       },
       "report_default": {}
      }
     }
    }
   },
   "outputs": [
    {
     "data": {
      "application/vnd.jupyter.widget-view+json": {
       "model_id": "1a194ecd9615443aa992638159296995",
       "version_major": 2,
       "version_minor": 0
      },
      "text/plain": [
       "Button(button_style='success', description='Calculate Spearmans Rank Coefficients', layout=Layout(height='80px…"
      ]
     },
     "metadata": {},
     "output_type": "display_data"
    }
   ],
   "source": [
    "from IPython.display import Javascript, display\n",
    "from ipywidgets import widgets\n",
    "from ipywidgets import Button, Layout\n",
    "\n",
    "def run_all(ev):\n",
    "    display(Javascript('IPython.notebook.execute_cell_range(IPython.notebook.get_selected_index()+1, IPython.notebook.get_selected_index()+2)'))\n",
    "\n",
    "button = widgets.Button(description=\"Calculate Spearmans Rank Coefficients\", button_style = 'success',layout = Layout(width = '50%', height = '80px'))\n",
    "button.on_click(run_all)\n",
    "\n",
    "display(button)"
   ]
  },
  {
   "cell_type": "code",
   "execution_count": null,
   "metadata": {
    "collapsed": false,
    "deletable": true,
    "editable": true,
    "extensions": {
     "jupyter_dashboards": {
      "version": 1,
      "views": {
       "grid_default": {
        "col": 0,
        "height": 7,
        "hidden": false,
        "row": 490,
        "width": 12
       },
       "report_default": {}
      }
     }
    }
   },
   "outputs": [],
   "source": [
    "import numpy as np\n",
    "import pandas as pd\n",
    "import scipy.stats\n",
    "import psycopg2  # (if it is postgres/postgis)\n",
    "\n",
    "import psycopg2  # (if it is postgres/postgis)\n",
    "\n",
    "conn = psycopg2.connect(database='lauren2', user='lauren', password='mastergreen', host='142.93.38.233', port='5432', sslmode='require')\n",
    "\n",
    "\n",
    "dfd = pd.read_sql_query(\"select res, schools,waterbodies,pow, liquor from dmavg  \",con=conn)\n",
    "dfd\n",
    "\n",
    "corr = dfd.corr(method='spearman',min_periods =5)\n",
    "corr"
   ]
  },
  {
   "cell_type": "markdown",
   "metadata": {
    "deletable": true,
    "editable": true,
    "extensions": {
     "jupyter_dashboards": {
      "version": 1,
      "views": {
       "grid_default": {
        "col": 0,
        "height": 9,
        "hidden": false,
        "row": 497,
        "width": 12
       },
       "report_default": {}
      }
     }
    }
   },
   "source": [
    "# End of Part 2\n",
    "\n",
    "## In order to perform future analysis using this dashboard please remove tables from the database"
   ]
  },
  {
   "cell_type": "code",
   "execution_count": 31,
   "metadata": {
    "collapsed": false,
    "deletable": true,
    "editable": true,
    "extensions": {
     "jupyter_dashboards": {
      "version": 1,
      "views": {
       "grid_default": {
        "col": 0,
        "height": 4,
        "hidden": false,
        "row": 506,
        "width": 12
       },
       "report_default": {}
      }
     }
    }
   },
   "outputs": [
    {
     "data": {
      "application/vnd.jupyter.widget-view+json": {
       "model_id": "b8b6b68c1e9644a3b96940f9cdcbf06c",
       "version_major": 2,
       "version_minor": 0
      },
      "text/plain": [
       "Button(button_style='success', description='Remove Tables from Database', layout=Layout(height='80px', width='…"
      ]
     },
     "metadata": {},
     "output_type": "display_data"
    }
   ],
   "source": [
    "from IPython.display import Javascript, display\n",
    "from ipywidgets import widgets\n",
    "from ipywidgets import Button, Layout\n",
    "\n",
    "def run_all(ev):\n",
    "    display(Javascript('IPython.notebook.execute_cell_range(IPython.notebook.get_selected_index()+1, IPython.notebook.get_selected_index()+2)'))\n",
    "\n",
    "button = widgets.Button(description=\"Remove Tables from Database\", button_style = 'success',layout = Layout(width = '50%', height = '80px'))\n",
    "button.on_click(run_all)\n",
    "\n",
    "display(button)"
   ]
  },
  {
   "cell_type": "code",
   "execution_count": null,
   "metadata": {
    "collapsed": false,
    "deletable": true,
    "editable": true,
    "extensions": {
     "jupyter_dashboards": {
      "version": 1,
      "views": {
       "grid_default": {
        "col": 0,
        "height": 2,
        "hidden": false,
        "row": 510,
        "width": 12
       },
       "report_default": {}
      }
     }
    }
   },
   "outputs": [],
   "source": [
    "import psycopg2\n",
    "\n",
    "conn = psycopg2.connect(database='lauren2', user='lauren', password='mastergreen', host='142.93.38.233', port='5432', sslmode='require')\n",
    "cur = conn.cursor()\n",
    "\n",
    "cur.execute(\"\"\"\n",
    "\n",
    "DROP TABLE IF EXISTS census,crime,dl,dmatrix,dpow,ds,dwb,liquor,pow,res,school,wb,dpow, dmavg CASCADE;\n",
    "\"\"\")\n",
    "conn.commit()\n",
    "print(\"Tables have been deleted\")\n"
   ]
  }
 ],
 "metadata": {
  "extensions": {
   "jupyter_dashboards": {
    "activeView": "grid_default",
    "version": 1,
    "views": {
     "grid_default": {
      "cellMargin": 10,
      "defaultCellHeight": 20,
      "maxColumns": 12,
      "name": "grid",
      "type": "grid"
     },
     "report_default": {
      "name": "report",
      "type": "report"
     }
    }
   }
  },
  "kernelspec": {
   "display_name": "Python 3",
   "language": "python",
   "name": "python3"
  },
  "language_info": {
   "codemirror_mode": {
    "name": "ipython",
    "version": 3
   },
   "file_extension": ".py",
   "mimetype": "text/x-python",
   "name": "python",
   "nbconvert_exporter": "python",
   "pygments_lexer": "ipython3",
   "version": "3.5.2"
  },
  "widgets": {
   "application/vnd.jupyter.widget-state+json": {
    "state": {
     "02bcb1a6c8054ae692731e2764340ce8": {
      "model_module": "@jupyter-widgets/controls",
      "model_module_version": "1.4.0",
      "model_name": "ButtonStyleModel",
      "state": {}
     },
     "038a4ccd89e84cb2b89babfbc34a7e2e": {
      "model_module": "@jupyter-widgets/controls",
      "model_module_version": "1.4.0",
      "model_name": "ButtonStyleModel",
      "state": {
       "button_color": "lightgreen"
      }
     },
     "03c061e01ff847eaa5d60048eb77a361": {
      "model_module": "@jupyter-widgets/base",
      "model_module_version": "1.1.0",
      "model_name": "LayoutModel",
      "state": {
       "height": "80px",
       "width": "98%"
      }
     },
     "042bcb7c896d4f24a04e49312cb89dad": {
      "model_module": "@jupyter-widgets/controls",
      "model_module_version": "1.4.0",
      "model_name": "ButtonModel",
      "state": {
       "button_style": "success",
       "description": "Save Population Map",
       "layout": "IPY_MODEL_389c2785add946bf8d1de3dbe5dae5f0",
       "style": "IPY_MODEL_19bc15baf48c48d28cb97ed00a5f2bf9"
      }
     },
     "0445fd2c9a91427cae50dffa82af0f61": {
      "model_module": "@jupyter-widgets/controls",
      "model_module_version": "1.4.0",
      "model_name": "ButtonModel",
      "state": {
       "button_style": "success",
       "description": "Save Map",
       "layout": "IPY_MODEL_279d524afadb44289ae13f375beaa5dc",
       "style": "IPY_MODEL_1d57a3c95a774bee825fd5c5f035f4d7"
      }
     },
     "047b0443619444c38ee744781c11563e": {
      "model_module": "@jupyter-widgets/controls",
      "model_module_version": "1.4.0",
      "model_name": "ButtonModel",
      "state": {
       "button_style": "success",
       "description": "View Census Map",
       "layout": "IPY_MODEL_5dae8d7942e0487c8dccfbd71e768307",
       "style": "IPY_MODEL_0f08defebba34151acfc5a0c044d5556"
      }
     },
     "048c493faa41485395bced28f9397215": {
      "model_module": "@jupyter-widgets/controls",
      "model_module_version": "1.4.0",
      "model_name": "ButtonStyleModel",
      "state": {}
     },
     "054ee22af0a34aa5a221f732ea8fc887": {
      "model_module": "@jupyter-widgets/controls",
      "model_module_version": "1.4.0",
      "model_name": "ButtonStyleModel",
      "state": {
       "button_color": "lightgreen"
      }
     },
     "0554c3cb59df41cba12c98d340b9b1ce": {
      "model_module": "@jupyter-widgets/controls",
      "model_module_version": "1.4.0",
      "model_name": "ButtonStyleModel",
      "state": {}
     },
     "069d0026c35e4755bf7c85239a68f26e": {
      "model_module": "@jupyter-widgets/controls",
      "model_module_version": "1.4.0",
      "model_name": "ButtonStyleModel",
      "state": {}
     },
     "06b1adbc24494b34bec73c35d1c1cfd7": {
      "model_module": "@jupyter-widgets/base",
      "model_module_version": "1.1.0",
      "model_name": "LayoutModel",
      "state": {
       "height": "80px",
       "width": "50%"
      }
     },
     "0764d29d77bc482eb1e96840a56722b8": {
      "model_module": "@jupyter-widgets/base",
      "model_module_version": "1.1.0",
      "model_name": "LayoutModel",
      "state": {
       "height": "80px",
       "width": "50%"
      }
     },
     "0811c3bac37e424e9b19bd1c8e93ea02": {
      "model_module": "@jupyter-widgets/base",
      "model_module_version": "1.1.0",
      "model_name": "LayoutModel",
      "state": {
       "height": "40px",
       "width": "50%"
      }
     },
     "087244252fd14091a621f8c2e94e88cf": {
      "model_module": "@jupyter-widgets/controls",
      "model_module_version": "1.4.0",
      "model_name": "ButtonStyleModel",
      "state": {}
     },
     "0876f6c3c5a14331a6b4985d5af2a6b8": {
      "model_module": "@jupyter-widgets/base",
      "model_module_version": "1.1.0",
      "model_name": "LayoutModel",
      "state": {
       "height": "40px",
       "width": "50%"
      }
     },
     "0905dc0d9f0846209b9f94151efabeda": {
      "model_module": "@jupyter-widgets/controls",
      "model_module_version": "1.4.0",
      "model_name": "ButtonStyleModel",
      "state": {}
     },
     "0909ad88a1dd4d7182e37a3388af7c38": {
      "model_module": "@jupyter-widgets/base",
      "model_module_version": "1.1.0",
      "model_name": "LayoutModel",
      "state": {
       "height": "80px",
       "width": "98%"
      }
     },
     "0963052ee5084693a273093cdad07f22": {
      "model_module": "@jupyter-widgets/base",
      "model_module_version": "1.1.0",
      "model_name": "LayoutModel",
      "state": {
       "height": "80px",
       "width": "50%"
      }
     },
     "0a718d322c7e4619b6b4d1e78453fd44": {
      "model_module": "@jupyter-widgets/base",
      "model_module_version": "1.1.0",
      "model_name": "LayoutModel",
      "state": {
       "height": "80px",
       "width": "98%"
      }
     },
     "0a96a3037ac94883a284afaed131755c": {
      "model_module": "@jupyter-widgets/controls",
      "model_module_version": "1.4.0",
      "model_name": "ButtonModel",
      "state": {
       "button_style": "success",
       "description": "Percentage With Income Less than R128 000",
       "layout": "IPY_MODEL_cd910c6cdb06493cb7934269aac1abad",
       "style": "IPY_MODEL_c6e69f6f92814f5589f948bbe1c9f672"
      }
     },
     "0adba8a3f9fc44a78c3e8ef6806f8274": {
      "model_module": "@jupyter-widgets/base",
      "model_module_version": "1.1.0",
      "model_name": "LayoutModel",
      "state": {
       "height": "80px",
       "width": "98%"
      }
     },
     "0af1ab0be3f94ad5aee41913c382f385": {
      "model_module": "@jupyter-widgets/controls",
      "model_module_version": "1.4.0",
      "model_name": "ButtonStyleModel",
      "state": {}
     },
     "0b0699e7918f47589920049b4a077102": {
      "model_module": "@jupyter-widgets/controls",
      "model_module_version": "1.4.0",
      "model_name": "ButtonModel",
      "state": {
       "button_style": "success",
       "description": "Save Map",
       "layout": "IPY_MODEL_273d4e1fef2f4eda9b033600a491cb68",
       "style": "IPY_MODEL_f6b292ff01cd40ba9a5a12f02764690e"
      }
     },
     "0bb60fec8b6549498044ac1130a1676a": {
      "model_module": "@jupyter-widgets/base",
      "model_module_version": "1.1.0",
      "model_name": "LayoutModel",
      "state": {
       "height": "80px",
       "width": "98%"
      }
     },
     "0c006ff66c624be5ada5eade56055750": {
      "model_module": "@jupyter-widgets/controls",
      "model_module_version": "1.4.0",
      "model_name": "ButtonModel",
      "state": {
       "button_style": "success",
       "description": "Percentage of Population Foreign Born",
       "layout": "IPY_MODEL_bd49eb4cf7014f09b1f127c872cb12ba",
       "style": "IPY_MODEL_da53cf1a72504348a3756ecc4c942f03"
      }
     },
     "0cf56b7512e242129154d4ac99c27740": {
      "model_module": "@jupyter-widgets/controls",
      "model_module_version": "1.4.0",
      "model_name": "ButtonModel",
      "state": {
       "button_style": "success",
       "description": "Save Map",
       "layout": "IPY_MODEL_a9686b9ab32e4b708208e3c20b89ebbf",
       "style": "IPY_MODEL_aba6b2b6851d46af90d85c23ed45b09d"
      }
     },
     "0d2d81ae151149eb8430c66fd76ac7f3": {
      "model_module": "@jupyter-widgets/controls",
      "model_module_version": "1.4.0",
      "model_name": "ButtonStyleModel",
      "state": {}
     },
     "0d7e0a749ac14e6189874672cb685501": {
      "model_module": "@jupyter-widgets/controls",
      "model_module_version": "1.4.0",
      "model_name": "ButtonModel",
      "state": {
       "button_style": "success",
       "description": "Remove Tables from Database",
       "layout": "IPY_MODEL_d3a4958c07114ef78a1304c85fb5decc",
       "style": "IPY_MODEL_316ae5a56aea4432b4d7725bd52e7b8a"
      }
     },
     "0d8271ca8d9b442e9d069bae2b741625": {
      "model_module": "@jupyter-widgets/base",
      "model_module_version": "1.1.0",
      "model_name": "LayoutModel",
      "state": {
       "height": "80px",
       "width": "50%"
      }
     },
     "0eb6e77d74094486b4be2306dba48d96": {
      "model_module": "@jupyter-widgets/controls",
      "model_module_version": "1.4.0",
      "model_name": "ButtonModel",
      "state": {
       "button_style": "success",
       "description": "Create Crime Map using ipyleaflet and Folium",
       "layout": "IPY_MODEL_7f5ba605f4d045a5be2a9784a5cfb274",
       "style": "IPY_MODEL_cabdc369d05d442eb3d438f2e7a8b8f7"
      }
     },
     "0ec6f810dd054d04acb434b6bc28f5f8": {
      "model_module": "@jupyter-widgets/controls",
      "model_module_version": "1.4.0",
      "model_name": "ButtonModel",
      "state": {
       "button_style": "success",
       "description": "Save Matrix",
       "layout": "IPY_MODEL_643e5769ad8f4ca3af71b8c83df23d51",
       "style": "IPY_MODEL_121ed6015ea14cef97455a7636039420"
      }
     },
     "0ef29fc346724af49de301646e534057": {
      "model_module": "@jupyter-widgets/base",
      "model_module_version": "1.1.0",
      "model_name": "LayoutModel",
      "state": {
       "height": "80px",
       "width": "50%"
      }
     },
     "0f08defebba34151acfc5a0c044d5556": {
      "model_module": "@jupyter-widgets/controls",
      "model_module_version": "1.4.0",
      "model_name": "ButtonStyleModel",
      "state": {}
     },
     "116ece32a7934627bd21e89c96449826": {
      "model_module": "@jupyter-widgets/base",
      "model_module_version": "1.1.0",
      "model_name": "LayoutModel",
      "state": {
       "height": "80px",
       "width": "50%"
      }
     },
     "121ed6015ea14cef97455a7636039420": {
      "model_module": "@jupyter-widgets/controls",
      "model_module_version": "1.4.0",
      "model_name": "ButtonStyleModel",
      "state": {
       "button_color": "lightgreen"
      }
     },
     "13dc09c5e56d4ca3ba4b5b3e1da8e17a": {
      "model_module": "@jupyter-widgets/base",
      "model_module_version": "1.1.0",
      "model_name": "LayoutModel",
      "state": {
       "height": "40px",
       "width": "50%"
      }
     },
     "157f34c68c154d40a2e9a2e4147bda11": {
      "model_module": "@jupyter-widgets/controls",
      "model_module_version": "1.4.0",
      "model_name": "ButtonStyleModel",
      "state": {}
     },
     "15a6923e0f0c4b818d2ee5b353bb20ce": {
      "model_module": "@jupyter-widgets/base",
      "model_module_version": "1.1.0",
      "model_name": "LayoutModel",
      "state": {
       "height": "80px",
       "width": "50%"
      }
     },
     "16194f4c44984594990e3a02a56e7adb": {
      "model_module": "@jupyter-widgets/controls",
      "model_module_version": "1.4.0",
      "model_name": "ButtonStyleModel",
      "state": {}
     },
     "1858fe0ac20b4139837867bd7ae904de": {
      "model_module": "@jupyter-widgets/controls",
      "model_module_version": "1.4.0",
      "model_name": "ButtonModel",
      "state": {
       "button_style": "success",
       "description": "Import Built Characteristics into Database",
       "layout": "IPY_MODEL_45f65d4bbf72481e8faabf452dce0d36",
       "style": "IPY_MODEL_7b2da9360e5f45c1b2288fe22e5442d6"
      }
     },
     "194de90fb78c4931a90fbb42badac004": {
      "model_module": "@jupyter-widgets/controls",
      "model_module_version": "1.4.0",
      "model_name": "ButtonStyleModel",
      "state": {}
     },
     "19bc15baf48c48d28cb97ed00a5f2bf9": {
      "model_module": "@jupyter-widgets/controls",
      "model_module_version": "1.4.0",
      "model_name": "ButtonStyleModel",
      "state": {}
     },
     "1a194ecd9615443aa992638159296995": {
      "model_module": "@jupyter-widgets/controls",
      "model_module_version": "1.4.0",
      "model_name": "ButtonModel",
      "state": {
       "button_style": "success",
       "description": "Calculate Spearmans Rank Coefficients",
       "layout": "IPY_MODEL_4966a5a5510d4940b52b53a8fe5ee2ca",
       "style": "IPY_MODEL_3cfaddfab4524c1497c3a068dcbd6bde"
      }
     },
     "1a993102f20e496eb71ae9366c4847d2": {
      "model_module": "@jupyter-widgets/base",
      "model_module_version": "1.1.0",
      "model_name": "LayoutModel",
      "state": {
       "height": "80px",
       "width": "50%"
      }
     },
     "1be599d1a6444b9d90682c6df7f5b097": {
      "model_module": "@jupyter-widgets/controls",
      "model_module_version": "1.4.0",
      "model_name": "ButtonStyleModel",
      "state": {}
     },
     "1bfc5f38ad464e4cacc601eff7d424ed": {
      "model_module": "@jupyter-widgets/base",
      "model_module_version": "1.1.0",
      "model_name": "LayoutModel",
      "state": {
       "height": "80px",
       "width": "50%"
      }
     },
     "1d397936c5c94071b7f7534d0da26824": {
      "model_module": "@jupyter-widgets/controls",
      "model_module_version": "1.4.0",
      "model_name": "ButtonModel",
      "state": {
       "button_style": "success",
       "description": "Save Population Map",
       "layout": "IPY_MODEL_6f69fa0524014814844c08b000d11f06",
       "style": "IPY_MODEL_360d23aa9cef4130b508eb42ba147e85"
      }
     },
     "1d57a3c95a774bee825fd5c5f035f4d7": {
      "model_module": "@jupyter-widgets/controls",
      "model_module_version": "1.4.0",
      "model_name": "ButtonStyleModel",
      "state": {
       "button_color": "lightgreen"
      }
     },
     "1da0cd343f5346d4a4f9724ea6217feb": {
      "model_module": "@jupyter-widgets/controls",
      "model_module_version": "1.4.0",
      "model_name": "ButtonStyleModel",
      "state": {}
     },
     "1dd61856dc4f4bd6b8e636e2c200c8dd": {
      "model_module": "@jupyter-widgets/controls",
      "model_module_version": "1.4.0",
      "model_name": "ButtonStyleModel",
      "state": {}
     },
     "1e7826ce565f4d369eca54f4e4c89792": {
      "model_module": "@jupyter-widgets/controls",
      "model_module_version": "1.4.0",
      "model_name": "ButtonStyleModel",
      "state": {}
     },
     "1ec1256317f643f283d64ad304b81cf4": {
      "model_module": "@jupyter-widgets/base",
      "model_module_version": "1.1.0",
      "model_name": "LayoutModel",
      "state": {
       "height": "80px",
       "width": "50%"
      }
     },
     "1f4abddbaad349ce94ec55a8f3c30b10": {
      "model_module": "@jupyter-widgets/base",
      "model_module_version": "1.1.0",
      "model_name": "LayoutModel",
      "state": {
       "height": "80px",
       "width": "98%"
      }
     },
     "1f624c806f194110997a52ff0b4edd96": {
      "model_module": "@jupyter-widgets/controls",
      "model_module_version": "1.4.0",
      "model_name": "ButtonStyleModel",
      "state": {}
     },
     "1f721a7b793a4078a54a5af9e3e75f5f": {
      "model_module": "@jupyter-widgets/base",
      "model_module_version": "1.1.0",
      "model_name": "LayoutModel",
      "state": {
       "height": "80px",
       "width": "50%"
      }
     },
     "21d79a32ed874093ac1a9643278a2253": {
      "model_module": "@jupyter-widgets/controls",
      "model_module_version": "1.4.0",
      "model_name": "ButtonModel",
      "state": {
       "button_style": "success",
       "description": "Percentage With Income Less than R128 000",
       "layout": "IPY_MODEL_40a9343b59214bf7872c261f8e173806",
       "style": "IPY_MODEL_773f3b6f0e944bb6bdab38b9e80377af"
      }
     },
     "2222d54e9a9c4dec811447719a630bce": {
      "model_module": "@jupyter-widgets/controls",
      "model_module_version": "1.4.0",
      "model_name": "ButtonStyleModel",
      "state": {}
     },
     "231aa9ad6b8b474cbac57ea6a646763e": {
      "model_module": "@jupyter-widgets/base",
      "model_module_version": "1.1.0",
      "model_name": "LayoutModel",
      "state": {
       "height": "80px",
       "width": "50%"
      }
     },
     "236554c085dc4adeaa91495d37fbf5dc": {
      "model_module": "@jupyter-widgets/base",
      "model_module_version": "1.1.0",
      "model_name": "LayoutModel",
      "state": {
       "height": "80px",
       "width": "98%"
      }
     },
     "241278fb2d664c0fbf085d43d4cf3ae7": {
      "model_module": "@jupyter-widgets/base",
      "model_module_version": "1.1.0",
      "model_name": "LayoutModel",
      "state": {
       "height": "80px",
       "width": "50%"
      }
     },
     "25888fbaa141426fa8961c4da6547144": {
      "model_module": "@jupyter-widgets/controls",
      "model_module_version": "1.4.0",
      "model_name": "ButtonStyleModel",
      "state": {}
     },
     "2609ec25b054470db0741577bc4ee8b5": {
      "model_module": "@jupyter-widgets/base",
      "model_module_version": "1.1.0",
      "model_name": "LayoutModel",
      "state": {
       "height": "80px",
       "width": "98%"
      }
     },
     "268dbdfb31c544b2a4f1328ec437fb2d": {
      "model_module": "@jupyter-widgets/base",
      "model_module_version": "1.1.0",
      "model_name": "LayoutModel",
      "state": {
       "height": "80px",
       "width": "50%"
      }
     },
     "26b04ca970164732b149f210f115dfc0": {
      "model_module": "@jupyter-widgets/controls",
      "model_module_version": "1.4.0",
      "model_name": "ButtonStyleModel",
      "state": {}
     },
     "27328e11824b449cb2a1da0546f2c787": {
      "model_module": "@jupyter-widgets/controls",
      "model_module_version": "1.4.0",
      "model_name": "ButtonStyleModel",
      "state": {}
     },
     "273d4e1fef2f4eda9b033600a491cb68": {
      "model_module": "@jupyter-widgets/base",
      "model_module_version": "1.1.0",
      "model_name": "LayoutModel",
      "state": {
       "height": "40px",
       "width": "50%"
      }
     },
     "27412e84ecea4ec1a4d7925c3c682f2f": {
      "model_module": "@jupyter-widgets/controls",
      "model_module_version": "1.4.0",
      "model_name": "ButtonStyleModel",
      "state": {}
     },
     "279d524afadb44289ae13f375beaa5dc": {
      "model_module": "@jupyter-widgets/base",
      "model_module_version": "1.1.0",
      "model_name": "LayoutModel",
      "state": {
       "height": "40px",
       "width": "50%"
      }
     },
     "2857aa2aa1134719867b36c906c188f2": {
      "model_module": "@jupyter-widgets/controls",
      "model_module_version": "1.4.0",
      "model_name": "ButtonModel",
      "state": {
       "button_style": "success",
       "description": "Percentage Black African Population",
       "layout": "IPY_MODEL_44f0029db29a4d5ab3cd7e947763fe69",
       "style": "IPY_MODEL_477600c0c3e749f0b6f48ae1eb921ff1"
      }
     },
     "28a0419df0d649fd8460abfb9676ff8a": {
      "model_module": "@jupyter-widgets/base",
      "model_module_version": "1.1.0",
      "model_name": "LayoutModel",
      "state": {
       "height": "80px",
       "width": "50%"
      }
     },
     "28ada45ffafa4de4ad4f7a2135483af1": {
      "model_module": "@jupyter-widgets/base",
      "model_module_version": "1.1.0",
      "model_name": "LayoutModel",
      "state": {
       "height": "80px",
       "width": "98%"
      }
     },
     "2ad9c6327fb841e182781f9d18aabe14": {
      "model_module": "@jupyter-widgets/controls",
      "model_module_version": "1.4.0",
      "model_name": "ButtonModel",
      "state": {
       "button_style": "success",
       "description": "Create Crime Table in Database",
       "layout": "IPY_MODEL_bc7a32dc2f2948f2bf35063696f9109c",
       "style": "IPY_MODEL_9aca6528d17e41c5933219a8c72a0563"
      }
     },
     "2ae7adde318d48f5a699967f8863538a": {
      "model_module": "@jupyter-widgets/controls",
      "model_module_version": "1.4.0",
      "model_name": "ButtonStyleModel",
      "state": {}
     },
     "2b176701d3f94ce1a174250fe1cf8c68": {
      "model_module": "@jupyter-widgets/controls",
      "model_module_version": "1.4.0",
      "model_name": "ButtonModel",
      "state": {
       "button_style": "success",
       "description": "Save Map ",
       "layout": "IPY_MODEL_f526e4a0a71d4f6391c37c9808bae95a",
       "style": "IPY_MODEL_bef47837bd0047378a545a02ea270d30"
      }
     },
     "2c138c935a674a769efa97f5902c406c": {
      "model_module": "@jupyter-widgets/base",
      "model_module_version": "1.1.0",
      "model_name": "LayoutModel",
      "state": {
       "height": "80px",
       "width": "50%"
      }
     },
     "2cf18bf181a44940930e14d9daf154a5": {
      "model_module": "@jupyter-widgets/controls",
      "model_module_version": "1.4.0",
      "model_name": "ButtonModel",
      "state": {
       "button_style": "success",
       "description": "Save Map",
       "layout": "IPY_MODEL_9d54dc5a61f841899c3c2dcbe7ca40c1",
       "style": "IPY_MODEL_9730f8538259483f801c85a4a1088652"
      }
     },
     "2d3ee7ad9fcb4d978d471abf747f48ab": {
      "model_module": "@jupyter-widgets/controls",
      "model_module_version": "1.4.0",
      "model_name": "ButtonStyleModel",
      "state": {}
     },
     "2e98c61e573e4ffc9838d20cc0479832": {
      "model_module": "@jupyter-widgets/controls",
      "model_module_version": "1.4.0",
      "model_name": "ButtonStyleModel",
      "state": {}
     },
     "2eb7332524564049b10dc22e383f52b3": {
      "model_module": "@jupyter-widgets/controls",
      "model_module_version": "1.4.0",
      "model_name": "ButtonModel",
      "state": {
       "button_style": "success",
       "description": "Save Map",
       "layout": "IPY_MODEL_d077fdf32d2d4ac69c9089dbda61b164",
       "style": "IPY_MODEL_6be0294282494dd5916056a6531ea89d"
      }
     },
     "2fe8187fd620488ea11a9d0d17b0795d": {
      "model_module": "@jupyter-widgets/controls",
      "model_module_version": "1.4.0",
      "model_name": "ButtonStyleModel",
      "state": {}
     },
     "304f8acc5593446fa7914c6e04f4dc2f": {
      "model_module": "@jupyter-widgets/controls",
      "model_module_version": "1.4.0",
      "model_name": "ButtonStyleModel",
      "state": {}
     },
     "3108e9a3df3f437eb91e7405bffa1ede": {
      "model_module": "@jupyter-widgets/controls",
      "model_module_version": "1.4.0",
      "model_name": "ButtonModel",
      "state": {
       "button_style": "success",
       "description": "Create Crime Rate Map ",
       "layout": "IPY_MODEL_5e4a144fe1c24e399af5eafb962b812f",
       "style": "IPY_MODEL_304f8acc5593446fa7914c6e04f4dc2f"
      }
     },
     "3159c61453164c879620284829a25499": {
      "model_module": "@jupyter-widgets/controls",
      "model_module_version": "1.4.0",
      "model_name": "ButtonStyleModel",
      "state": {
       "button_color": "lightgreen"
      }
     },
     "316ae5a56aea4432b4d7725bd52e7b8a": {
      "model_module": "@jupyter-widgets/controls",
      "model_module_version": "1.4.0",
      "model_name": "ButtonStyleModel",
      "state": {}
     },
     "32aac9ca47484d7f925dcdbdbe533409": {
      "model_module": "@jupyter-widgets/controls",
      "model_module_version": "1.4.0",
      "model_name": "ButtonModel",
      "state": {
       "button_style": "success",
       "description": "See Population Map",
       "layout": "IPY_MODEL_718c2f2b55444c4888aefb8392422fbe",
       "style": "IPY_MODEL_93b92d65cfcb40679b63dc3217bdd2e1"
      }
     },
     "33ad7f61d29c4f1db86874efd093eecb": {
      "model_module": "@jupyter-widgets/controls",
      "model_module_version": "1.4.0",
      "model_name": "ButtonStyleModel",
      "state": {}
     },
     "3414bc5ac1694aaab81955cca3f406c9": {
      "model_module": "@jupyter-widgets/controls",
      "model_module_version": "1.4.0",
      "model_name": "ButtonStyleModel",
      "state": {}
     },
     "35706880052645a5a7cca97c71431e29": {
      "model_module": "@jupyter-widgets/controls",
      "model_module_version": "1.4.0",
      "model_name": "ButtonModel",
      "state": {
       "button_style": "success",
       "description": "Save Map",
       "layout": "IPY_MODEL_c4d024176fbe40aa82c0ab861823f966",
       "style": "IPY_MODEL_054ee22af0a34aa5a221f732ea8fc887"
      }
     },
     "360d23aa9cef4130b508eb42ba147e85": {
      "model_module": "@jupyter-widgets/controls",
      "model_module_version": "1.4.0",
      "model_name": "ButtonStyleModel",
      "state": {}
     },
     "361689ab19b6476c86a7bc2fef0d2cd1": {
      "model_module": "@jupyter-widgets/controls",
      "model_module_version": "1.4.0",
      "model_name": "ButtonStyleModel",
      "state": {
       "button_color": "lightgreen"
      }
     },
     "3719a93a676f45de9241f94e02efcd4f": {
      "model_module": "@jupyter-widgets/controls",
      "model_module_version": "1.4.0",
      "model_name": "ButtonStyleModel",
      "state": {}
     },
     "389c2785add946bf8d1de3dbe5dae5f0": {
      "model_module": "@jupyter-widgets/base",
      "model_module_version": "1.1.0",
      "model_name": "LayoutModel",
      "state": {
       "height": "80px",
       "width": "50%"
      }
     },
     "39efe14e77584bca95f77646a812e2c3": {
      "model_module": "@jupyter-widgets/controls",
      "model_module_version": "1.4.0",
      "model_name": "ButtonStyleModel",
      "state": {}
     },
     "3a5c821318214c7096f1d626e297683c": {
      "model_module": "@jupyter-widgets/controls",
      "model_module_version": "1.4.0",
      "model_name": "ButtonModel",
      "state": {
       "button_style": "success",
       "description": "Create Resilience Centroid Map",
       "layout": "IPY_MODEL_241278fb2d664c0fbf085d43d4cf3ae7",
       "style": "IPY_MODEL_2e98c61e573e4ffc9838d20cc0479832"
      }
     },
     "3bef6ebef65e4009a4425635212ea08d": {
      "model_module": "@jupyter-widgets/controls",
      "model_module_version": "1.4.0",
      "model_name": "ButtonStyleModel",
      "state": {}
     },
     "3c0be1f6062242b194c38f0affbdaf7e": {
      "model_module": "@jupyter-widgets/controls",
      "model_module_version": "1.4.0",
      "model_name": "ButtonStyleModel",
      "state": {}
     },
     "3c1ba07ea1e74dc4ac8aa9e258e6b00b": {
      "model_module": "@jupyter-widgets/controls",
      "model_module_version": "1.4.0",
      "model_name": "ButtonModel",
      "state": {
       "button_style": "success",
       "description": "Create Census Table in Database",
       "layout": "IPY_MODEL_e670c99722274663999c7c952687f610",
       "style": "IPY_MODEL_588b9767e74742acad71ab18f371bf25"
      }
     },
     "3cb661e37d424cc483d3b16a33299346": {
      "model_module": "@jupyter-widgets/controls",
      "model_module_version": "1.4.0",
      "model_name": "ButtonModel",
      "state": {
       "button_style": "success",
       "description": "View Census Map",
       "layout": "IPY_MODEL_03c061e01ff847eaa5d60048eb77a361",
       "style": "IPY_MODEL_c0c5bfaa232c47ee8aecb374751bc395"
      }
     },
     "3cfaddfab4524c1497c3a068dcbd6bde": {
      "model_module": "@jupyter-widgets/controls",
      "model_module_version": "1.4.0",
      "model_name": "ButtonStyleModel",
      "state": {}
     },
     "3d2db4aa4f8047938e3410aaadbcf4fc": {
      "model_module": "@jupyter-widgets/controls",
      "model_module_version": "1.4.0",
      "model_name": "ButtonStyleModel",
      "state": {}
     },
     "3d4806cd158b4e18b8faec0ee28bd866": {
      "model_module": "@jupyter-widgets/base",
      "model_module_version": "1.1.0",
      "model_name": "LayoutModel",
      "state": {
       "height": "80px",
       "width": "98%"
      }
     },
     "3da21fa477a84b77b555f49cdbfab670": {
      "model_module": "@jupyter-widgets/controls",
      "model_module_version": "1.4.0",
      "model_name": "ButtonStyleModel",
      "state": {}
     },
     "3df2a1bb589f456f846f21c40da0013c": {
      "model_module": "@jupyter-widgets/controls",
      "model_module_version": "1.4.0",
      "model_name": "ButtonModel",
      "state": {
       "button_style": "success",
       "description": "Perform Negative Binomial Regression ",
       "layout": "IPY_MODEL_c578c31d9f684eb3b4178f2f280fdb2c",
       "style": "IPY_MODEL_cf167ba447044d93a34d2df931dc7d05"
      }
     },
     "3e7138510bd741229afd8f8f61f50b45": {
      "model_module": "@jupyter-widgets/controls",
      "model_module_version": "1.4.0",
      "model_name": "ButtonModel",
      "state": {
       "button_style": "success",
       "description": "Create Crime Table in Database",
       "layout": "IPY_MODEL_eac783293bce4dc5ab62e2e3c698ec30",
       "style": "IPY_MODEL_2ae7adde318d48f5a699967f8863538a"
      }
     },
     "3e8ddbfd8da64a80ba4926676beffc38": {
      "model_module": "@jupyter-widgets/base",
      "model_module_version": "1.1.0",
      "model_name": "LayoutModel",
      "state": {
       "height": "80px",
       "width": "98%"
      }
     },
     "3ea16152999c4df3ad1ac37853bfa2a3": {
      "model_module": "@jupyter-widgets/controls",
      "model_module_version": "1.4.0",
      "model_name": "ButtonModel",
      "state": {
       "button_style": "success",
       "description": "Percentage Divorced or Seperated",
       "layout": "IPY_MODEL_0a718d322c7e4619b6b4d1e78453fd44",
       "style": "IPY_MODEL_a31f93cfe69e44618944043ba9398ae2"
      }
     },
     "3eae74ba7356466e839049c7605ee703": {
      "model_module": "@jupyter-widgets/base",
      "model_module_version": "1.1.0",
      "model_name": "LayoutModel",
      "state": {
       "height": "80px",
       "width": "50%"
      }
     },
     "4089c2246dcc42989f56d1026ec9f61a": {
      "model_module": "@jupyter-widgets/controls",
      "model_module_version": "1.4.0",
      "model_name": "ButtonModel",
      "state": {
       "button_style": "success",
       "description": "Create Crime Rate per 1000 Individuals View",
       "layout": "IPY_MODEL_7b4bffb28e8c48638bc2c74e2e37213e",
       "style": "IPY_MODEL_dc520ccaca654121b32da3176f061efa"
      }
     },
     "40a9343b59214bf7872c261f8e173806": {
      "model_module": "@jupyter-widgets/base",
      "model_module_version": "1.1.0",
      "model_name": "LayoutModel",
      "state": {
       "height": "80px",
       "width": "98%"
      }
     },
     "40c54f8befb24c138e901e6434543a2b": {
      "model_module": "@jupyter-widgets/base",
      "model_module_version": "1.1.0",
      "model_name": "LayoutModel",
      "state": {
       "height": "80px",
       "width": "50%"
      }
     },
     "423de0feec0c4f7d9bb37473b9d90f07": {
      "model_module": "@jupyter-widgets/controls",
      "model_module_version": "1.4.0",
      "model_name": "ButtonModel",
      "state": {
       "button_style": "success",
       "description": "Save Map",
       "layout": "IPY_MODEL_d64d576a78c44046b50428b69a39ae63",
       "style": "IPY_MODEL_e38e5cb53e5e4802a3e4ff805bfaa0f3"
      }
     },
     "43d37165488047ed898fab3ef9a14fc4": {
      "model_module": "@jupyter-widgets/controls",
      "model_module_version": "1.4.0",
      "model_name": "ButtonModel",
      "state": {
       "button_style": "success",
       "description": "Create Neighbourhood Centroids ",
       "layout": "IPY_MODEL_729f4fdc700148dbb7b53f88f860db63",
       "style": "IPY_MODEL_46b836648a1940f58038a302eeba27f9"
      }
     },
     "43e228a3df2f4a6bb9a7754ba28b021b": {
      "model_module": "@jupyter-widgets/base",
      "model_module_version": "1.1.0",
      "model_name": "LayoutModel",
      "state": {
       "height": "80px",
       "width": "98%"
      }
     },
     "44bc01bdfc814c6f8d09a59c227be251": {
      "model_module": "@jupyter-widgets/controls",
      "model_module_version": "1.4.0",
      "model_name": "ButtonStyleModel",
      "state": {
       "button_color": "lightgreen"
      }
     },
     "44f0029db29a4d5ab3cd7e947763fe69": {
      "model_module": "@jupyter-widgets/base",
      "model_module_version": "1.1.0",
      "model_name": "LayoutModel",
      "state": {
       "height": "80px",
       "width": "98%"
      }
     },
     "45f65d4bbf72481e8faabf452dce0d36": {
      "model_module": "@jupyter-widgets/base",
      "model_module_version": "1.1.0",
      "model_name": "LayoutModel",
      "state": {
       "height": "80px",
       "width": "50%"
      }
     },
     "46b836648a1940f58038a302eeba27f9": {
      "model_module": "@jupyter-widgets/controls",
      "model_module_version": "1.4.0",
      "model_name": "ButtonStyleModel",
      "state": {}
     },
     "46d1df40bf5a486c96f33372331cf9c2": {
      "model_module": "@jupyter-widgets/controls",
      "model_module_version": "1.4.0",
      "model_name": "ButtonModel",
      "state": {
       "button_style": "success",
       "description": "Percentage Female Headed Households",
       "layout": "IPY_MODEL_0909ad88a1dd4d7182e37a3388af7c38",
       "style": "IPY_MODEL_cf80e438f8364a4097d147dd49c7f707"
      }
     },
     "47179f8eb54b4950ba5d36498076d735": {
      "model_module": "@jupyter-widgets/controls",
      "model_module_version": "1.4.0",
      "model_name": "ButtonModel",
      "state": {
       "button_style": "success",
       "description": "Create Crime Rate per 1000 Individuals View",
       "layout": "IPY_MODEL_2c138c935a674a769efa97f5902c406c",
       "style": "IPY_MODEL_dde54e95d3274d4ebec1f0a102c7e501"
      }
     },
     "47666f3c5e1544e5b02c51903ba14b10": {
      "model_module": "@jupyter-widgets/controls",
      "model_module_version": "1.4.0",
      "model_name": "ButtonModel",
      "state": {
       "button_style": "success",
       "description": "Create Crime Count Map ",
       "layout": "IPY_MODEL_bbb103057c9c4982b1ca547c307bb7ed",
       "style": "IPY_MODEL_1be599d1a6444b9d90682c6df7f5b097"
      }
     },
     "477600c0c3e749f0b6f48ae1eb921ff1": {
      "model_module": "@jupyter-widgets/controls",
      "model_module_version": "1.4.0",
      "model_name": "ButtonStyleModel",
      "state": {}
     },
     "48a44f0de42c4e13a5512a6f397995a7": {
      "model_module": "@jupyter-widgets/controls",
      "model_module_version": "1.4.0",
      "model_name": "ButtonStyleModel",
      "state": {}
     },
     "492331f72b3040a791ffcaecec171066": {
      "model_module": "@jupyter-widgets/controls",
      "model_module_version": "1.4.0",
      "model_name": "ButtonStyleModel",
      "state": {}
     },
     "493f3e0be0804ba990a1879e008ffe2a": {
      "model_module": "@jupyter-widgets/controls",
      "model_module_version": "1.4.0",
      "model_name": "ButtonModel",
      "state": {
       "button_style": "success",
       "description": "Percentage of Population Unemployed",
       "layout": "IPY_MODEL_2609ec25b054470db0741577bc4ee8b5",
       "style": "IPY_MODEL_a35ff897d8f04fe183c4be052aea83e3"
      }
     },
     "4966a5a5510d4940b52b53a8fe5ee2ca": {
      "model_module": "@jupyter-widgets/base",
      "model_module_version": "1.1.0",
      "model_name": "LayoutModel",
      "state": {
       "height": "80px",
       "width": "50%"
      }
     },
     "499d436cde9a4c899b52343fe8e43e05": {
      "model_module": "@jupyter-widgets/base",
      "model_module_version": "1.1.0",
      "model_name": "LayoutModel",
      "state": {
       "height": "80px",
       "width": "50%"
      }
     },
     "4b690933f0ef48c48688537078519939": {
      "model_module": "@jupyter-widgets/controls",
      "model_module_version": "1.4.0",
      "model_name": "ButtonStyleModel",
      "state": {}
     },
     "4c97b44cd1484a7d8f24e23a640d809b": {
      "model_module": "@jupyter-widgets/controls",
      "model_module_version": "1.4.0",
      "model_name": "ButtonModel",
      "state": {
       "button_style": "success",
       "description": "Save Map",
       "layout": "IPY_MODEL_71807f3075264565b2a5db5d7a6a0d01",
       "style": "IPY_MODEL_e7b5026daf39417796dd4d62cf2e2e91"
      }
     },
     "4eed574ab8b040b8897660eb5aac24ea": {
      "model_module": "@jupyter-widgets/controls",
      "model_module_version": "1.4.0",
      "model_name": "ButtonModel",
      "state": {
       "button_style": "success",
       "description": "Percentage Divorced or Seperated",
       "layout": "IPY_MODEL_9d4fd7c80507444ebdb4885100c76c19",
       "style": "IPY_MODEL_502740822f9940a88e81bf4b068e1c77"
      }
     },
     "4f7cd38cf5e44f92b7a2617eab49daad": {
      "model_module": "@jupyter-widgets/controls",
      "model_module_version": "1.4.0",
      "model_name": "ButtonStyleModel",
      "state": {}
     },
     "500cc3ab36e94c71bcad48f2128353c7": {
      "model_module": "@jupyter-widgets/controls",
      "model_module_version": "1.4.0",
      "model_name": "ButtonStyleModel",
      "state": {
       "button_color": "lightgreen"
      }
     },
     "501a290eae45474e9a8fc7455f0cfe1e": {
      "model_module": "@jupyter-widgets/controls",
      "model_module_version": "1.4.0",
      "model_name": "ButtonStyleModel",
      "state": {
       "button_color": "lightgreen"
      }
     },
     "502740822f9940a88e81bf4b068e1c77": {
      "model_module": "@jupyter-widgets/controls",
      "model_module_version": "1.4.0",
      "model_name": "ButtonStyleModel",
      "state": {}
     },
     "5082daf8fc254a3ea2baee3fc3804221": {
      "model_module": "@jupyter-widgets/base",
      "model_module_version": "1.1.0",
      "model_name": "LayoutModel",
      "state": {
       "height": "40px",
       "width": "50%"
      }
     },
     "5135d8ccc6ce48a1bb73cefb2c1f8ad5": {
      "model_module": "@jupyter-widgets/base",
      "model_module_version": "1.1.0",
      "model_name": "LayoutModel",
      "state": {
       "height": "80px",
       "width": "50%"
      }
     },
     "51b11ec4a7a74ce292a314a2238f6d9a": {
      "model_module": "@jupyter-widgets/controls",
      "model_module_version": "1.4.0",
      "model_name": "ButtonModel",
      "state": {
       "button_style": "success",
       "description": "Create Crime Rate per 1000 Individuals View",
       "layout": "IPY_MODEL_f12c41658d164e2a98bf8663e6215815",
       "style": "IPY_MODEL_c005340c16834459a5c6eb1bf8a76f23"
      }
     },
     "520f9fa514304841ab8284062f344ea7": {
      "model_module": "@jupyter-widgets/controls",
      "model_module_version": "1.4.0",
      "model_name": "ButtonStyleModel",
      "state": {}
     },
     "54715677dbec41eab28e793f605e2aed": {
      "model_module": "@jupyter-widgets/controls",
      "model_module_version": "1.4.0",
      "model_name": "ButtonModel",
      "state": {
       "button_style": "success",
       "description": "Create Distance Matrix",
       "layout": "IPY_MODEL_6694f034902d4d73833af403afa12bbb",
       "style": "IPY_MODEL_ccc1abfa842b481b929bdd5c7ddca7b8"
      }
     },
     "54f23a244a434725803da23887de95aa": {
      "model_module": "@jupyter-widgets/base",
      "model_module_version": "1.1.0",
      "model_name": "LayoutModel",
      "state": {
       "height": "80px",
       "width": "98%"
      }
     },
     "5600fa0e1fc14c978d26dfd5f1f84c6a": {
      "model_module": "@jupyter-widgets/controls",
      "model_module_version": "1.4.0",
      "model_name": "ButtonStyleModel",
      "state": {}
     },
     "562301cb1e4c440c98f8be3a4835442b": {
      "model_module": "@jupyter-widgets/controls",
      "model_module_version": "1.4.0",
      "model_name": "ButtonModel",
      "state": {
       "button_style": "success",
       "description": "Percentage Male and Between 15 and 34",
       "layout": "IPY_MODEL_b846033455b640c99b795a8ba6b8b552",
       "style": "IPY_MODEL_743a28a95aba4ab9806c22f04c079268"
      }
     },
     "5631ad8baa0a4d698c88f8b5bad55f59": {
      "model_module": "@jupyter-widgets/base",
      "model_module_version": "1.1.0",
      "model_name": "LayoutModel",
      "state": {
       "height": "80px",
       "width": "98%"
      }
     },
     "579c3526112a42cf86a60abf784a1978": {
      "model_module": "@jupyter-widgets/base",
      "model_module_version": "1.1.0",
      "model_name": "LayoutModel",
      "state": {
       "height": "80px",
       "width": "50%"
      }
     },
     "5844841ab86b44f3a7b8585ba7ffc6ca": {
      "model_module": "@jupyter-widgets/controls",
      "model_module_version": "1.4.0",
      "model_name": "ButtonModel",
      "state": {
       "button_style": "success",
       "description": "Percentage of Population Born Outside of the Western Cape",
       "layout": "IPY_MODEL_f5501ba04309486185b279c8512ae918",
       "style": "IPY_MODEL_600ff15c226b46b6ad59e820c0081edf"
      }
     },
     "5872d1af33c14a399401e2b86d3a8269": {
      "model_module": "@jupyter-widgets/controls",
      "model_module_version": "1.4.0",
      "model_name": "ButtonModel",
      "state": {
       "button_style": "success",
       "description": "Import Built Characteristics into Database",
       "layout": "IPY_MODEL_951c6633d11a49ca88e621b513785cd9",
       "style": "IPY_MODEL_1da0cd343f5346d4a4f9724ea6217feb"
      }
     },
     "588b9767e74742acad71ab18f371bf25": {
      "model_module": "@jupyter-widgets/controls",
      "model_module_version": "1.4.0",
      "model_name": "ButtonStyleModel",
      "state": {}
     },
     "58f31ec525454cd6a0e73a0c9ec02aeb": {
      "model_module": "@jupyter-widgets/controls",
      "model_module_version": "1.4.0",
      "model_name": "ButtonStyleModel",
      "state": {}
     },
     "5972824d6a6146a99eec49ccd2d64d16": {
      "model_module": "@jupyter-widgets/controls",
      "model_module_version": "1.4.0",
      "model_name": "ButtonModel",
      "state": {
       "button_style": "success",
       "description": "Perform Negative Binomial Regression ",
       "layout": "IPY_MODEL_15a6923e0f0c4b818d2ee5b353bb20ce",
       "style": "IPY_MODEL_5ae5091dd1c747778dc47cd975f47429"
      }
     },
     "5986d52db63046b99b59ff17b8066040": {
      "model_module": "@jupyter-widgets/controls",
      "model_module_version": "1.4.0",
      "model_name": "ButtonModel",
      "state": {
       "button_style": "success",
       "description": "Create Distance Matrix",
       "layout": "IPY_MODEL_8ef929b57799481988c3003b808861ba",
       "style": "IPY_MODEL_58f31ec525454cd6a0e73a0c9ec02aeb"
      }
     },
     "5ae5091dd1c747778dc47cd975f47429": {
      "model_module": "@jupyter-widgets/controls",
      "model_module_version": "1.4.0",
      "model_name": "ButtonStyleModel",
      "state": {}
     },
     "5c50e38242f74fe49354df83debbe348": {
      "model_module": "@jupyter-widgets/controls",
      "model_module_version": "1.4.0",
      "model_name": "ButtonModel",
      "state": {
       "button_style": "success",
       "description": "Percentage Female Headed Households",
       "layout": "IPY_MODEL_d9c949ccc5d24c5f913f3a278345db30",
       "style": "IPY_MODEL_fd143e7488c647d2a0405949d4139029"
      }
     },
     "5d3fc9add627429684dd69f4aa083723": {
      "model_module": "@jupyter-widgets/controls",
      "model_module_version": "1.4.0",
      "model_name": "ButtonModel",
      "state": {
       "button_style": "success",
       "description": "Percentage Renting",
       "layout": "IPY_MODEL_6e386c73994f49b59a8f8c4bc6a5fc8e",
       "style": "IPY_MODEL_3da21fa477a84b77b555f49cdbfab670"
      }
     },
     "5dae8d7942e0487c8dccfbd71e768307": {
      "model_module": "@jupyter-widgets/base",
      "model_module_version": "1.1.0",
      "model_name": "LayoutModel",
      "state": {
       "height": "80px",
       "width": "98%"
      }
     },
     "5e4a144fe1c24e399af5eafb962b812f": {
      "model_module": "@jupyter-widgets/base",
      "model_module_version": "1.1.0",
      "model_name": "LayoutModel",
      "state": {
       "height": "80px",
       "width": "50%"
      }
     },
     "5ea7d7ad1c3146efbfcd36e1aa494652": {
      "model_module": "@jupyter-widgets/controls",
      "model_module_version": "1.4.0",
      "model_name": "ButtonModel",
      "state": {
       "button_style": "success",
       "description": "Create Crime Count Map ",
       "layout": "IPY_MODEL_268dbdfb31c544b2a4f1328ec437fb2d",
       "style": "IPY_MODEL_a46fa5b04ad7448e9591c0e1a06e8b27"
      }
     },
     "600ff15c226b46b6ad59e820c0081edf": {
      "model_module": "@jupyter-widgets/controls",
      "model_module_version": "1.4.0",
      "model_name": "ButtonStyleModel",
      "state": {}
     },
     "603632d288fa4a9fb4c29fedbcdaf435": {
      "model_module": "@jupyter-widgets/base",
      "model_module_version": "1.1.0",
      "model_name": "LayoutModel",
      "state": {
       "height": "80px",
       "width": "98%"
      }
     },
     "60e4d21c01534250a516797ebec3514e": {
      "model_module": "@jupyter-widgets/controls",
      "model_module_version": "1.4.0",
      "model_name": "ButtonModel",
      "state": {
       "button_style": "success",
       "description": "Save Population Map",
       "layout": "IPY_MODEL_6f107d90f45d4272bb87a98dc50fdf67",
       "style": "IPY_MODEL_f8ce9df8c80d4c15afc15f65fa34ae2d"
      }
     },
     "6276e1524bfc4896a6432f27975de0b7": {
      "model_module": "@jupyter-widgets/controls",
      "model_module_version": "1.4.0",
      "model_name": "ButtonStyleModel",
      "state": {}
     },
     "643e5769ad8f4ca3af71b8c83df23d51": {
      "model_module": "@jupyter-widgets/base",
      "model_module_version": "1.1.0",
      "model_name": "LayoutModel",
      "state": {
       "height": "40px",
       "width": "50%"
      }
     },
     "646fe468594c4d8bb4a638de702db433": {
      "model_module": "@jupyter-widgets/base",
      "model_module_version": "1.1.0",
      "model_name": "LayoutModel",
      "state": {
       "height": "40px",
       "width": "50%"
      }
     },
     "652145691955427ab01cd278b7f88a01": {
      "model_module": "@jupyter-widgets/base",
      "model_module_version": "1.1.0",
      "model_name": "LayoutModel",
      "state": {
       "height": "80px",
       "width": "98%"
      }
     },
     "65b85016a298461cba81e20038f61363": {
      "model_module": "@jupyter-widgets/controls",
      "model_module_version": "1.4.0",
      "model_name": "ButtonModel",
      "state": {
       "button_style": "success",
       "description": "Percentage Male and Between 15 and 34",
       "layout": "IPY_MODEL_3e8ddbfd8da64a80ba4926676beffc38",
       "style": "IPY_MODEL_3bef6ebef65e4009a4425635212ea08d"
      }
     },
     "6694f034902d4d73833af403afa12bbb": {
      "model_module": "@jupyter-widgets/base",
      "model_module_version": "1.1.0",
      "model_name": "LayoutModel",
      "state": {
       "height": "80px",
       "width": "50%"
      }
     },
     "6a0d2cdc30714537865b5d5fab29463f": {
      "model_module": "@jupyter-widgets/base",
      "model_module_version": "1.1.0",
      "model_name": "LayoutModel",
      "state": {
       "height": "40px",
       "width": "50%"
      }
     },
     "6be0294282494dd5916056a6531ea89d": {
      "model_module": "@jupyter-widgets/controls",
      "model_module_version": "1.4.0",
      "model_name": "ButtonStyleModel",
      "state": {
       "button_color": "lightgreen"
      }
     },
     "6d4a4f6ef91349a9a5ae84ac8b5e6d82": {
      "model_module": "@jupyter-widgets/controls",
      "model_module_version": "1.4.0",
      "model_name": "ButtonModel",
      "state": {
       "button_style": "success",
       "description": "Remove Variables with Correlations Greater than 0.7 ",
       "layout": "IPY_MODEL_9f1a151bf32845a19fb45407cc250d3f",
       "style": "IPY_MODEL_1e7826ce565f4d369eca54f4e4c89792"
      }
     },
     "6da143efb62548139b09e79a8f6041e8": {
      "model_module": "@jupyter-widgets/base",
      "model_module_version": "1.1.0",
      "model_name": "LayoutModel",
      "state": {
       "height": "80px",
       "width": "50%"
      }
     },
     "6df01d10b80b4827a65a9499fd69a6e3": {
      "model_module": "@jupyter-widgets/base",
      "model_module_version": "1.1.0",
      "model_name": "LayoutModel",
      "state": {
       "height": "80px",
       "width": "50%"
      }
     },
     "6e386c73994f49b59a8f8c4bc6a5fc8e": {
      "model_module": "@jupyter-widgets/base",
      "model_module_version": "1.1.0",
      "model_name": "LayoutModel",
      "state": {
       "height": "80px",
       "width": "98%"
      }
     },
     "6f107d90f45d4272bb87a98dc50fdf67": {
      "model_module": "@jupyter-widgets/base",
      "model_module_version": "1.1.0",
      "model_name": "LayoutModel",
      "state": {
       "height": "80px",
       "width": "50%"
      }
     },
     "6f69fa0524014814844c08b000d11f06": {
      "model_module": "@jupyter-widgets/base",
      "model_module_version": "1.1.0",
      "model_name": "LayoutModel",
      "state": {
       "height": "40px",
       "width": "50%"
      }
     },
     "71807f3075264565b2a5db5d7a6a0d01": {
      "model_module": "@jupyter-widgets/base",
      "model_module_version": "1.1.0",
      "model_name": "LayoutModel",
      "state": {
       "height": "40px",
       "width": "50%"
      }
     },
     "718c2f2b55444c4888aefb8392422fbe": {
      "model_module": "@jupyter-widgets/base",
      "model_module_version": "1.1.0",
      "model_name": "LayoutModel",
      "state": {
       "height": "80px",
       "width": "50%"
      }
     },
     "723077c06e0f4829b0fa3de1d82b57f9": {
      "model_module": "@jupyter-widgets/base",
      "model_module_version": "1.1.0",
      "model_name": "LayoutModel",
      "state": {
       "height": "80px",
       "width": "98%"
      }
     },
     "729f4fdc700148dbb7b53f88f860db63": {
      "model_module": "@jupyter-widgets/base",
      "model_module_version": "1.1.0",
      "model_name": "LayoutModel",
      "state": {
       "height": "80px",
       "width": "50%"
      }
     },
     "743a28a95aba4ab9806c22f04c079268": {
      "model_module": "@jupyter-widgets/controls",
      "model_module_version": "1.4.0",
      "model_name": "ButtonStyleModel",
      "state": {}
     },
     "75a82981e36f4d4d960d0e418d151574": {
      "model_module": "@jupyter-widgets/controls",
      "model_module_version": "1.4.0",
      "model_name": "ButtonStyleModel",
      "state": {}
     },
     "76bd329024444d77a5eeb905c8489866": {
      "model_module": "@jupyter-widgets/controls",
      "model_module_version": "1.4.0",
      "model_name": "ButtonStyleModel",
      "state": {}
     },
     "773f3b6f0e944bb6bdab38b9e80377af": {
      "model_module": "@jupyter-widgets/controls",
      "model_module_version": "1.4.0",
      "model_name": "ButtonStyleModel",
      "state": {}
     },
     "79686ee3c9ef4f43bcbe21a781168050": {
      "model_module": "@jupyter-widgets/controls",
      "model_module_version": "1.4.0",
      "model_name": "ButtonModel",
      "state": {
       "button_style": "success",
       "description": "Perform Negative Binomial Regression ",
       "layout": "IPY_MODEL_d9fcf07d55704a7e87938de6a4c366ac",
       "style": "IPY_MODEL_f79152f0295744c7af18c32eec707d41"
      }
     },
     "797517f7f17f42f086ce535a029f7420": {
      "model_module": "@jupyter-widgets/controls",
      "model_module_version": "1.4.0",
      "model_name": "ButtonModel",
      "state": {
       "button_style": "success",
       "description": "Save Population Map",
       "layout": "IPY_MODEL_e99d5022bb4c44a2887a3c0d7eb274a2",
       "style": "IPY_MODEL_9aee50a06e614d57b7061597a59b651c"
      }
     },
     "7a1bf0a9df10440a99a0e38feaf70ed8": {
      "model_module": "@jupyter-widgets/controls",
      "model_module_version": "1.4.0",
      "model_name": "ButtonStyleModel",
      "state": {}
     },
     "7ad13b086fdc4773ad6696896d9194e0": {
      "model_module": "@jupyter-widgets/controls",
      "model_module_version": "1.4.0",
      "model_name": "ButtonStyleModel",
      "state": {}
     },
     "7b2da9360e5f45c1b2288fe22e5442d6": {
      "model_module": "@jupyter-widgets/controls",
      "model_module_version": "1.4.0",
      "model_name": "ButtonStyleModel",
      "state": {}
     },
     "7b34dd1e6e9b42518fb52942aef4d359": {
      "model_module": "@jupyter-widgets/controls",
      "model_module_version": "1.4.0",
      "model_name": "ButtonModel",
      "state": {
       "button_style": "success",
       "description": "Save Map",
       "layout": "IPY_MODEL_9b640472f411450fba224d0fcbe8e16a",
       "style": "IPY_MODEL_038a4ccd89e84cb2b89babfbc34a7e2e"
      }
     },
     "7b4bffb28e8c48638bc2c74e2e37213e": {
      "model_module": "@jupyter-widgets/base",
      "model_module_version": "1.1.0",
      "model_name": "LayoutModel",
      "state": {
       "height": "80px",
       "width": "50%"
      }
     },
     "7b914d1245db4008b8d73166065dbbea": {
      "model_module": "@jupyter-widgets/controls",
      "model_module_version": "1.4.0",
      "model_name": "ButtonModel",
      "state": {
       "button_style": "success",
       "description": "Percentage of Population Unemployed",
       "layout": "IPY_MODEL_54f23a244a434725803da23887de95aa",
       "style": "IPY_MODEL_5600fa0e1fc14c978d26dfd5f1f84c6a"
      }
     },
     "7ccef2c457064f57bcfd070c04c6ee69": {
      "model_module": "@jupyter-widgets/base",
      "model_module_version": "1.1.0",
      "model_name": "LayoutModel",
      "state": {
       "height": "80px",
       "width": "98%"
      }
     },
     "7cde53fd833c458ca6a316f74011a184": {
      "model_module": "@jupyter-widgets/base",
      "model_module_version": "1.1.0",
      "model_name": "LayoutModel",
      "state": {
       "height": "80px",
       "width": "50%"
      }
     },
     "7f5ba605f4d045a5be2a9784a5cfb274": {
      "model_module": "@jupyter-widgets/base",
      "model_module_version": "1.1.0",
      "model_name": "LayoutModel",
      "state": {
       "height": "80px",
       "width": "50%"
      }
     },
     "8057395be1394740b12f5c09a32b1283": {
      "model_module": "@jupyter-widgets/controls",
      "model_module_version": "1.4.0",
      "model_name": "ButtonModel",
      "state": {
       "button_style": "success",
       "description": "Save Map",
       "layout": "IPY_MODEL_0876f6c3c5a14331a6b4985d5af2a6b8",
       "style": "IPY_MODEL_dcbc21c2445c4937b6ffb2982fa4550f"
      }
     },
     "8084229294ae46cbbf14ee65a7637183": {
      "model_module": "@jupyter-widgets/controls",
      "model_module_version": "1.4.0",
      "model_name": "ButtonModel",
      "state": {
       "button_style": "success",
       "description": "View Census Map",
       "layout": "IPY_MODEL_3d4806cd158b4e18b8faec0ee28bd866",
       "style": "IPY_MODEL_4f7cd38cf5e44f92b7a2617eab49daad"
      }
     },
     "80ba5c9d500143f8a4b5c01bab06e8d1": {
      "model_module": "@jupyter-widgets/controls",
      "model_module_version": "1.4.0",
      "model_name": "ButtonModel",
      "state": {
       "button_style": "success",
       "description": "Save Population Map",
       "layout": "IPY_MODEL_28a0419df0d649fd8460abfb9676ff8a",
       "style": "IPY_MODEL_a212115661854d7c85667a518c30c10a"
      }
     },
     "80eb8278ba75441d8246e41d3b7289b3": {
      "model_module": "@jupyter-widgets/controls",
      "model_module_version": "1.4.0",
      "model_name": "ButtonModel",
      "state": {
       "button_style": "success",
       "description": "Percentage Divorced or Seperated",
       "layout": "IPY_MODEL_5631ad8baa0a4d698c88f8b5bad55f59",
       "style": "IPY_MODEL_7a1bf0a9df10440a99a0e38feaf70ed8"
      }
     },
     "82db4d23190048d98d9accb3fccc86bd": {
      "model_module": "@jupyter-widgets/controls",
      "model_module_version": "1.4.0",
      "model_name": "ButtonModel",
      "state": {
       "button_style": "success",
       "description": "Create Correlation Matrix ",
       "layout": "IPY_MODEL_b369ee9c5d1c4c35ab193ce46425f4a8",
       "style": "IPY_MODEL_520f9fa514304841ab8284062f344ea7"
      }
     },
     "84b21d802964444a907559daa3c4db89": {
      "model_module": "@jupyter-widgets/base",
      "model_module_version": "1.1.0",
      "model_name": "LayoutModel",
      "state": {
       "height": "80px",
       "width": "98%"
      }
     },
     "858f30a1f3ef4d2bae85141f27605638": {
      "model_module": "@jupyter-widgets/controls",
      "model_module_version": "1.4.0",
      "model_name": "ButtonModel",
      "state": {
       "button_style": "success",
       "description": "Create Crime Rate Map ",
       "layout": "IPY_MODEL_579c3526112a42cf86a60abf784a1978",
       "style": "IPY_MODEL_3d2db4aa4f8047938e3410aaadbcf4fc"
      }
     },
     "85e5181ffef247abad7f87235a90f9f6": {
      "model_module": "@jupyter-widgets/controls",
      "model_module_version": "1.4.0",
      "model_name": "ButtonModel",
      "state": {
       "button_style": "success",
       "description": "Percentage Renting",
       "layout": "IPY_MODEL_7ccef2c457064f57bcfd070c04c6ee69",
       "style": "IPY_MODEL_3719a93a676f45de9241f94e02efcd4f"
      }
     },
     "8742d1c28c184f768643333304979c60": {
      "model_module": "@jupyter-widgets/controls",
      "model_module_version": "1.4.0",
      "model_name": "ButtonModel",
      "state": {
       "button_style": "success",
       "description": "Calculate Spearmans Rank Coefficients",
       "layout": "IPY_MODEL_1a993102f20e496eb71ae9366c4847d2",
       "style": "IPY_MODEL_96fde9346ae647ed894dcc33d7df2488"
      }
     },
     "87e5e9605e3f42d5818a671985a82bf4": {
      "model_module": "@jupyter-widgets/controls",
      "model_module_version": "1.4.0",
      "model_name": "ButtonModel",
      "state": {
       "button_style": "success",
       "description": "Create Correlation Matrix ",
       "layout": "IPY_MODEL_e5db518ded724776b38c8a709326a6bd",
       "style": "IPY_MODEL_1dd61856dc4f4bd6b8e636e2c200c8dd"
      }
     },
     "89664eaca73e44e0ba16a60202febd54": {
      "model_module": "@jupyter-widgets/controls",
      "model_module_version": "1.4.0",
      "model_name": "ButtonStyleModel",
      "state": {}
     },
     "8a7b291759d84026a1d68ba77f94688a": {
      "model_module": "@jupyter-widgets/controls",
      "model_module_version": "1.4.0",
      "model_name": "ButtonStyleModel",
      "state": {
       "button_color": "lightgreen"
      }
     },
     "8b6d6816d08a4243951daaafc80aeb4c": {
      "model_module": "@jupyter-widgets/base",
      "model_module_version": "1.1.0",
      "model_name": "LayoutModel",
      "state": {
       "height": "80px",
       "width": "50%"
      }
     },
     "8ef929b57799481988c3003b808861ba": {
      "model_module": "@jupyter-widgets/base",
      "model_module_version": "1.1.0",
      "model_name": "LayoutModel",
      "state": {
       "height": "80px",
       "width": "50%"
      }
     },
     "9133f40c5acc4f36b9efd7041ea717d1": {
      "model_module": "@jupyter-widgets/controls",
      "model_module_version": "1.4.0",
      "model_name": "ButtonModel",
      "state": {
       "button_style": "success",
       "description": "Percentage Black African Population",
       "layout": "IPY_MODEL_603632d288fa4a9fb4c29fedbcdaf435",
       "style": "IPY_MODEL_0905dc0d9f0846209b9f94151efabeda"
      }
     },
     "9141adc37e1145e3a14b19a19e3f79c2": {
      "model_module": "@jupyter-widgets/controls",
      "model_module_version": "1.4.0",
      "model_name": "ButtonStyleModel",
      "state": {}
     },
     "9172911d4fba4036b25996ea63017385": {
      "model_module": "@jupyter-widgets/base",
      "model_module_version": "1.1.0",
      "model_name": "LayoutModel",
      "state": {
       "height": "80px",
       "width": "50%"
      }
     },
     "9308c2466ca341f88858feeb40bccb36": {
      "model_module": "@jupyter-widgets/controls",
      "model_module_version": "1.4.0",
      "model_name": "ButtonStyleModel",
      "state": {}
     },
     "93b92d65cfcb40679b63dc3217bdd2e1": {
      "model_module": "@jupyter-widgets/controls",
      "model_module_version": "1.4.0",
      "model_name": "ButtonStyleModel",
      "state": {}
     },
     "94ab825bdff645879902c93f16528390": {
      "model_module": "@jupyter-widgets/base",
      "model_module_version": "1.1.0",
      "model_name": "LayoutModel",
      "state": {
       "height": "80px",
       "width": "50%"
      }
     },
     "951c6633d11a49ca88e621b513785cd9": {
      "model_module": "@jupyter-widgets/base",
      "model_module_version": "1.1.0",
      "model_name": "LayoutModel",
      "state": {
       "height": "80px",
       "width": "50%"
      }
     },
     "96fde9346ae647ed894dcc33d7df2488": {
      "model_module": "@jupyter-widgets/controls",
      "model_module_version": "1.4.0",
      "model_name": "ButtonStyleModel",
      "state": {}
     },
     "96fe8254b80549ed9c27643fbd22144e": {
      "model_module": "@jupyter-widgets/controls",
      "model_module_version": "1.4.0",
      "model_name": "ButtonModel",
      "state": {
       "button_style": "success",
       "description": "Percentage With Income Less than R128 000",
       "layout": "IPY_MODEL_236554c085dc4adeaa91495d37fbf5dc",
       "style": "IPY_MODEL_27328e11824b449cb2a1da0546f2c787"
      }
     },
     "9730f8538259483f801c85a4a1088652": {
      "model_module": "@jupyter-widgets/controls",
      "model_module_version": "1.4.0",
      "model_name": "ButtonStyleModel",
      "state": {
       "button_color": "lightgreen"
      }
     },
     "99da7768cf074c41ba49b16936c85f40": {
      "model_module": "@jupyter-widgets/controls",
      "model_module_version": "1.4.0",
      "model_name": "ButtonModel",
      "state": {
       "button_style": "success",
       "description": "Create Distance Matrix",
       "layout": "IPY_MODEL_8b6d6816d08a4243951daaafc80aeb4c",
       "style": "IPY_MODEL_cd4596f7ed8a4a30a469c50af7fe485e"
      }
     },
     "9aca6528d17e41c5933219a8c72a0563": {
      "model_module": "@jupyter-widgets/controls",
      "model_module_version": "1.4.0",
      "model_name": "ButtonStyleModel",
      "state": {}
     },
     "9aee50a06e614d57b7061597a59b651c": {
      "model_module": "@jupyter-widgets/controls",
      "model_module_version": "1.4.0",
      "model_name": "ButtonStyleModel",
      "state": {
       "button_color": "lightgreen"
      }
     },
     "9b640472f411450fba224d0fcbe8e16a": {
      "model_module": "@jupyter-widgets/base",
      "model_module_version": "1.1.0",
      "model_name": "LayoutModel",
      "state": {
       "height": "40px",
       "width": "50%"
      }
     },
     "9ba38e7dd1604009bcf1a9665a3bf910": {
      "model_module": "@jupyter-widgets/controls",
      "model_module_version": "1.4.0",
      "model_name": "ButtonStyleModel",
      "state": {}
     },
     "9d37f21ae6834b678949ba7bab130223": {
      "model_module": "@jupyter-widgets/controls",
      "model_module_version": "1.4.0",
      "model_name": "ButtonModel",
      "state": {
       "button_style": "success",
       "description": "See Population Map",
       "layout": "IPY_MODEL_1bfc5f38ad464e4cacc601eff7d424ed",
       "style": "IPY_MODEL_3c0be1f6062242b194c38f0affbdaf7e"
      }
     },
     "9d4fd7c80507444ebdb4885100c76c19": {
      "model_module": "@jupyter-widgets/base",
      "model_module_version": "1.1.0",
      "model_name": "LayoutModel",
      "state": {
       "height": "80px",
       "width": "98%"
      }
     },
     "9d54dc5a61f841899c3c2dcbe7ca40c1": {
      "model_module": "@jupyter-widgets/base",
      "model_module_version": "1.1.0",
      "model_name": "LayoutModel",
      "state": {
       "height": "40px",
       "width": "50%"
      }
     },
     "9e39eef390f742669f03a8d3f85f1d6f": {
      "model_module": "@jupyter-widgets/base",
      "model_module_version": "1.1.0",
      "model_name": "LayoutModel",
      "state": {
       "height": "80px",
       "width": "98%"
      }
     },
     "9eba4e85fc7e4bafaef571dcf942751d": {
      "model_module": "@jupyter-widgets/base",
      "model_module_version": "1.1.0",
      "model_name": "LayoutModel",
      "state": {
       "height": "40px",
       "width": "50%"
      }
     },
     "9f1a151bf32845a19fb45407cc250d3f": {
      "model_module": "@jupyter-widgets/base",
      "model_module_version": "1.1.0",
      "model_name": "LayoutModel",
      "state": {
       "height": "80px",
       "width": "50%"
      }
     },
     "9f2352a4400443c89fcbc9780930e054": {
      "model_module": "@jupyter-widgets/base",
      "model_module_version": "1.1.0",
      "model_name": "LayoutModel",
      "state": {
       "height": "80px",
       "width": "98%"
      }
     },
     "a1883b5097dc4625a8d680fd687431b1": {
      "model_module": "@jupyter-widgets/controls",
      "model_module_version": "1.4.0",
      "model_name": "ButtonStyleModel",
      "state": {}
     },
     "a212115661854d7c85667a518c30c10a": {
      "model_module": "@jupyter-widgets/controls",
      "model_module_version": "1.4.0",
      "model_name": "ButtonStyleModel",
      "state": {}
     },
     "a290fbf16ed74bd187f0fc6bffd3aa6f": {
      "model_module": "@jupyter-widgets/controls",
      "model_module_version": "1.4.0",
      "model_name": "ButtonModel",
      "state": {
       "button_style": "success",
       "description": "Calculate Average Distances",
       "layout": "IPY_MODEL_0764d29d77bc482eb1e96840a56722b8",
       "style": "IPY_MODEL_76bd329024444d77a5eeb905c8489866"
      }
     },
     "a31f93cfe69e44618944043ba9398ae2": {
      "model_module": "@jupyter-widgets/controls",
      "model_module_version": "1.4.0",
      "model_name": "ButtonStyleModel",
      "state": {}
     },
     "a35ff897d8f04fe183c4be052aea83e3": {
      "model_module": "@jupyter-widgets/controls",
      "model_module_version": "1.4.0",
      "model_name": "ButtonStyleModel",
      "state": {}
     },
     "a46fa5b04ad7448e9591c0e1a06e8b27": {
      "model_module": "@jupyter-widgets/controls",
      "model_module_version": "1.4.0",
      "model_name": "ButtonStyleModel",
      "state": {}
     },
     "a5257a50c1a04e808844ca9ba7f410b9": {
      "model_module": "@jupyter-widgets/controls",
      "model_module_version": "1.4.0",
      "model_name": "ButtonModel",
      "state": {
       "button_style": "success",
       "description": "Percentage of Population Foreign Born",
       "layout": "IPY_MODEL_e722abffd2544f4aafabfb68e5a92392",
       "style": "IPY_MODEL_6276e1524bfc4896a6432f27975de0b7"
      }
     },
     "a5953d5d1a014c77a2d22abe28bca320": {
      "model_module": "@jupyter-widgets/controls",
      "model_module_version": "1.4.0",
      "model_name": "ButtonModel",
      "state": {
       "button_style": "success",
       "description": "Save Map",
       "layout": "IPY_MODEL_646fe468594c4d8bb4a638de702db433",
       "style": "IPY_MODEL_44bc01bdfc814c6f8d09a59c227be251"
      }
     },
     "a602a351e0af44bd8a8ba2f90ecd30b7": {
      "model_module": "@jupyter-widgets/controls",
      "model_module_version": "1.4.0",
      "model_name": "ButtonModel",
      "state": {
       "button_style": "success",
       "description": "Create Crime Rate Map ",
       "layout": "IPY_MODEL_6da143efb62548139b09e79a8f6041e8",
       "style": "IPY_MODEL_89664eaca73e44e0ba16a60202febd54"
      }
     },
     "a6d6e3f1ca83458d89c57f750798b1f7": {
      "model_module": "@jupyter-widgets/base",
      "model_module_version": "1.1.0",
      "model_name": "LayoutModel",
      "state": {
       "height": "80px",
       "width": "98%"
      }
     },
     "a75021d2fe5049a5a8b861d2159a6fa1": {
      "model_module": "@jupyter-widgets/controls",
      "model_module_version": "1.4.0",
      "model_name": "ButtonModel",
      "state": {
       "button_style": "success",
       "description": "Create Neighbourhood Centroids ",
       "layout": "IPY_MODEL_7cde53fd833c458ca6a316f74011a184",
       "style": "IPY_MODEL_b0ba3fbe2de64c48b97a24cdd921dbae"
      }
     },
     "a7d52ea24e1b40a39400126fe950e223": {
      "model_module": "@jupyter-widgets/base",
      "model_module_version": "1.1.0",
      "model_name": "LayoutModel",
      "state": {
       "height": "80px",
       "width": "50%"
      }
     },
     "a9686b9ab32e4b708208e3c20b89ebbf": {
      "model_module": "@jupyter-widgets/base",
      "model_module_version": "1.1.0",
      "model_name": "LayoutModel",
      "state": {
       "height": "40px",
       "width": "50%"
      }
     },
     "aa40bbe35153406f92204899e11fa3ba": {
      "model_module": "@jupyter-widgets/controls",
      "model_module_version": "1.4.0",
      "model_name": "ButtonStyleModel",
      "state": {}
     },
     "ab0ff2dd25444e018efcbe9794715221": {
      "model_module": "@jupyter-widgets/controls",
      "model_module_version": "1.4.0",
      "model_name": "ButtonModel",
      "state": {
       "button_style": "success",
       "description": "Calculate Spearmans Rank Coefficients",
       "layout": "IPY_MODEL_499d436cde9a4c899b52343fe8e43e05",
       "style": "IPY_MODEL_492331f72b3040a791ffcaecec171066"
      }
     },
     "aba6b2b6851d46af90d85c23ed45b09d": {
      "model_module": "@jupyter-widgets/controls",
      "model_module_version": "1.4.0",
      "model_name": "ButtonStyleModel",
      "state": {
       "button_color": "lightgreen"
      }
     },
     "acfc54b59b36458aaa8feeb06095d41f": {
      "model_module": "@jupyter-widgets/controls",
      "model_module_version": "1.4.0",
      "model_name": "ButtonModel",
      "state": {
       "button_style": "success",
       "description": "Percentage of Population Migrated in Last 5 Years",
       "layout": "IPY_MODEL_0bb60fec8b6549498044ac1130a1676a",
       "style": "IPY_MODEL_b4706171245147efafc3a43de01e9cd5"
      }
     },
     "ae8ea068b5c14197a93fe1bd05830ecb": {
      "model_module": "@jupyter-widgets/controls",
      "model_module_version": "1.4.0",
      "model_name": "ButtonStyleModel",
      "state": {}
     },
     "af668978060a4226b96e72275e148339": {
      "model_module": "@jupyter-widgets/controls",
      "model_module_version": "1.4.0",
      "model_name": "ButtonModel",
      "state": {
       "button_style": "success",
       "description": "Percentage Male and Between 15 and 34",
       "layout": "IPY_MODEL_84b21d802964444a907559daa3c4db89",
       "style": "IPY_MODEL_9ba38e7dd1604009bcf1a9665a3bf910"
      }
     },
     "b0ba3fbe2de64c48b97a24cdd921dbae": {
      "model_module": "@jupyter-widgets/controls",
      "model_module_version": "1.4.0",
      "model_name": "ButtonStyleModel",
      "state": {}
     },
     "b130fe8213574330bf13318345eeaca2": {
      "model_module": "@jupyter-widgets/controls",
      "model_module_version": "1.4.0",
      "model_name": "ButtonModel",
      "state": {
       "button_style": "success",
       "description": "Create Crime Count View",
       "layout": "IPY_MODEL_40c54f8befb24c138e901e6434543a2b",
       "style": "IPY_MODEL_a1883b5097dc4625a8d680fd687431b1"
      }
     },
     "b1e9447787034349bb3a66aa79c9e7bc": {
      "model_module": "@jupyter-widgets/base",
      "model_module_version": "1.1.0",
      "model_name": "LayoutModel",
      "state": {
       "height": "80px",
       "width": "50%"
      }
     },
     "b22e8a49e35945cc8a52b3d61a058dc1": {
      "model_module": "@jupyter-widgets/controls",
      "model_module_version": "1.4.0",
      "model_name": "ButtonModel",
      "state": {
       "button_style": "success",
       "description": "Save Map",
       "layout": "IPY_MODEL_0811c3bac37e424e9b19bd1c8e93ea02",
       "style": "IPY_MODEL_3159c61453164c879620284829a25499"
      }
     },
     "b369ee9c5d1c4c35ab193ce46425f4a8": {
      "model_module": "@jupyter-widgets/base",
      "model_module_version": "1.1.0",
      "model_name": "LayoutModel",
      "state": {
       "height": "80px",
       "width": "50%"
      }
     },
     "b3a4460cdd1c4e09aa10029d21aa5ace": {
      "model_module": "@jupyter-widgets/controls",
      "model_module_version": "1.4.0",
      "model_name": "ButtonStyleModel",
      "state": {}
     },
     "b4706171245147efafc3a43de01e9cd5": {
      "model_module": "@jupyter-widgets/controls",
      "model_module_version": "1.4.0",
      "model_name": "ButtonStyleModel",
      "state": {}
     },
     "b7f69a4194824241a8ee3ff3f8bd3b7b": {
      "model_module": "@jupyter-widgets/base",
      "model_module_version": "1.1.0",
      "model_name": "LayoutModel",
      "state": {
       "height": "40px",
       "width": "50%"
      }
     },
     "b846033455b640c99b795a8ba6b8b552": {
      "model_module": "@jupyter-widgets/base",
      "model_module_version": "1.1.0",
      "model_name": "LayoutModel",
      "state": {
       "height": "80px",
       "width": "98%"
      }
     },
     "b8b6b68c1e9644a3b96940f9cdcbf06c": {
      "model_module": "@jupyter-widgets/controls",
      "model_module_version": "1.4.0",
      "model_name": "ButtonModel",
      "state": {
       "button_style": "success",
       "description": "Remove Tables from Database",
       "layout": "IPY_MODEL_0ef29fc346724af49de301646e534057",
       "style": "IPY_MODEL_16194f4c44984594990e3a02a56e7adb"
      }
     },
     "b9468e5483f948b48cccd14320be3a5d": {
      "model_module": "@jupyter-widgets/controls",
      "model_module_version": "1.4.0",
      "model_name": "ButtonModel",
      "state": {
       "button_style": "success",
       "description": "Percentage of Population Born Outside of the Western Cape",
       "layout": "IPY_MODEL_1f4abddbaad349ce94ec55a8f3c30b10",
       "style": "IPY_MODEL_048c493faa41485395bced28f9397215"
      }
     },
     "ba6b57ad976e4e2db74aee12da91fdc4": {
      "model_module": "@jupyter-widgets/controls",
      "model_module_version": "1.4.0",
      "model_name": "ButtonStyleModel",
      "state": {}
     },
     "bbb103057c9c4982b1ca547c307bb7ed": {
      "model_module": "@jupyter-widgets/base",
      "model_module_version": "1.1.0",
      "model_name": "LayoutModel",
      "state": {
       "height": "80px",
       "width": "50%"
      }
     },
     "bc22037eead74db0bbdd895ec72767e5": {
      "model_module": "@jupyter-widgets/base",
      "model_module_version": "1.1.0",
      "model_name": "LayoutModel",
      "state": {
       "height": "80px",
       "width": "50%"
      }
     },
     "bc7a32dc2f2948f2bf35063696f9109c": {
      "model_module": "@jupyter-widgets/base",
      "model_module_version": "1.1.0",
      "model_name": "LayoutModel",
      "state": {
       "height": "80px",
       "width": "50%"
      }
     },
     "bcb4f51d008e4a87bd260e0eb9a0a879": {
      "model_module": "@jupyter-widgets/controls",
      "model_module_version": "1.4.0",
      "model_name": "ButtonModel",
      "state": {
       "button_style": "success",
       "description": "Calculate Average Distances",
       "layout": "IPY_MODEL_c38322cb3b1549e5a211ac55a6540340",
       "style": "IPY_MODEL_ca32b7138b3a455a85f9cb1cb77a5bf8"
      }
     },
     "bd2dc53de3e84041a59e7a7985edf4e7": {
      "model_module": "@jupyter-widgets/controls",
      "model_module_version": "1.4.0",
      "model_name": "ButtonStyleModel",
      "state": {}
     },
     "bd49eb4cf7014f09b1f127c872cb12ba": {
      "model_module": "@jupyter-widgets/base",
      "model_module_version": "1.1.0",
      "model_name": "LayoutModel",
      "state": {
       "height": "80px",
       "width": "98%"
      }
     },
     "bef47837bd0047378a545a02ea270d30": {
      "model_module": "@jupyter-widgets/controls",
      "model_module_version": "1.4.0",
      "model_name": "ButtonStyleModel",
      "state": {}
     },
     "bf15c059d02e4992ad5193dd4caefb69": {
      "model_module": "@jupyter-widgets/controls",
      "model_module_version": "1.4.0",
      "model_name": "ButtonModel",
      "state": {
       "button_style": "success",
       "description": "Percentage Renting",
       "layout": "IPY_MODEL_c89d041b6b8141448fd3636a394712e3",
       "style": "IPY_MODEL_0af1ab0be3f94ad5aee41913c382f385"
      }
     },
     "c005340c16834459a5c6eb1bf8a76f23": {
      "model_module": "@jupyter-widgets/controls",
      "model_module_version": "1.4.0",
      "model_name": "ButtonStyleModel",
      "state": {}
     },
     "c02046946a08413cbea2df787d09ae73": {
      "model_module": "@jupyter-widgets/controls",
      "model_module_version": "1.4.0",
      "model_name": "ButtonModel",
      "state": {
       "button_style": "success",
       "description": "Save Map ",
       "layout": "IPY_MODEL_1f721a7b793a4078a54a5af9e3e75f5f",
       "style": "IPY_MODEL_7ad13b086fdc4773ad6696896d9194e0"
      }
     },
     "c0c280ce4b2b448a8c5494985661c942": {
      "model_module": "@jupyter-widgets/controls",
      "model_module_version": "1.4.0",
      "model_name": "ButtonModel",
      "state": {
       "button_style": "success",
       "description": "Percentage Female Headed Households",
       "layout": "IPY_MODEL_43e228a3df2f4a6bb9a7754ba28b021b",
       "style": "IPY_MODEL_25888fbaa141426fa8961c4da6547144"
      }
     },
     "c0c5bfaa232c47ee8aecb374751bc395": {
      "model_module": "@jupyter-widgets/controls",
      "model_module_version": "1.4.0",
      "model_name": "ButtonStyleModel",
      "state": {}
     },
     "c211cfa91db14eeca41ecbb555647fbc": {
      "model_module": "@jupyter-widgets/controls",
      "model_module_version": "1.4.0",
      "model_name": "ButtonModel",
      "state": {
       "button_style": "success",
       "description": "Remove Variables with Correlations Greater than 0.7 ",
       "layout": "IPY_MODEL_e02c6e54532f45a8bfba4c6565cd06a8",
       "style": "IPY_MODEL_39efe14e77584bca95f77646a812e2c3"
      }
     },
     "c2947af4ed9d4dee8730b0fc630e6a4b": {
      "model_module": "@jupyter-widgets/controls",
      "model_module_version": "1.4.0",
      "model_name": "ButtonModel",
      "state": {
       "button_style": "success",
       "description": "Create Crime Count View",
       "layout": "IPY_MODEL_fff7d87109bd4707a3798175b9d86766",
       "style": "IPY_MODEL_75a82981e36f4d4d960d0e418d151574"
      }
     },
     "c2d50e41eca846ddbc5919456a243ec7": {
      "model_module": "@jupyter-widgets/controls",
      "model_module_version": "1.4.0",
      "model_name": "ButtonModel",
      "state": {
       "button_style": "success",
       "description": "Create Resilience Centroid Map",
       "layout": "IPY_MODEL_94ab825bdff645879902c93f16528390",
       "style": "IPY_MODEL_33ad7f61d29c4f1db86874efd093eecb"
      }
     },
     "c2f44e582b5844739810b7c2bfd53fbe": {
      "model_module": "@jupyter-widgets/controls",
      "model_module_version": "1.4.0",
      "model_name": "ButtonModel",
      "state": {
       "button_style": "success",
       "description": "Create Census Table in Database",
       "layout": "IPY_MODEL_da3ad5c4c78a44a5bba6718e30d8f33e",
       "style": "IPY_MODEL_d980e93e38a94e07a46b23405bcc0089"
      }
     },
     "c38322cb3b1549e5a211ac55a6540340": {
      "model_module": "@jupyter-widgets/base",
      "model_module_version": "1.1.0",
      "model_name": "LayoutModel",
      "state": {
       "height": "80px",
       "width": "50%"
      }
     },
     "c431493d351340cf9ba3a6d60d2bb64b": {
      "model_module": "@jupyter-widgets/base",
      "model_module_version": "1.1.0",
      "model_name": "LayoutModel",
      "state": {
       "height": "80px",
       "width": "50%"
      }
     },
     "c444ffe028de4608a3a6751c17cd2535": {
      "model_module": "@jupyter-widgets/controls",
      "model_module_version": "1.4.0",
      "model_name": "ButtonModel",
      "state": {
       "button_style": "success",
       "description": "Create Crime Table in Database",
       "layout": "IPY_MODEL_9172911d4fba4036b25996ea63017385",
       "style": "IPY_MODEL_ec193bd81d584f8090a8fc529c6ed6e3"
      }
     },
     "c4d024176fbe40aa82c0ab861823f966": {
      "model_module": "@jupyter-widgets/base",
      "model_module_version": "1.1.0",
      "model_name": "LayoutModel",
      "state": {
       "height": "40px",
       "width": "50%"
      }
     },
     "c578c31d9f684eb3b4178f2f280fdb2c": {
      "model_module": "@jupyter-widgets/base",
      "model_module_version": "1.1.0",
      "model_name": "LayoutModel",
      "state": {
       "height": "80px",
       "width": "50%"
      }
     },
     "c5cc8737d50a470da9293fb00648c2dc": {
      "model_module": "@jupyter-widgets/base",
      "model_module_version": "1.1.0",
      "model_name": "LayoutModel",
      "state": {
       "height": "80px",
       "width": "50%"
      }
     },
     "c6e69f6f92814f5589f948bbe1c9f672": {
      "model_module": "@jupyter-widgets/controls",
      "model_module_version": "1.4.0",
      "model_name": "ButtonStyleModel",
      "state": {}
     },
     "c89d041b6b8141448fd3636a394712e3": {
      "model_module": "@jupyter-widgets/base",
      "model_module_version": "1.1.0",
      "model_name": "LayoutModel",
      "state": {
       "height": "80px",
       "width": "98%"
      }
     },
     "c9d2adf11dea4907a4f0897f45bda032": {
      "model_module": "@jupyter-widgets/controls",
      "model_module_version": "1.4.0",
      "model_name": "ButtonModel",
      "state": {
       "button_style": "success",
       "description": "Create Census Table in Database",
       "layout": "IPY_MODEL_c5cc8737d50a470da9293fb00648c2dc",
       "style": "IPY_MODEL_0554c3cb59df41cba12c98d340b9b1ce"
      }
     },
     "ca32b7138b3a455a85f9cb1cb77a5bf8": {
      "model_module": "@jupyter-widgets/controls",
      "model_module_version": "1.4.0",
      "model_name": "ButtonStyleModel",
      "state": {}
     },
     "ca426762e7d746d68326b890ecab9e11": {
      "model_module": "@jupyter-widgets/controls",
      "model_module_version": "1.4.0",
      "model_name": "ButtonModel",
      "state": {
       "button_style": "success",
       "description": "Save Map",
       "layout": "IPY_MODEL_5082daf8fc254a3ea2baee3fc3804221",
       "style": "IPY_MODEL_500cc3ab36e94c71bcad48f2128353c7"
      }
     },
     "cabdc369d05d442eb3d438f2e7a8b8f7": {
      "model_module": "@jupyter-widgets/controls",
      "model_module_version": "1.4.0",
      "model_name": "ButtonStyleModel",
      "state": {}
     },
     "cb016e26154a4717b96d64649bba518b": {
      "model_module": "@jupyter-widgets/controls",
      "model_module_version": "1.4.0",
      "model_name": "ButtonModel",
      "state": {
       "button_style": "success",
       "description": "Create Neighbourhood Centroids ",
       "layout": "IPY_MODEL_d20c56a0c2ca447285ccd1dbcb237658",
       "style": "IPY_MODEL_2222d54e9a9c4dec811447719a630bce"
      }
     },
     "cc74ce569da9484ca0d6ae3d5528f6da": {
      "model_module": "@jupyter-widgets/controls",
      "model_module_version": "1.4.0",
      "model_name": "ButtonModel",
      "state": {
       "button_style": "success",
       "description": "Percentage Black African Population",
       "layout": "IPY_MODEL_723077c06e0f4829b0fa3de1d82b57f9",
       "style": "IPY_MODEL_2d3ee7ad9fcb4d978d471abf747f48ab"
      }
     },
     "ccc1abfa842b481b929bdd5c7ddca7b8": {
      "model_module": "@jupyter-widgets/controls",
      "model_module_version": "1.4.0",
      "model_name": "ButtonStyleModel",
      "state": {}
     },
     "cd4596f7ed8a4a30a469c50af7fe485e": {
      "model_module": "@jupyter-widgets/controls",
      "model_module_version": "1.4.0",
      "model_name": "ButtonStyleModel",
      "state": {}
     },
     "cd910c6cdb06493cb7934269aac1abad": {
      "model_module": "@jupyter-widgets/base",
      "model_module_version": "1.1.0",
      "model_name": "LayoutModel",
      "state": {
       "height": "80px",
       "width": "98%"
      }
     },
     "cf167ba447044d93a34d2df931dc7d05": {
      "model_module": "@jupyter-widgets/controls",
      "model_module_version": "1.4.0",
      "model_name": "ButtonStyleModel",
      "state": {}
     },
     "cf80e438f8364a4097d147dd49c7f707": {
      "model_module": "@jupyter-widgets/controls",
      "model_module_version": "1.4.0",
      "model_name": "ButtonStyleModel",
      "state": {}
     },
     "d077fdf32d2d4ac69c9089dbda61b164": {
      "model_module": "@jupyter-widgets/base",
      "model_module_version": "1.1.0",
      "model_name": "LayoutModel",
      "state": {
       "height": "40px",
       "width": "50%"
      }
     },
     "d0eb10855c804765bf1905b99a570ec4": {
      "model_module": "@jupyter-widgets/controls",
      "model_module_version": "1.4.0",
      "model_name": "ButtonModel",
      "state": {
       "button_style": "success",
       "description": "Save Map",
       "layout": "IPY_MODEL_13dc09c5e56d4ca3ba4b5b3e1da8e17a",
       "style": "IPY_MODEL_501a290eae45474e9a8fc7455f0cfe1e"
      }
     },
     "d11ab7803b904bcc827f4b23b8826dbe": {
      "model_module": "@jupyter-widgets/controls",
      "model_module_version": "1.4.0",
      "model_name": "ButtonModel",
      "state": {
       "button_style": "success",
       "description": "See Population Map",
       "layout": "IPY_MODEL_5135d8ccc6ce48a1bb73cefb2c1f8ad5",
       "style": "IPY_MODEL_ba6b57ad976e4e2db74aee12da91fdc4"
      }
     },
     "d1982f54cf404ede86baaacd43176b24": {
      "model_module": "@jupyter-widgets/base",
      "model_module_version": "1.1.0",
      "model_name": "LayoutModel",
      "state": {
       "height": "40px",
       "width": "50%"
      }
     },
     "d20c56a0c2ca447285ccd1dbcb237658": {
      "model_module": "@jupyter-widgets/base",
      "model_module_version": "1.1.0",
      "model_name": "LayoutModel",
      "state": {
       "height": "80px",
       "width": "50%"
      }
     },
     "d2ae4ed7512f44b0885767b444f02ab2": {
      "model_module": "@jupyter-widgets/controls",
      "model_module_version": "1.4.0",
      "model_name": "ButtonModel",
      "state": {
       "button_style": "success",
       "description": "Save Population Map",
       "layout": "IPY_MODEL_231aa9ad6b8b474cbac57ea6a646763e",
       "style": "IPY_MODEL_3414bc5ac1694aaab81955cca3f406c9"
      }
     },
     "d2e4472ca2524e1b89618f8a9d5daa50": {
      "model_module": "@jupyter-widgets/controls",
      "model_module_version": "1.4.0",
      "model_name": "ButtonModel",
      "state": {
       "button_style": "success",
       "description": "Create Crime Count Map ",
       "layout": "IPY_MODEL_bc22037eead74db0bbdd895ec72767e5",
       "style": "IPY_MODEL_26b04ca970164732b149f210f115dfc0"
      }
     },
     "d300aea9eff94d7eb23184a4642d3bdd": {
      "model_module": "@jupyter-widgets/controls",
      "model_module_version": "1.4.0",
      "model_name": "ButtonModel",
      "state": {
       "button_style": "success",
       "description": "Percentage of Population Unemployed",
       "layout": "IPY_MODEL_9f2352a4400443c89fcbc9780930e054",
       "style": "IPY_MODEL_bd2dc53de3e84041a59e7a7985edf4e7"
      }
     },
     "d3477f4c5ac44cbd9904af1d01954c56": {
      "model_module": "@jupyter-widgets/controls",
      "model_module_version": "1.4.0",
      "model_name": "ButtonModel",
      "state": {
       "button_style": "success",
       "description": "Save Map",
       "layout": "IPY_MODEL_9eba4e85fc7e4bafaef571dcf942751d",
       "style": "IPY_MODEL_361689ab19b6476c86a7bc2fef0d2cd1"
      }
     },
     "d3a4958c07114ef78a1304c85fb5decc": {
      "model_module": "@jupyter-widgets/base",
      "model_module_version": "1.1.0",
      "model_name": "LayoutModel",
      "state": {
       "height": "80px",
       "width": "50%"
      }
     },
     "d423df73179748e980316a7b1ed4826b": {
      "model_module": "@jupyter-widgets/controls",
      "model_module_version": "1.4.0",
      "model_name": "ButtonModel",
      "state": {
       "button_style": "success",
       "description": "Remove Tables from Database",
       "layout": "IPY_MODEL_dd4037a2a9b648e5862eca1f002c17e6",
       "style": "IPY_MODEL_48a44f0de42c4e13a5512a6f397995a7"
      }
     },
     "d46714ea27b245a996c7ef9a5abe4e6d": {
      "model_module": "@jupyter-widgets/controls",
      "model_module_version": "1.4.0",
      "model_name": "ButtonStyleModel",
      "state": {
       "button_color": "lightgreen"
      }
     },
     "d64d576a78c44046b50428b69a39ae63": {
      "model_module": "@jupyter-widgets/base",
      "model_module_version": "1.1.0",
      "model_name": "LayoutModel",
      "state": {
       "height": "40px",
       "width": "50%"
      }
     },
     "d6acd49a404b410db1f228fc2db4ea6c": {
      "model_module": "@jupyter-widgets/controls",
      "model_module_version": "1.4.0",
      "model_name": "ButtonModel",
      "state": {
       "button_style": "success",
       "description": "Create Resilience Map ",
       "layout": "IPY_MODEL_0d8271ca8d9b442e9d069bae2b741625",
       "style": "IPY_MODEL_ee5aae869e3a4727aedfbf58f2ca2621"
      }
     },
     "d79508824dff42beb344c17f4f3df879": {
      "model_module": "@jupyter-widgets/controls",
      "model_module_version": "1.4.0",
      "model_name": "ButtonModel",
      "state": {
       "button_style": "success",
       "description": "Create Resilience Map ",
       "layout": "IPY_MODEL_0963052ee5084693a273093cdad07f22",
       "style": "IPY_MODEL_4b690933f0ef48c48688537078519939"
      }
     },
     "d8a3f0c857e8406589c80b3a2b95fadf": {
      "model_module": "@jupyter-widgets/controls",
      "model_module_version": "1.4.0",
      "model_name": "ButtonModel",
      "state": {
       "button_style": "success",
       "description": "Create Correlation Matrix ",
       "layout": "IPY_MODEL_e13efad057b1405fa6a7ebcbb6b4f6e6",
       "style": "IPY_MODEL_27412e84ecea4ec1a4d7925c3c682f2f"
      }
     },
     "d980e93e38a94e07a46b23405bcc0089": {
      "model_module": "@jupyter-widgets/controls",
      "model_module_version": "1.4.0",
      "model_name": "ButtonStyleModel",
      "state": {}
     },
     "d9c949ccc5d24c5f913f3a278345db30": {
      "model_module": "@jupyter-widgets/base",
      "model_module_version": "1.1.0",
      "model_name": "LayoutModel",
      "state": {
       "height": "80px",
       "width": "98%"
      }
     },
     "d9fcf07d55704a7e87938de6a4c366ac": {
      "model_module": "@jupyter-widgets/base",
      "model_module_version": "1.1.0",
      "model_name": "LayoutModel",
      "state": {
       "height": "80px",
       "width": "50%"
      }
     },
     "da3ad5c4c78a44a5bba6718e30d8f33e": {
      "model_module": "@jupyter-widgets/base",
      "model_module_version": "1.1.0",
      "model_name": "LayoutModel",
      "state": {
       "height": "80px",
       "width": "50%"
      }
     },
     "da53cf1a72504348a3756ecc4c942f03": {
      "model_module": "@jupyter-widgets/controls",
      "model_module_version": "1.4.0",
      "model_name": "ButtonStyleModel",
      "state": {}
     },
     "db3251b5c480435095cbe0147de7cfba": {
      "model_module": "@jupyter-widgets/controls",
      "model_module_version": "1.4.0",
      "model_name": "ButtonModel",
      "state": {
       "button_style": "success",
       "description": "Create Resilience Centroid Map",
       "layout": "IPY_MODEL_fbfecf7b5eed4856845fe7484d8f781f",
       "style": "IPY_MODEL_0d2d81ae151149eb8430c66fd76ac7f3"
      }
     },
     "dc520ccaca654121b32da3176f061efa": {
      "model_module": "@jupyter-widgets/controls",
      "model_module_version": "1.4.0",
      "model_name": "ButtonStyleModel",
      "state": {}
     },
     "dcbc21c2445c4937b6ffb2982fa4550f": {
      "model_module": "@jupyter-widgets/controls",
      "model_module_version": "1.4.0",
      "model_name": "ButtonStyleModel",
      "state": {
       "button_color": "lightgreen"
      }
     },
     "dd4037a2a9b648e5862eca1f002c17e6": {
      "model_module": "@jupyter-widgets/base",
      "model_module_version": "1.1.0",
      "model_name": "LayoutModel",
      "state": {
       "height": "80px",
       "width": "50%"
      }
     },
     "ddaa4ad3f4674af1b333106c87c06180": {
      "model_module": "@jupyter-widgets/controls",
      "model_module_version": "1.4.0",
      "model_name": "ButtonModel",
      "state": {
       "button_style": "success",
       "description": "Save Map",
       "layout": "IPY_MODEL_6a0d2cdc30714537865b5d5fab29463f",
       "style": "IPY_MODEL_f2bb74ad12ca43499583d1ee0b905366"
      }
     },
     "dde54e95d3274d4ebec1f0a102c7e501": {
      "model_module": "@jupyter-widgets/controls",
      "model_module_version": "1.4.0",
      "model_name": "ButtonStyleModel",
      "state": {}
     },
     "e02c6e54532f45a8bfba4c6565cd06a8": {
      "model_module": "@jupyter-widgets/base",
      "model_module_version": "1.1.0",
      "model_name": "LayoutModel",
      "state": {
       "height": "80px",
       "width": "50%"
      }
     },
     "e0d0d6ade6ce4b1ea29c812b9668c95e": {
      "model_module": "@jupyter-widgets/controls",
      "model_module_version": "1.4.0",
      "model_name": "ButtonStyleModel",
      "state": {}
     },
     "e13efad057b1405fa6a7ebcbb6b4f6e6": {
      "model_module": "@jupyter-widgets/base",
      "model_module_version": "1.1.0",
      "model_name": "LayoutModel",
      "state": {
       "height": "80px",
       "width": "50%"
      }
     },
     "e29333eb084a4afb8fabbb807b5326be": {
      "model_module": "@jupyter-widgets/controls",
      "model_module_version": "1.4.0",
      "model_name": "ButtonModel",
      "state": {
       "button_style": "success",
       "description": "Percentage of Population Foreign Born",
       "layout": "IPY_MODEL_652145691955427ab01cd278b7f88a01",
       "style": "IPY_MODEL_9308c2466ca341f88858feeb40bccb36"
      }
     },
     "e38e5cb53e5e4802a3e4ff805bfaa0f3": {
      "model_module": "@jupyter-widgets/controls",
      "model_module_version": "1.4.0",
      "model_name": "ButtonStyleModel",
      "state": {
       "button_color": "lightgreen"
      }
     },
     "e55bf7653efe4047b85fab60437ace98": {
      "model_module": "@jupyter-widgets/controls",
      "model_module_version": "1.4.0",
      "model_name": "ButtonModel",
      "state": {
       "button_style": "success",
       "description": "Percentage of Population Born Outside of the Western Cape",
       "layout": "IPY_MODEL_9e39eef390f742669f03a8d3f85f1d6f",
       "style": "IPY_MODEL_9141adc37e1145e3a14b19a19e3f79c2"
      }
     },
     "e5db518ded724776b38c8a709326a6bd": {
      "model_module": "@jupyter-widgets/base",
      "model_module_version": "1.1.0",
      "model_name": "LayoutModel",
      "state": {
       "height": "80px",
       "width": "50%"
      }
     },
     "e5ee4d21bc4a44ebbf0524d40dfe7ffa": {
      "model_module": "@jupyter-widgets/controls",
      "model_module_version": "1.4.0",
      "model_name": "ButtonModel",
      "state": {
       "button_style": "success",
       "description": "Save Matrix",
       "layout": "IPY_MODEL_d1982f54cf404ede86baaacd43176b24",
       "style": "IPY_MODEL_8a7b291759d84026a1d68ba77f94688a"
      }
     },
     "e670c99722274663999c7c952687f610": {
      "model_module": "@jupyter-widgets/base",
      "model_module_version": "1.1.0",
      "model_name": "LayoutModel",
      "state": {
       "height": "80px",
       "width": "50%"
      }
     },
     "e68e39624d34465a88043c7f597c0ec0": {
      "model_module": "@jupyter-widgets/controls",
      "model_module_version": "1.4.0",
      "model_name": "ButtonModel",
      "state": {
       "button_style": "success",
       "description": "Percentage of Population Migrated in Last 5 Years",
       "layout": "IPY_MODEL_a6d6e3f1ca83458d89c57f750798b1f7",
       "style": "IPY_MODEL_b3a4460cdd1c4e09aa10029d21aa5ace"
      }
     },
     "e6de22da6ae440de8cce1082e028bfb9": {
      "model_module": "@jupyter-widgets/controls",
      "model_module_version": "1.4.0",
      "model_name": "ButtonModel",
      "state": {
       "button_style": "success",
       "description": "Create Census Table in Database",
       "layout": "IPY_MODEL_b1e9447787034349bb3a66aa79c9e7bc",
       "style": "IPY_MODEL_02bcb1a6c8054ae692731e2764340ce8"
      }
     },
     "e722abffd2544f4aafabfb68e5a92392": {
      "model_module": "@jupyter-widgets/base",
      "model_module_version": "1.1.0",
      "model_name": "LayoutModel",
      "state": {
       "height": "80px",
       "width": "98%"
      }
     },
     "e78a10252f024ed3b0584438e20d357d": {
      "model_module": "@jupyter-widgets/controls",
      "model_module_version": "1.4.0",
      "model_name": "ButtonModel",
      "state": {
       "button_style": "success",
       "description": "Create Crime Map using ipyleaflet and Folium",
       "layout": "IPY_MODEL_1ec1256317f643f283d64ad304b81cf4",
       "style": "IPY_MODEL_e0d0d6ade6ce4b1ea29c812b9668c95e"
      }
     },
     "e7b5026daf39417796dd4d62cf2e2e91": {
      "model_module": "@jupyter-widgets/controls",
      "model_module_version": "1.4.0",
      "model_name": "ButtonStyleModel",
      "state": {
       "button_color": "lightgreen"
      }
     },
     "e7e2b2d87f1944dc94a168689d83ad37": {
      "model_module": "@jupyter-widgets/controls",
      "model_module_version": "1.4.0",
      "model_name": "ButtonModel",
      "state": {
       "button_style": "success",
       "description": "Percentage of Population Foreign Born",
       "layout": "IPY_MODEL_28ada45ffafa4de4ad4f7a2135483af1",
       "style": "IPY_MODEL_1f624c806f194110997a52ff0b4edd96"
      }
     },
     "e893ebaa9ddb4978a0b4a14f70b2c478": {
      "model_module": "@jupyter-widgets/controls",
      "model_module_version": "1.4.0",
      "model_name": "ButtonModel",
      "state": {
       "button_style": "success",
       "description": "Import Built Characteristics into Database",
       "layout": "IPY_MODEL_6df01d10b80b4827a65a9499fd69a6e3",
       "style": "IPY_MODEL_2fe8187fd620488ea11a9d0d17b0795d"
      }
     },
     "e8f207303b334f209d5799ff6073770f": {
      "model_module": "@jupyter-widgets/controls",
      "model_module_version": "1.4.0",
      "model_name": "ButtonModel",
      "state": {
       "button_style": "success",
       "description": "Create Crime Map using ipyleaflet and Folium",
       "layout": "IPY_MODEL_3eae74ba7356466e839049c7605ee703",
       "style": "IPY_MODEL_aa40bbe35153406f92204899e11fa3ba"
      }
     },
     "e99d5022bb4c44a2887a3c0d7eb274a2": {
      "model_module": "@jupyter-widgets/base",
      "model_module_version": "1.1.0",
      "model_name": "LayoutModel",
      "state": {
       "height": "40px",
       "width": "50%"
      }
     },
     "eac783293bce4dc5ab62e2e3c698ec30": {
      "model_module": "@jupyter-widgets/base",
      "model_module_version": "1.1.0",
      "model_name": "LayoutModel",
      "state": {
       "height": "80px",
       "width": "50%"
      }
     },
     "eb5802b6e48948b0ab929151d8809625": {
      "model_module": "@jupyter-widgets/controls",
      "model_module_version": "1.4.0",
      "model_name": "ButtonModel",
      "state": {
       "button_style": "success",
       "description": "Calculate Average Distances",
       "layout": "IPY_MODEL_06b1adbc24494b34bec73c35d1c1cfd7",
       "style": "IPY_MODEL_194de90fb78c4931a90fbb42badac004"
      }
     },
     "ec193bd81d584f8090a8fc529c6ed6e3": {
      "model_module": "@jupyter-widgets/controls",
      "model_module_version": "1.4.0",
      "model_name": "ButtonStyleModel",
      "state": {}
     },
     "ec811904d0cb49f99319a98f190a0c6a": {
      "model_module": "@jupyter-widgets/controls",
      "model_module_version": "1.4.0",
      "model_name": "ButtonModel",
      "state": {
       "button_style": "success",
       "description": "Create Crime Count View",
       "layout": "IPY_MODEL_c431493d351340cf9ba3a6d60d2bb64b",
       "style": "IPY_MODEL_069d0026c35e4755bf7c85239a68f26e"
      }
     },
     "ee5aae869e3a4727aedfbf58f2ca2621": {
      "model_module": "@jupyter-widgets/controls",
      "model_module_version": "1.4.0",
      "model_name": "ButtonStyleModel",
      "state": {}
     },
     "f12c41658d164e2a98bf8663e6215815": {
      "model_module": "@jupyter-widgets/base",
      "model_module_version": "1.1.0",
      "model_name": "LayoutModel",
      "state": {
       "height": "80px",
       "width": "50%"
      }
     },
     "f2bb74ad12ca43499583d1ee0b905366": {
      "model_module": "@jupyter-widgets/controls",
      "model_module_version": "1.4.0",
      "model_name": "ButtonStyleModel",
      "state": {
       "button_color": "lightgreen"
      }
     },
     "f2fe911aeb904e9a8c641e2fa8991ef3": {
      "model_module": "@jupyter-widgets/controls",
      "model_module_version": "1.4.0",
      "model_name": "ButtonModel",
      "state": {
       "button_style": "success",
       "description": "Percentage of Population Migrated in Last 5 Years",
       "layout": "IPY_MODEL_0adba8a3f9fc44a78c3e8ef6806f8274",
       "style": "IPY_MODEL_157f34c68c154d40a2e9a2e4147bda11"
      }
     },
     "f526e4a0a71d4f6391c37c9808bae95a": {
      "model_module": "@jupyter-widgets/base",
      "model_module_version": "1.1.0",
      "model_name": "LayoutModel",
      "state": {
       "height": "80px",
       "width": "50%"
      }
     },
     "f5501ba04309486185b279c8512ae918": {
      "model_module": "@jupyter-widgets/base",
      "model_module_version": "1.1.0",
      "model_name": "LayoutModel",
      "state": {
       "height": "80px",
       "width": "98%"
      }
     },
     "f5bbf5b1c2b24277bb669bd871973066": {
      "model_module": "@jupyter-widgets/controls",
      "model_module_version": "1.4.0",
      "model_name": "ButtonModel",
      "state": {
       "button_style": "success",
       "description": "Remove Variables with Correlations Greater than 0.7 ",
       "layout": "IPY_MODEL_116ece32a7934627bd21e89c96449826",
       "style": "IPY_MODEL_ae8ea068b5c14197a93fe1bd05830ecb"
      }
     },
     "f6b292ff01cd40ba9a5a12f02764690e": {
      "model_module": "@jupyter-widgets/controls",
      "model_module_version": "1.4.0",
      "model_name": "ButtonStyleModel",
      "state": {
       "button_color": "lightgreen"
      }
     },
     "f79152f0295744c7af18c32eec707d41": {
      "model_module": "@jupyter-widgets/controls",
      "model_module_version": "1.4.0",
      "model_name": "ButtonStyleModel",
      "state": {}
     },
     "f8ce9df8c80d4c15afc15f65fa34ae2d": {
      "model_module": "@jupyter-widgets/controls",
      "model_module_version": "1.4.0",
      "model_name": "ButtonStyleModel",
      "state": {}
     },
     "fbfecf7b5eed4856845fe7484d8f781f": {
      "model_module": "@jupyter-widgets/base",
      "model_module_version": "1.1.0",
      "model_name": "LayoutModel",
      "state": {
       "height": "80px",
       "width": "50%"
      }
     },
     "fc9f46c35e4541fd97c381acfc787bf7": {
      "model_module": "@jupyter-widgets/controls",
      "model_module_version": "1.4.0",
      "model_name": "ButtonModel",
      "state": {
       "button_style": "success",
       "description": "Create Resilience Map ",
       "layout": "IPY_MODEL_a7d52ea24e1b40a39400126fe950e223",
       "style": "IPY_MODEL_087244252fd14091a621f8c2e94e88cf"
      }
     },
     "fd0e757a7fb04ec2944f652a559c3cfa": {
      "model_module": "@jupyter-widgets/controls",
      "model_module_version": "1.4.0",
      "model_name": "ButtonModel",
      "state": {
       "button_style": "success",
       "description": "Save Population Map",
       "layout": "IPY_MODEL_b7f69a4194824241a8ee3ff3f8bd3b7b",
       "style": "IPY_MODEL_d46714ea27b245a996c7ef9a5abe4e6d"
      }
     },
     "fd143e7488c647d2a0405949d4139029": {
      "model_module": "@jupyter-widgets/controls",
      "model_module_version": "1.4.0",
      "model_name": "ButtonStyleModel",
      "state": {}
     },
     "fff7d87109bd4707a3798175b9d86766": {
      "model_module": "@jupyter-widgets/base",
      "model_module_version": "1.1.0",
      "model_name": "LayoutModel",
      "state": {
       "height": "80px",
       "width": "50%"
      }
     }
    },
    "version_major": 2,
    "version_minor": 0
   }
  }
 },
 "nbformat": 4,
 "nbformat_minor": 2
}
